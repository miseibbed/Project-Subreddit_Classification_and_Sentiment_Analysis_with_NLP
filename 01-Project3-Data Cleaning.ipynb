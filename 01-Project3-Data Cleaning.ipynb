{
 "cells": [
  {
   "cell_type": "markdown",
   "id": "a0ec5ee1-05ba-4e36-a16c-2a317304c50e",
   "metadata": {
    "tags": []
   },
   "source": [
    "# Project 3 -  Web APIs & NLP"
   ]
  },
  {
   "cell_type": "markdown",
   "id": "08e29d25-bc01-46ca-a5fe-e2fc72f25203",
   "metadata": {},
   "source": [
    "## Notebook Summary\n",
    "---\n",
    "This contents of this notebook includes the problem statement, background research, & additional data cleaning."
   ]
  },
  {
   "cell_type": "markdown",
   "id": "3976583a-8a30-443a-8bf3-75c9c959894d",
   "metadata": {
    "tags": []
   },
   "source": [
    "## Problem Statement\n",
    "---"
   ]
  },
  {
   "cell_type": "markdown",
   "id": "4505ce0e-b22e-41fc-a2f3-fe692c9b8d57",
   "metadata": {},
   "source": [
    "A new company is looking to enter the cosmetics market with a focus on skincare. They are looking for insight into what the current skincare trends are to decide on which type of product to develop first and leverage additional data to assist with  customer segmentation and their paid search strategy. I am tasked with analyzing two specific subreddits, AsianBeauty and SkincareAddiction. Based on text data, what ingredients or skin-related issues are top of mind & priority for consumers? Are there differences in text attributes between the two subreddits? I will utilize NLP strategies to create and evaluate binary classification models that correctly classify the subreddit posts. "
   ]
  },
  {
   "cell_type": "markdown",
   "id": "7e1d56b9-9ab8-401d-a2e1-9cff3433395e",
   "metadata": {
    "tags": []
   },
   "source": [
    "## Background & Outside Research\n",
    "---"
   ]
  },
  {
   "cell_type": "markdown",
   "id": "5d363125-cc27-49e1-90c5-21bd61a84d23",
   "metadata": {},
   "source": [
    "**McKinsey - 'Taking a good look at the beauty industry'** ([*source*](https://www.mckinsey.com/industries/retail/our-insights/taking-a-good-look-at-the-beauty-industry))\n",
    "- Sophie Marchessou: It’s important to define what it is, as a retailer or beauty brand, that you want to stand for and what consumer experience you want to provide—and stick to it. The answer doesn’t need to be the same for everyone. There are, depending on your customer targets, features that might be more or less relevant, so it’s not about going after the gimmicky things and having technology enhancements in the store just for the sake of having them. It’s about figuring out, in the consumer journey, what are potential pain points? And how do you then say, “Those three things I’ll prioritize. That will be how I deliver this omnichannel experience.” Then, make sure you trickle that down through the organization so that not just your digital team but also your store team is aware of the experience you want to provide, and explain why it matters.\n",
    "\n",
    "**NPD - 'Empowered Consumers Want Clean Ingredients and Brand Transparency from Skincare Products'** ([*source*](https://www.npd.com/news/press-releases/2019/empowered-consumers-want-clean-ingredients-and-brand-transparency-from-skincare-products/))\n",
    "- “These engaged consumers are looking to become more educated about the ingredients in their skincare regimen, particularly in those more basic products such as cleansers, moisturizers and anti-aging serums,” stated Larissa Jensen, executive director and beauty industry analyst, The NPD Group.\n",
    "- In fact, 46 percent of facial skincare users report purchasing products free of sulfates, phthalates and/or gluten, representing a 6 point up-tick over the past two years. In addition, more than half of women look for skincare products made from organic ingredients. The report also found that brands making a public commitment to ingredient transparency have become top-of-mind for consumers, with several of the more well-known transparent brands ranking among the Top 25 in highest awareness-to-purchase conversions.\n",
    "\n",
    "**NPD - 'More U.S. Women Are Using Facial Skincare Products Today, Reports The NPD Group'** ([*source*](https://www.npd.com/news/press-releases/2020/more-u-s-women-are-using-facial-skincare-products-today-reports-the-npd-group/))\n",
    "- Overall, close to 40% of facial skincare users report using their products more often today. Usage of basic care products such as cleansers and moisturizers, and treatments including exfoliators/scrubs and masks saw the most significant increases since last year.\n",
    "- “Using an average of five products daily, consumers are committed to their baseline facial skincare routine, which includes a combination of basic care and targeted treatments. The effects of COVID-19, including spending more time at home, have brought a greater focus on self-care, and skincare has reaped the benefits.”\n",
    "- Core skincare product sales, including facial cleansers, creams, and serums, grew between 15% and 24%, versus 2020. Sales of targeted products, like eye and lip treatments, also increased. Clinical skincare brands contributed the highest revenue gains to the category. In 2021, clinical surpassed natural as the largest brand type in skincare, based on revenue.\n",
    "\n",
    "**Statista - 'Cosmetics industry - Statistics & Facts'** ([*source*](https://www.statista.com/topics/3137/cosmetics-industry/#topicOverview))\n",
    "- Skincare was the leading category, accounting for about 42 percent of the global cosmetics market (haircare, makeup). \n",
    "\n",
    "**Cleveland Clinic - 'Top Skincare Ingredients'** ([*source*](https://health.clevelandclinic.org/skin-care-ingredients-explained/))\n",
    "- Alpha-hydroxy acids (AHA) - creams, lotions to reduce fine lines and pigmentation\n",
    "- Glycolic acid - exfoliators\n",
    "- Lactic acid - exfoliators, moisturizers\n",
    "- Beta hydroxy acids (salicylic acid) - pore porfectors with BHA\n",
    "- Kojic acid - pigment treatment and age spots\n",
    "- Retinol - improve acne and scarring\n",
    "- L-ascorbic acid (vitamin C)\n",
    "- Hyaluronic acid \n",
    "- Niacinamide (vitamin B3)\n",
    "- Dimethicone second most common ingredient in moisturizers\n",
    "- Copper peptide\n",
    "- Glycerin - lip balms or face creams\n",
    "\n",
    "**Allure - Additional Ingredients** ([*source*](https://www.allure.com/story/how-to-cocktail-skin-care-ingredients))\n",
    "- SPF\n",
    "- beta hydroxy acids (BHAs)\n",
    "- ceramides"
   ]
  },
  {
   "cell_type": "markdown",
   "id": "2a89708f-42ee-4ffb-b2c9-e887f1e47938",
   "metadata": {},
   "source": [
    "### Datasets\n",
    "---\n",
    "\n",
    "There are 2 datasets included in the [`datasets`](./datasets/) folder for this project that I will be using.\n",
    "The data was scraped from Reddit via Pushshift's API. Please refer to jupyter notebook '00-Project3-Pushshift' for more details on scraping data from subreddits.\n",
    "\n",
    "* [`raw_asianbeauty_initial_scrape.csv`](./datasets/raw_asianbeauty_initial_scrape.csv): this dataset has the raw data collected from the 'AsianBeuaty' subreddit\n",
    "* [`raw_skincare_initial_scrape.csv`](./datasets/raw_skincare_initial_scrape): this dataset has the raw data collected from the 'SkincareAddiction' subreddit"
   ]
  },
  {
   "cell_type": "markdown",
   "id": "9a49bdb4-2e1e-4eef-89a8-11a27efb32a2",
   "metadata": {
    "tags": []
   },
   "source": [
    "--- \n",
    "# Part 1 - EDA & Data Cleaning\n",
    "\n",
    "---"
   ]
  },
  {
   "cell_type": "code",
   "execution_count": 1,
   "id": "c1797571-3652-4d4f-a98c-aa559d68dd73",
   "metadata": {},
   "outputs": [],
   "source": [
    "# import packages\n",
    "import pandas as pd\n",
    "import numpy as np\n",
    "import seaborn as sns\n",
    "import matplotlib.pyplot as plt\n",
    "import re\n",
    "import warnings\n",
    "warnings.filterwarnings('ignore')"
   ]
  },
  {
   "cell_type": "code",
   "execution_count": 2,
   "id": "d35f24ee-6670-4f20-ba1b-b0511f3fbda9",
   "metadata": {},
   "outputs": [
    {
     "data": {
      "text/html": [
       "<div>\n",
       "<style scoped>\n",
       "    .dataframe tbody tr th:only-of-type {\n",
       "        vertical-align: middle;\n",
       "    }\n",
       "\n",
       "    .dataframe tbody tr th {\n",
       "        vertical-align: top;\n",
       "    }\n",
       "\n",
       "    .dataframe thead th {\n",
       "        text-align: right;\n",
       "    }\n",
       "</style>\n",
       "<table border=\"1\" class=\"dataframe\">\n",
       "  <thead>\n",
       "    <tr style=\"text-align: right;\">\n",
       "      <th></th>\n",
       "      <th>Unnamed: 0</th>\n",
       "      <th>all_awardings</th>\n",
       "      <th>allow_live_comments</th>\n",
       "      <th>author</th>\n",
       "      <th>author_flair_css_class</th>\n",
       "      <th>author_flair_richtext</th>\n",
       "      <th>author_flair_text</th>\n",
       "      <th>author_flair_type</th>\n",
       "      <th>author_fullname</th>\n",
       "      <th>author_is_blocked</th>\n",
       "      <th>...</th>\n",
       "      <th>crosspost_parent</th>\n",
       "      <th>crosspost_parent_list</th>\n",
       "      <th>steward_reports</th>\n",
       "      <th>removed_by</th>\n",
       "      <th>updated_utc</th>\n",
       "      <th>rte_mode</th>\n",
       "      <th>brand_safe</th>\n",
       "      <th>approved_at_utc</th>\n",
       "      <th>banned_at_utc</th>\n",
       "      <th>author_created_utc</th>\n",
       "    </tr>\n",
       "  </thead>\n",
       "  <tbody>\n",
       "    <tr>\n",
       "      <th>0</th>\n",
       "      <td>0</td>\n",
       "      <td>[]</td>\n",
       "      <td>False</td>\n",
       "      <td>doyoufeelspeciallmao</td>\n",
       "      <td>NaN</td>\n",
       "      <td>[]</td>\n",
       "      <td>NaN</td>\n",
       "      <td>text</td>\n",
       "      <td>t2_75epmpji</td>\n",
       "      <td>False</td>\n",
       "      <td>...</td>\n",
       "      <td>NaN</td>\n",
       "      <td>NaN</td>\n",
       "      <td>NaN</td>\n",
       "      <td>NaN</td>\n",
       "      <td>NaN</td>\n",
       "      <td>NaN</td>\n",
       "      <td>NaN</td>\n",
       "      <td>NaN</td>\n",
       "      <td>NaN</td>\n",
       "      <td>NaN</td>\n",
       "    </tr>\n",
       "    <tr>\n",
       "      <th>1</th>\n",
       "      <td>1</td>\n",
       "      <td>[]</td>\n",
       "      <td>False</td>\n",
       "      <td>horny_twink_bottomm</td>\n",
       "      <td>NaN</td>\n",
       "      <td>[]</td>\n",
       "      <td>NaN</td>\n",
       "      <td>text</td>\n",
       "      <td>t2_qur9fy2h</td>\n",
       "      <td>False</td>\n",
       "      <td>...</td>\n",
       "      <td>NaN</td>\n",
       "      <td>NaN</td>\n",
       "      <td>NaN</td>\n",
       "      <td>NaN</td>\n",
       "      <td>NaN</td>\n",
       "      <td>NaN</td>\n",
       "      <td>NaN</td>\n",
       "      <td>NaN</td>\n",
       "      <td>NaN</td>\n",
       "      <td>NaN</td>\n",
       "    </tr>\n",
       "    <tr>\n",
       "      <th>2</th>\n",
       "      <td>2</td>\n",
       "      <td>[]</td>\n",
       "      <td>False</td>\n",
       "      <td>Missy_Pantone</td>\n",
       "      <td>NaN</td>\n",
       "      <td>[]</td>\n",
       "      <td>NaN</td>\n",
       "      <td>text</td>\n",
       "      <td>t2_6mc5kcji</td>\n",
       "      <td>False</td>\n",
       "      <td>...</td>\n",
       "      <td>NaN</td>\n",
       "      <td>NaN</td>\n",
       "      <td>NaN</td>\n",
       "      <td>NaN</td>\n",
       "      <td>NaN</td>\n",
       "      <td>NaN</td>\n",
       "      <td>NaN</td>\n",
       "      <td>NaN</td>\n",
       "      <td>NaN</td>\n",
       "      <td>NaN</td>\n",
       "    </tr>\n",
       "    <tr>\n",
       "      <th>3</th>\n",
       "      <td>3</td>\n",
       "      <td>[]</td>\n",
       "      <td>False</td>\n",
       "      <td>H-yaRayPark</td>\n",
       "      <td>NaN</td>\n",
       "      <td>[]</td>\n",
       "      <td>NaN</td>\n",
       "      <td>text</td>\n",
       "      <td>t2_ceyhuule</td>\n",
       "      <td>False</td>\n",
       "      <td>...</td>\n",
       "      <td>NaN</td>\n",
       "      <td>NaN</td>\n",
       "      <td>NaN</td>\n",
       "      <td>NaN</td>\n",
       "      <td>NaN</td>\n",
       "      <td>NaN</td>\n",
       "      <td>NaN</td>\n",
       "      <td>NaN</td>\n",
       "      <td>NaN</td>\n",
       "      <td>NaN</td>\n",
       "    </tr>\n",
       "    <tr>\n",
       "      <th>4</th>\n",
       "      <td>4</td>\n",
       "      <td>[]</td>\n",
       "      <td>False</td>\n",
       "      <td>acaipie</td>\n",
       "      <td>NaN</td>\n",
       "      <td>[]</td>\n",
       "      <td>NaN</td>\n",
       "      <td>text</td>\n",
       "      <td>t2_3006tlol</td>\n",
       "      <td>False</td>\n",
       "      <td>...</td>\n",
       "      <td>NaN</td>\n",
       "      <td>NaN</td>\n",
       "      <td>NaN</td>\n",
       "      <td>NaN</td>\n",
       "      <td>NaN</td>\n",
       "      <td>NaN</td>\n",
       "      <td>NaN</td>\n",
       "      <td>NaN</td>\n",
       "      <td>NaN</td>\n",
       "      <td>NaN</td>\n",
       "    </tr>\n",
       "  </tbody>\n",
       "</table>\n",
       "<p>5 rows × 95 columns</p>\n",
       "</div>"
      ],
      "text/plain": [
       "   Unnamed: 0 all_awardings allow_live_comments                author  \\\n",
       "0           0            []               False  doyoufeelspeciallmao   \n",
       "1           1            []               False   horny_twink_bottomm   \n",
       "2           2            []               False         Missy_Pantone   \n",
       "3           3            []               False           H-yaRayPark   \n",
       "4           4            []               False               acaipie   \n",
       "\n",
       "  author_flair_css_class author_flair_richtext author_flair_text  \\\n",
       "0                    NaN                    []               NaN   \n",
       "1                    NaN                    []               NaN   \n",
       "2                    NaN                    []               NaN   \n",
       "3                    NaN                    []               NaN   \n",
       "4                    NaN                    []               NaN   \n",
       "\n",
       "  author_flair_type author_fullname author_is_blocked  ... crosspost_parent  \\\n",
       "0              text     t2_75epmpji             False  ...              NaN   \n",
       "1              text     t2_qur9fy2h             False  ...              NaN   \n",
       "2              text     t2_6mc5kcji             False  ...              NaN   \n",
       "3              text     t2_ceyhuule             False  ...              NaN   \n",
       "4              text     t2_3006tlol             False  ...              NaN   \n",
       "\n",
       "  crosspost_parent_list steward_reports removed_by updated_utc  rte_mode  \\\n",
       "0                   NaN             NaN        NaN         NaN       NaN   \n",
       "1                   NaN             NaN        NaN         NaN       NaN   \n",
       "2                   NaN             NaN        NaN         NaN       NaN   \n",
       "3                   NaN             NaN        NaN         NaN       NaN   \n",
       "4                   NaN             NaN        NaN         NaN       NaN   \n",
       "\n",
       "  brand_safe approved_at_utc banned_at_utc author_created_utc  \n",
       "0        NaN             NaN           NaN                NaN  \n",
       "1        NaN             NaN           NaN                NaN  \n",
       "2        NaN             NaN           NaN                NaN  \n",
       "3        NaN             NaN           NaN                NaN  \n",
       "4        NaN             NaN           NaN                NaN  \n",
       "\n",
       "[5 rows x 95 columns]"
      ]
     },
     "execution_count": 2,
     "metadata": {},
     "output_type": "execute_result"
    }
   ],
   "source": [
    "# read in the data\n",
    "beauty_df = pd.read_csv('datasets/raw_asianbeauty_initial_scrape.csv')\n",
    "beauty_df.head()"
   ]
  },
  {
   "cell_type": "code",
   "execution_count": 3,
   "id": "8676a4d5-656c-4f38-8b83-f3e6e8792dda",
   "metadata": {},
   "outputs": [
    {
     "data": {
      "text/html": [
       "<div>\n",
       "<style scoped>\n",
       "    .dataframe tbody tr th:only-of-type {\n",
       "        vertical-align: middle;\n",
       "    }\n",
       "\n",
       "    .dataframe tbody tr th {\n",
       "        vertical-align: top;\n",
       "    }\n",
       "\n",
       "    .dataframe thead th {\n",
       "        text-align: right;\n",
       "    }\n",
       "</style>\n",
       "<table border=\"1\" class=\"dataframe\">\n",
       "  <thead>\n",
       "    <tr style=\"text-align: right;\">\n",
       "      <th></th>\n",
       "      <th>Unnamed: 0</th>\n",
       "      <th>all_awardings</th>\n",
       "      <th>allow_live_comments</th>\n",
       "      <th>author</th>\n",
       "      <th>author_flair_css_class</th>\n",
       "      <th>author_flair_richtext</th>\n",
       "      <th>author_flair_template_id</th>\n",
       "      <th>author_flair_text</th>\n",
       "      <th>author_flair_text_color</th>\n",
       "      <th>author_flair_type</th>\n",
       "      <th>...</th>\n",
       "      <th>updated_utc</th>\n",
       "      <th>gilded</th>\n",
       "      <th>rte_mode</th>\n",
       "      <th>brand_safe</th>\n",
       "      <th>distinguished</th>\n",
       "      <th>approved_at_utc</th>\n",
       "      <th>author_created_utc</th>\n",
       "      <th>banned_at_utc</th>\n",
       "      <th>mod_reports</th>\n",
       "      <th>user_reports</th>\n",
       "    </tr>\n",
       "  </thead>\n",
       "  <tbody>\n",
       "    <tr>\n",
       "      <th>0</th>\n",
       "      <td>0</td>\n",
       "      <td>[]</td>\n",
       "      <td>False</td>\n",
       "      <td>yuura1</td>\n",
       "      <td>notag</td>\n",
       "      <td>[]</td>\n",
       "      <td>4d48f1aa-6c35-11e9-81f1-0acf30770a48</td>\n",
       "      <td>NaN</td>\n",
       "      <td>dark</td>\n",
       "      <td>text</td>\n",
       "      <td>...</td>\n",
       "      <td>NaN</td>\n",
       "      <td>NaN</td>\n",
       "      <td>NaN</td>\n",
       "      <td>NaN</td>\n",
       "      <td>NaN</td>\n",
       "      <td>NaN</td>\n",
       "      <td>NaN</td>\n",
       "      <td>NaN</td>\n",
       "      <td>NaN</td>\n",
       "      <td>NaN</td>\n",
       "    </tr>\n",
       "    <tr>\n",
       "      <th>1</th>\n",
       "      <td>1</td>\n",
       "      <td>[]</td>\n",
       "      <td>False</td>\n",
       "      <td>SKKKKRRT2</td>\n",
       "      <td>NaN</td>\n",
       "      <td>[]</td>\n",
       "      <td>NaN</td>\n",
       "      <td>NaN</td>\n",
       "      <td>NaN</td>\n",
       "      <td>text</td>\n",
       "      <td>...</td>\n",
       "      <td>NaN</td>\n",
       "      <td>NaN</td>\n",
       "      <td>NaN</td>\n",
       "      <td>NaN</td>\n",
       "      <td>NaN</td>\n",
       "      <td>NaN</td>\n",
       "      <td>NaN</td>\n",
       "      <td>NaN</td>\n",
       "      <td>NaN</td>\n",
       "      <td>NaN</td>\n",
       "    </tr>\n",
       "    <tr>\n",
       "      <th>2</th>\n",
       "      <td>2</td>\n",
       "      <td>[]</td>\n",
       "      <td>False</td>\n",
       "      <td>goldpunch</td>\n",
       "      <td>notag</td>\n",
       "      <td>[]</td>\n",
       "      <td>4d48f1aa-6c35-11e9-81f1-0acf30770a48</td>\n",
       "      <td>NaN</td>\n",
       "      <td>dark</td>\n",
       "      <td>text</td>\n",
       "      <td>...</td>\n",
       "      <td>NaN</td>\n",
       "      <td>NaN</td>\n",
       "      <td>NaN</td>\n",
       "      <td>NaN</td>\n",
       "      <td>NaN</td>\n",
       "      <td>NaN</td>\n",
       "      <td>NaN</td>\n",
       "      <td>NaN</td>\n",
       "      <td>NaN</td>\n",
       "      <td>NaN</td>\n",
       "    </tr>\n",
       "    <tr>\n",
       "      <th>3</th>\n",
       "      <td>3</td>\n",
       "      <td>[]</td>\n",
       "      <td>False</td>\n",
       "      <td>Levangeline</td>\n",
       "      <td>notag</td>\n",
       "      <td>[]</td>\n",
       "      <td>4d48f1aa-6c35-11e9-81f1-0acf30770a48</td>\n",
       "      <td>NaN</td>\n",
       "      <td>dark</td>\n",
       "      <td>text</td>\n",
       "      <td>...</td>\n",
       "      <td>NaN</td>\n",
       "      <td>NaN</td>\n",
       "      <td>NaN</td>\n",
       "      <td>NaN</td>\n",
       "      <td>NaN</td>\n",
       "      <td>NaN</td>\n",
       "      <td>NaN</td>\n",
       "      <td>NaN</td>\n",
       "      <td>NaN</td>\n",
       "      <td>NaN</td>\n",
       "    </tr>\n",
       "    <tr>\n",
       "      <th>4</th>\n",
       "      <td>4</td>\n",
       "      <td>[]</td>\n",
       "      <td>False</td>\n",
       "      <td>snd1zzi</td>\n",
       "      <td>notag</td>\n",
       "      <td>[]</td>\n",
       "      <td>4d48f1aa-6c35-11e9-81f1-0acf30770a48</td>\n",
       "      <td>NaN</td>\n",
       "      <td>dark</td>\n",
       "      <td>text</td>\n",
       "      <td>...</td>\n",
       "      <td>NaN</td>\n",
       "      <td>NaN</td>\n",
       "      <td>NaN</td>\n",
       "      <td>NaN</td>\n",
       "      <td>NaN</td>\n",
       "      <td>NaN</td>\n",
       "      <td>NaN</td>\n",
       "      <td>NaN</td>\n",
       "      <td>NaN</td>\n",
       "      <td>NaN</td>\n",
       "    </tr>\n",
       "  </tbody>\n",
       "</table>\n",
       "<p>5 rows × 97 columns</p>\n",
       "</div>"
      ],
      "text/plain": [
       "   Unnamed: 0 all_awardings allow_live_comments       author  \\\n",
       "0           0            []               False       yuura1   \n",
       "1           1            []               False    SKKKKRRT2   \n",
       "2           2            []               False    goldpunch   \n",
       "3           3            []               False  Levangeline   \n",
       "4           4            []               False      snd1zzi   \n",
       "\n",
       "  author_flair_css_class author_flair_richtext  \\\n",
       "0                  notag                    []   \n",
       "1                    NaN                    []   \n",
       "2                  notag                    []   \n",
       "3                  notag                    []   \n",
       "4                  notag                    []   \n",
       "\n",
       "               author_flair_template_id author_flair_text  \\\n",
       "0  4d48f1aa-6c35-11e9-81f1-0acf30770a48               NaN   \n",
       "1                                   NaN               NaN   \n",
       "2  4d48f1aa-6c35-11e9-81f1-0acf30770a48               NaN   \n",
       "3  4d48f1aa-6c35-11e9-81f1-0acf30770a48               NaN   \n",
       "4  4d48f1aa-6c35-11e9-81f1-0acf30770a48               NaN   \n",
       "\n",
       "  author_flair_text_color author_flair_type  ... updated_utc gilded rte_mode  \\\n",
       "0                    dark              text  ...         NaN    NaN      NaN   \n",
       "1                     NaN              text  ...         NaN    NaN      NaN   \n",
       "2                    dark              text  ...         NaN    NaN      NaN   \n",
       "3                    dark              text  ...         NaN    NaN      NaN   \n",
       "4                    dark              text  ...         NaN    NaN      NaN   \n",
       "\n",
       "  brand_safe distinguished approved_at_utc author_created_utc  banned_at_utc  \\\n",
       "0        NaN           NaN             NaN                NaN            NaN   \n",
       "1        NaN           NaN             NaN                NaN            NaN   \n",
       "2        NaN           NaN             NaN                NaN            NaN   \n",
       "3        NaN           NaN             NaN                NaN            NaN   \n",
       "4        NaN           NaN             NaN                NaN            NaN   \n",
       "\n",
       "  mod_reports user_reports  \n",
       "0         NaN          NaN  \n",
       "1         NaN          NaN  \n",
       "2         NaN          NaN  \n",
       "3         NaN          NaN  \n",
       "4         NaN          NaN  \n",
       "\n",
       "[5 rows x 97 columns]"
      ]
     },
     "execution_count": 3,
     "metadata": {},
     "output_type": "execute_result"
    }
   ],
   "source": [
    "# read in the data\n",
    "skincare_df = pd.read_csv('datasets/raw_skincare_initial_scrape.csv')\n",
    "skincare_df.head()"
   ]
  },
  {
   "cell_type": "code",
   "execution_count": 4,
   "id": "da22d190-68c0-4df2-990b-898fb46be0d7",
   "metadata": {},
   "outputs": [],
   "source": [
    "#only pulling cols I need and reassigning to new df\n",
    "beauty = beauty_df[['author','selftext','title']]\n",
    "skincare = skincare_df[['author','selftext','title']]"
   ]
  },
  {
   "cell_type": "code",
   "execution_count": 5,
   "id": "e3ee5c86-7a00-43af-bb58-220d5d3fbe8d",
   "metadata": {},
   "outputs": [
    {
     "name": "stdout",
     "output_type": "stream",
     "text": [
      "(50076, 3)\n",
      "(50090, 3)\n"
     ]
    }
   ],
   "source": [
    "print(beauty.shape)\n",
    "print(skincare.shape)"
   ]
  },
  {
   "cell_type": "code",
   "execution_count": 6,
   "id": "f2f98756-7eed-4ee6-b27d-6fd634ec6ee9",
   "metadata": {},
   "outputs": [
    {
     "data": {
      "text/html": [
       "<div>\n",
       "<style scoped>\n",
       "    .dataframe tbody tr th:only-of-type {\n",
       "        vertical-align: middle;\n",
       "    }\n",
       "\n",
       "    .dataframe tbody tr th {\n",
       "        vertical-align: top;\n",
       "    }\n",
       "\n",
       "    .dataframe thead th {\n",
       "        text-align: right;\n",
       "    }\n",
       "</style>\n",
       "<table border=\"1\" class=\"dataframe\">\n",
       "  <thead>\n",
       "    <tr style=\"text-align: right;\">\n",
       "      <th></th>\n",
       "      <th>author</th>\n",
       "      <th>selftext</th>\n",
       "      <th>title</th>\n",
       "    </tr>\n",
       "  </thead>\n",
       "  <tbody>\n",
       "    <tr>\n",
       "      <th>0</th>\n",
       "      <td>yuura1</td>\n",
       "      <td>Hello, i have self harm scars that are not dee...</td>\n",
       "      <td>[Product request] self harm scar help</td>\n",
       "    </tr>\n",
       "    <tr>\n",
       "      <th>1</th>\n",
       "      <td>SKKKKRRT2</td>\n",
       "      <td>NaN</td>\n",
       "      <td>29 y.o F, was on Orilissa, a GnRH antagonist. ...</td>\n",
       "    </tr>\n",
       "    <tr>\n",
       "      <th>2</th>\n",
       "      <td>goldpunch</td>\n",
       "      <td>I am searching vitamin v serums right now. I s...</td>\n",
       "      <td>[Product Question] liposamal vitamin c vs asco...</td>\n",
       "    </tr>\n",
       "    <tr>\n",
       "      <th>3</th>\n",
       "      <td>Levangeline</td>\n",
       "      <td>[removed]</td>\n",
       "      <td>My skin, fresh out of the shower. Shiny, red n...</td>\n",
       "    </tr>\n",
       "    <tr>\n",
       "      <th>4</th>\n",
       "      <td>snd1zzi</td>\n",
       "      <td>NaN</td>\n",
       "      <td>can anyone tell me what these bumps are on my ...</td>\n",
       "    </tr>\n",
       "  </tbody>\n",
       "</table>\n",
       "</div>"
      ],
      "text/plain": [
       "        author                                           selftext  \\\n",
       "0       yuura1  Hello, i have self harm scars that are not dee...   \n",
       "1    SKKKKRRT2                                                NaN   \n",
       "2    goldpunch  I am searching vitamin v serums right now. I s...   \n",
       "3  Levangeline                                          [removed]   \n",
       "4      snd1zzi                                                NaN   \n",
       "\n",
       "                                               title  \n",
       "0              [Product request] self harm scar help  \n",
       "1  29 y.o F, was on Orilissa, a GnRH antagonist. ...  \n",
       "2  [Product Question] liposamal vitamin c vs asco...  \n",
       "3  My skin, fresh out of the shower. Shiny, red n...  \n",
       "4  can anyone tell me what these bumps are on my ...  "
      ]
     },
     "execution_count": 6,
     "metadata": {},
     "output_type": "execute_result"
    }
   ],
   "source": [
    "skincare.head()"
   ]
  },
  {
   "cell_type": "code",
   "execution_count": 7,
   "id": "06601115-e9cb-4778-8be6-279679c00bbd",
   "metadata": {},
   "outputs": [
    {
     "data": {
      "text/html": [
       "<div>\n",
       "<style scoped>\n",
       "    .dataframe tbody tr th:only-of-type {\n",
       "        vertical-align: middle;\n",
       "    }\n",
       "\n",
       "    .dataframe tbody tr th {\n",
       "        vertical-align: top;\n",
       "    }\n",
       "\n",
       "    .dataframe thead th {\n",
       "        text-align: right;\n",
       "    }\n",
       "</style>\n",
       "<table border=\"1\" class=\"dataframe\">\n",
       "  <thead>\n",
       "    <tr style=\"text-align: right;\">\n",
       "      <th></th>\n",
       "      <th>author</th>\n",
       "      <th>selftext</th>\n",
       "      <th>title</th>\n",
       "    </tr>\n",
       "  </thead>\n",
       "  <tbody>\n",
       "    <tr>\n",
       "      <th>0</th>\n",
       "      <td>doyoufeelspeciallmao</td>\n",
       "      <td>[removed]</td>\n",
       "      <td>I love PyunKang Yul but the amount of products...</td>\n",
       "    </tr>\n",
       "    <tr>\n",
       "      <th>1</th>\n",
       "      <td>horny_twink_bottomm</td>\n",
       "      <td>[removed]</td>\n",
       "      <td>i left my cicaplast baume b5+ in my bathroom. ...</td>\n",
       "    </tr>\n",
       "    <tr>\n",
       "      <th>2</th>\n",
       "      <td>Missy_Pantone</td>\n",
       "      <td>NaN</td>\n",
       "      <td>Does anyone have experience with Sidmool Sacch...</td>\n",
       "    </tr>\n",
       "    <tr>\n",
       "      <th>3</th>\n",
       "      <td>H-yaRayPark</td>\n",
       "      <td>[removed]</td>\n",
       "      <td>Beauty of joseon sunscreen made me purple when...</td>\n",
       "    </tr>\n",
       "    <tr>\n",
       "      <th>4</th>\n",
       "      <td>acaipie</td>\n",
       "      <td>[removed]</td>\n",
       "      <td>need sunscreen help! (BoJ, biore uv didn’t wor...</td>\n",
       "    </tr>\n",
       "  </tbody>\n",
       "</table>\n",
       "</div>"
      ],
      "text/plain": [
       "                 author   selftext  \\\n",
       "0  doyoufeelspeciallmao  [removed]   \n",
       "1   horny_twink_bottomm  [removed]   \n",
       "2         Missy_Pantone        NaN   \n",
       "3           H-yaRayPark  [removed]   \n",
       "4               acaipie  [removed]   \n",
       "\n",
       "                                               title  \n",
       "0  I love PyunKang Yul but the amount of products...  \n",
       "1  i left my cicaplast baume b5+ in my bathroom. ...  \n",
       "2  Does anyone have experience with Sidmool Sacch...  \n",
       "3  Beauty of joseon sunscreen made me purple when...  \n",
       "4  need sunscreen help! (BoJ, biore uv didn’t wor...  "
      ]
     },
     "execution_count": 7,
     "metadata": {},
     "output_type": "execute_result"
    }
   ],
   "source": [
    "beauty.head()"
   ]
  },
  {
   "cell_type": "markdown",
   "id": "21628c25-80c6-44e3-a69c-f5e61704c62c",
   "metadata": {},
   "source": [
    "### Checking for Nulls"
   ]
  },
  {
   "cell_type": "code",
   "execution_count": 8,
   "id": "92fa7cb5-a340-43f9-b549-467da3d1a532",
   "metadata": {},
   "outputs": [
    {
     "data": {
      "text/plain": [
       "author         0\n",
       "selftext    8442\n",
       "title          0\n",
       "dtype: int64"
      ]
     },
     "execution_count": 8,
     "metadata": {},
     "output_type": "execute_result"
    }
   ],
   "source": [
    "skincare.isna().sum()"
   ]
  },
  {
   "cell_type": "code",
   "execution_count": 9,
   "id": "825accb2-fb80-48f8-8d3c-b221b9a60b83",
   "metadata": {},
   "outputs": [
    {
     "data": {
      "text/plain": [
       "author          0\n",
       "selftext    20434\n",
       "title           0\n",
       "dtype: int64"
      ]
     },
     "execution_count": 9,
     "metadata": {},
     "output_type": "execute_result"
    }
   ],
   "source": [
    "beauty.isna().sum()"
   ]
  },
  {
   "cell_type": "code",
   "execution_count": 10,
   "id": "794fe26e-cbbf-47cb-a906-6f949ca04318",
   "metadata": {},
   "outputs": [],
   "source": [
    "# replace NaNs with empty strings\n",
    "skincare.replace(np.NaN, '', inplace=True)\n",
    "beauty.replace(np.NaN, '', inplace=True)"
   ]
  },
  {
   "cell_type": "markdown",
   "id": "61a30861-eb23-489b-a5a0-fb9013cc8036",
   "metadata": {},
   "source": [
    "### Removing posts that were removed by reddit or the moderator"
   ]
  },
  {
   "cell_type": "code",
   "execution_count": 11,
   "id": "c31a8159-e8f8-40e4-b220-e16907ad8e09",
   "metadata": {},
   "outputs": [],
   "source": [
    "#drop rows where selftext contains removed\n",
    "skincare = skincare[~skincare['selftext'].str.contains('\\[removed\\]')]\n",
    "\n",
    "# # drop rows where selftext contains deleted\n",
    "skincare = skincare[~skincare['selftext'].str.contains('\\[deleted\\]')]"
   ]
  },
  {
   "cell_type": "code",
   "execution_count": 12,
   "id": "8180024f-1dba-4442-8b15-0a64065cf4fe",
   "metadata": {},
   "outputs": [],
   "source": [
    "#drop rows where selftext contains removed\n",
    "beauty = beauty[~beauty['selftext'].str.contains('\\[removed\\]')]\n",
    "\n",
    "# # drop rows where selftext contains deleted\n",
    "beauty = beauty[~beauty['selftext'].str.contains('\\[deleted\\]')]"
   ]
  },
  {
   "cell_type": "code",
   "execution_count": 13,
   "id": "3744939d-0213-4c62-ba77-60e916b5a32c",
   "metadata": {},
   "outputs": [
    {
     "name": "stdout",
     "output_type": "stream",
     "text": [
      "(46660, 3)\n",
      "(44743, 3)\n"
     ]
    }
   ],
   "source": [
    "print(skincare.shape)\n",
    "print(beauty.shape)"
   ]
  },
  {
   "cell_type": "markdown",
   "id": "842bd573-6774-4194-be6e-7169378be31e",
   "metadata": {},
   "source": [
    "### Removing posts by the moderators"
   ]
  },
  {
   "cell_type": "code",
   "execution_count": 14,
   "id": "f8b44de2-1ecc-435b-946e-78690ec6e717",
   "metadata": {},
   "outputs": [],
   "source": [
    "#list of mods for each sub\n",
    "\n",
    "beauty_mods = ['thecakepie', 'AutoModerator', 'AsianBeautyMod', 'Ronrinesu', 'kitty_paw', 'fjordling_', 'beelzeybob',\n",
    "               'justherefortheAB', 'Khalano', 'weavesunlight']\n",
    "\n",
    "skincare_mods = ['buttermilk_biscuit', '_ihavemanynames_', 'TertiaryPumpkin', 'sunscreenpuppy',\n",
    "                 'ScA_Bot', 'ScAModerator', 'AutoModerator', 'mastiii',\n",
    "                 'jasminekitten02', 'mayamys']"
   ]
  },
  {
   "cell_type": "code",
   "execution_count": 15,
   "id": "318e5197-7975-4120-9fcd-903fbb55232e",
   "metadata": {
    "tags": []
   },
   "outputs": [
    {
     "name": "stdout",
     "output_type": "stream",
     "text": [
      "(44046, 3)\n",
      "(46634, 3)\n"
     ]
    }
   ],
   "source": [
    "beauty = beauty[~beauty['author'].isin(beauty_mods)]\n",
    "skincare = skincare[~skincare['author'].isin(skincare_mods)]\n",
    "print(beauty.shape)\n",
    "print(skincare.shape)"
   ]
  },
  {
   "cell_type": "markdown",
   "id": "8b9c9ee9-1acf-4c0b-8955-e43caff12a14",
   "metadata": {},
   "source": [
    "### Create a new column that concatenates text & selftext ###\n",
    "Chose to do this because there were posts where the title itself was the content of the post"
   ]
  },
  {
   "cell_type": "code",
   "execution_count": 16,
   "id": "506fa35a-6340-4d5c-b248-171c92f3949b",
   "metadata": {},
   "outputs": [],
   "source": [
    "beauty['text'] = beauty['title'] + ' - ' + beauty['selftext']\n",
    "skincare['text'] = skincare['title'] + ' - ' + skincare['selftext']"
   ]
  },
  {
   "cell_type": "code",
   "execution_count": 17,
   "id": "45cb1fe5-06a1-4b23-97ea-f547269b4b33",
   "metadata": {},
   "outputs": [],
   "source": [
    "#remove ' - ' from ends to make sure character & word count are accurate\n",
    "beauty['text_cleaned'] = [txt.rstrip(' - ') for txt in beauty['text']]\n",
    "#remove '-' from ends\n",
    "skincare['text_cleaned'] = [txt.rstrip(' - ') for txt in skincare['text']]"
   ]
  },
  {
   "cell_type": "markdown",
   "id": "2724e9f5-7457-4e21-a019-b993b0db5ff2",
   "metadata": {},
   "source": [
    "### Drop duplicate submissions"
   ]
  },
  {
   "cell_type": "code",
   "execution_count": 18,
   "id": "e3afffc5-1a96-45ac-b55e-6a7d2f436e65",
   "metadata": {},
   "outputs": [
    {
     "data": {
      "text/plain": [
       "(8186, 5)"
      ]
     },
     "execution_count": 18,
     "metadata": {},
     "output_type": "execute_result"
    }
   ],
   "source": [
    "skincare.drop_duplicates(subset='text', inplace=True)\n",
    "skincare.shape"
   ]
  },
  {
   "cell_type": "code",
   "execution_count": 19,
   "id": "226cf5e4-ad17-40a4-b0ec-827fe26fb7c9",
   "metadata": {},
   "outputs": [
    {
     "data": {
      "text/plain": [
       "(5897, 5)"
      ]
     },
     "execution_count": 19,
     "metadata": {},
     "output_type": "execute_result"
    }
   ],
   "source": [
    "beauty.drop_duplicates(subset='text', inplace=True)\n",
    "beauty.shape"
   ]
  },
  {
   "cell_type": "markdown",
   "id": "d5670827-268d-46a1-a3fc-20497c7c222e",
   "metadata": {},
   "source": [
    "### Filter out texts that are very short"
   ]
  },
  {
   "cell_type": "markdown",
   "id": "a35c26e0-6ef5-4400-8a5a-f846c3d815ff",
   "metadata": {},
   "source": [
    "#### Create text_length column"
   ]
  },
  {
   "cell_type": "code",
   "execution_count": 20,
   "id": "a5cecd5f-0304-4b0c-89e1-3050d82e136b",
   "metadata": {},
   "outputs": [],
   "source": [
    "#create a new column with length of text (characters)\n",
    "beauty['text_length'] = [len(st) for st in beauty['text']]\n",
    "skincare['text_length'] = [len(st) for st in skincare['text']]"
   ]
  },
  {
   "cell_type": "code",
   "execution_count": 21,
   "id": "bde2bab3-0ce3-4805-a020-a3d521e9ba93",
   "metadata": {},
   "outputs": [
    {
     "data": {
      "text/html": [
       "<div>\n",
       "<style scoped>\n",
       "    .dataframe tbody tr th:only-of-type {\n",
       "        vertical-align: middle;\n",
       "    }\n",
       "\n",
       "    .dataframe tbody tr th {\n",
       "        vertical-align: top;\n",
       "    }\n",
       "\n",
       "    .dataframe thead th {\n",
       "        text-align: right;\n",
       "    }\n",
       "</style>\n",
       "<table border=\"1\" class=\"dataframe\">\n",
       "  <thead>\n",
       "    <tr style=\"text-align: right;\">\n",
       "      <th></th>\n",
       "      <th>author</th>\n",
       "      <th>selftext</th>\n",
       "      <th>title</th>\n",
       "      <th>text</th>\n",
       "      <th>text_cleaned</th>\n",
       "      <th>text_length</th>\n",
       "    </tr>\n",
       "  </thead>\n",
       "  <tbody>\n",
       "    <tr>\n",
       "      <th>2</th>\n",
       "      <td>Missy_Pantone</td>\n",
       "      <td></td>\n",
       "      <td>Does anyone have experience with Sidmool Sacch...</td>\n",
       "      <td>Does anyone have experience with Sidmool Sacch...</td>\n",
       "      <td>Does anyone have experience with Sidmool Sacch...</td>\n",
       "      <td>83</td>\n",
       "    </tr>\n",
       "  </tbody>\n",
       "</table>\n",
       "</div>"
      ],
      "text/plain": [
       "          author selftext                                              title  \\\n",
       "2  Missy_Pantone           Does anyone have experience with Sidmool Sacch...   \n",
       "\n",
       "                                                text  \\\n",
       "2  Does anyone have experience with Sidmool Sacch...   \n",
       "\n",
       "                                        text_cleaned  text_length  \n",
       "2  Does anyone have experience with Sidmool Sacch...           83  "
      ]
     },
     "execution_count": 21,
     "metadata": {},
     "output_type": "execute_result"
    }
   ],
   "source": [
    "beauty.head(1)"
   ]
  },
  {
   "cell_type": "code",
   "execution_count": 22,
   "id": "af44c793-e4aa-45ab-9a45-91637f6dc6a3",
   "metadata": {},
   "outputs": [
    {
     "data": {
      "text/html": [
       "<div>\n",
       "<style scoped>\n",
       "    .dataframe tbody tr th:only-of-type {\n",
       "        vertical-align: middle;\n",
       "    }\n",
       "\n",
       "    .dataframe tbody tr th {\n",
       "        vertical-align: top;\n",
       "    }\n",
       "\n",
       "    .dataframe thead th {\n",
       "        text-align: right;\n",
       "    }\n",
       "</style>\n",
       "<table border=\"1\" class=\"dataframe\">\n",
       "  <thead>\n",
       "    <tr style=\"text-align: right;\">\n",
       "      <th></th>\n",
       "      <th>author</th>\n",
       "      <th>selftext</th>\n",
       "      <th>title</th>\n",
       "      <th>text</th>\n",
       "      <th>text_cleaned</th>\n",
       "      <th>text_length</th>\n",
       "    </tr>\n",
       "  </thead>\n",
       "  <tbody>\n",
       "    <tr>\n",
       "      <th>0</th>\n",
       "      <td>yuura1</td>\n",
       "      <td>Hello, i have self harm scars that are not dee...</td>\n",
       "      <td>[Product request] self harm scar help</td>\n",
       "      <td>[Product request] self harm scar help - Hello,...</td>\n",
       "      <td>[Product request] self harm scar help - Hello,...</td>\n",
       "      <td>505</td>\n",
       "    </tr>\n",
       "  </tbody>\n",
       "</table>\n",
       "</div>"
      ],
      "text/plain": [
       "   author                                           selftext  \\\n",
       "0  yuura1  Hello, i have self harm scars that are not dee...   \n",
       "\n",
       "                                   title  \\\n",
       "0  [Product request] self harm scar help   \n",
       "\n",
       "                                                text  \\\n",
       "0  [Product request] self harm scar help - Hello,...   \n",
       "\n",
       "                                        text_cleaned  text_length  \n",
       "0  [Product request] self harm scar help - Hello,...          505  "
      ]
     },
     "execution_count": 22,
     "metadata": {},
     "output_type": "execute_result"
    }
   ],
   "source": [
    "skincare.head(1)"
   ]
  },
  {
   "cell_type": "code",
   "execution_count": 23,
   "id": "f6855516-f3c2-454b-adb9-b8be9988eca2",
   "metadata": {},
   "outputs": [
    {
     "data": {
      "text/plain": [
       "(5362, 6)"
      ]
     },
     "execution_count": 23,
     "metadata": {},
     "output_type": "execute_result"
    }
   ],
   "source": [
    "# removing short posts with lengths smaller than 30 characters\n",
    "beauty = beauty[beauty['text_length'] > 30]\n",
    "beauty.shape"
   ]
  },
  {
   "cell_type": "code",
   "execution_count": 24,
   "id": "03d9dd0e-1f79-413a-a659-64a8967e6489",
   "metadata": {},
   "outputs": [
    {
     "data": {
      "text/plain": [
       "(7879, 6)"
      ]
     },
     "execution_count": 24,
     "metadata": {},
     "output_type": "execute_result"
    }
   ],
   "source": [
    "skincare = skincare[skincare['text_length'] > 30]\n",
    "skincare.shape"
   ]
  },
  {
   "cell_type": "markdown",
   "id": "ef6fe10a-8c46-4f61-9f5a-bee882992d01",
   "metadata": {},
   "source": [
    "### Drop unneccesary columns"
   ]
  },
  {
   "cell_type": "code",
   "execution_count": 25,
   "id": "b9236f12-5f95-4750-bb9c-1f1bdbd499ce",
   "metadata": {},
   "outputs": [],
   "source": [
    "beauty.drop(columns = ['selftext', 'title', 'text'], inplace=True)\n",
    "skincare.drop(columns = ['selftext', 'title', 'text'], inplace=True)"
   ]
  },
  {
   "cell_type": "code",
   "execution_count": 26,
   "id": "71b0ee84-72b9-442d-b97f-b24b2a61b078",
   "metadata": {},
   "outputs": [],
   "source": [
    "#rename text_cleaned col\n",
    "beauty.rename(columns={'text_cleaned': 'text'}, inplace=True)\n",
    "skincare.rename(columns={'text_cleaned': 'text'}, inplace=True)"
   ]
  },
  {
   "cell_type": "code",
   "execution_count": 27,
   "id": "a697005e-d6ac-42c7-b846-e948cb7a275c",
   "metadata": {},
   "outputs": [
    {
     "data": {
      "text/html": [
       "<div>\n",
       "<style scoped>\n",
       "    .dataframe tbody tr th:only-of-type {\n",
       "        vertical-align: middle;\n",
       "    }\n",
       "\n",
       "    .dataframe tbody tr th {\n",
       "        vertical-align: top;\n",
       "    }\n",
       "\n",
       "    .dataframe thead th {\n",
       "        text-align: right;\n",
       "    }\n",
       "</style>\n",
       "<table border=\"1\" class=\"dataframe\">\n",
       "  <thead>\n",
       "    <tr style=\"text-align: right;\">\n",
       "      <th></th>\n",
       "      <th>author</th>\n",
       "      <th>text</th>\n",
       "      <th>text_length</th>\n",
       "    </tr>\n",
       "  </thead>\n",
       "  <tbody>\n",
       "    <tr>\n",
       "      <th>2</th>\n",
       "      <td>Missy_Pantone</td>\n",
       "      <td>Does anyone have experience with Sidmool Sacch...</td>\n",
       "      <td>83</td>\n",
       "    </tr>\n",
       "    <tr>\n",
       "      <th>6</th>\n",
       "      <td>Rntonie35</td>\n",
       "      <td>Love my hair color! Blended nicely with my grays</td>\n",
       "      <td>51</td>\n",
       "    </tr>\n",
       "    <tr>\n",
       "      <th>8</th>\n",
       "      <td>flckeringfox_</td>\n",
       "      <td>What’s your best eye cream to brighten the area?</td>\n",
       "      <td>51</td>\n",
       "    </tr>\n",
       "    <tr>\n",
       "      <th>19</th>\n",
       "      <td>DefinitionAdvanced25</td>\n",
       "      <td>ASMR FLAWLESS SKIN KOREAN SKINCARE ROUTINE</td>\n",
       "      <td>45</td>\n",
       "    </tr>\n",
       "    <tr>\n",
       "      <th>22</th>\n",
       "      <td>etoileneha</td>\n",
       "      <td>Has anyone tried the Beauty of Joseon - Red Be...</td>\n",
       "      <td>73</td>\n",
       "    </tr>\n",
       "  </tbody>\n",
       "</table>\n",
       "</div>"
      ],
      "text/plain": [
       "                  author                                               text  \\\n",
       "2          Missy_Pantone  Does anyone have experience with Sidmool Sacch...   \n",
       "6              Rntonie35   Love my hair color! Blended nicely with my grays   \n",
       "8          flckeringfox_   What’s your best eye cream to brighten the area?   \n",
       "19  DefinitionAdvanced25         ASMR FLAWLESS SKIN KOREAN SKINCARE ROUTINE   \n",
       "22            etoileneha  Has anyone tried the Beauty of Joseon - Red Be...   \n",
       "\n",
       "    text_length  \n",
       "2            83  \n",
       "6            51  \n",
       "8            51  \n",
       "19           45  \n",
       "22           73  "
      ]
     },
     "execution_count": 27,
     "metadata": {},
     "output_type": "execute_result"
    }
   ],
   "source": [
    "beauty.head()"
   ]
  },
  {
   "cell_type": "code",
   "execution_count": 28,
   "id": "212b4151-a8e5-4ed7-9c90-d890c0c83016",
   "metadata": {},
   "outputs": [
    {
     "data": {
      "text/html": [
       "<div>\n",
       "<style scoped>\n",
       "    .dataframe tbody tr th:only-of-type {\n",
       "        vertical-align: middle;\n",
       "    }\n",
       "\n",
       "    .dataframe tbody tr th {\n",
       "        vertical-align: top;\n",
       "    }\n",
       "\n",
       "    .dataframe thead th {\n",
       "        text-align: right;\n",
       "    }\n",
       "</style>\n",
       "<table border=\"1\" class=\"dataframe\">\n",
       "  <thead>\n",
       "    <tr style=\"text-align: right;\">\n",
       "      <th></th>\n",
       "      <th>author</th>\n",
       "      <th>text</th>\n",
       "      <th>text_length</th>\n",
       "    </tr>\n",
       "  </thead>\n",
       "  <tbody>\n",
       "    <tr>\n",
       "      <th>0</th>\n",
       "      <td>yuura1</td>\n",
       "      <td>[Product request] self harm scar help - Hello,...</td>\n",
       "      <td>505</td>\n",
       "    </tr>\n",
       "    <tr>\n",
       "      <th>1</th>\n",
       "      <td>SKKKKRRT2</td>\n",
       "      <td>29 y.o F, was on Orilissa, a GnRH antagonist. ...</td>\n",
       "      <td>76</td>\n",
       "    </tr>\n",
       "    <tr>\n",
       "      <th>2</th>\n",
       "      <td>goldpunch</td>\n",
       "      <td>[Product Question] liposamal vitamin c vs asco...</td>\n",
       "      <td>241</td>\n",
       "    </tr>\n",
       "    <tr>\n",
       "      <th>4</th>\n",
       "      <td>snd1zzi</td>\n",
       "      <td>can anyone tell me what these bumps are on my ...</td>\n",
       "      <td>54</td>\n",
       "    </tr>\n",
       "    <tr>\n",
       "      <th>5</th>\n",
       "      <td>Prestigious-Ad5884</td>\n",
       "      <td>[routine help] should I use retinol? Im 14. I ...</td>\n",
       "      <td>104</td>\n",
       "    </tr>\n",
       "  </tbody>\n",
       "</table>\n",
       "</div>"
      ],
      "text/plain": [
       "               author                                               text  \\\n",
       "0              yuura1  [Product request] self harm scar help - Hello,...   \n",
       "1           SKKKKRRT2  29 y.o F, was on Orilissa, a GnRH antagonist. ...   \n",
       "2           goldpunch  [Product Question] liposamal vitamin c vs asco...   \n",
       "4             snd1zzi  can anyone tell me what these bumps are on my ...   \n",
       "5  Prestigious-Ad5884  [routine help] should I use retinol? Im 14. I ...   \n",
       "\n",
       "   text_length  \n",
       "0          505  \n",
       "1           76  \n",
       "2          241  \n",
       "4           54  \n",
       "5          104  "
      ]
     },
     "execution_count": 28,
     "metadata": {},
     "output_type": "execute_result"
    }
   ],
   "source": [
    "skincare.head()"
   ]
  },
  {
   "cell_type": "markdown",
   "id": "d27c4ac8-9954-4143-b373-dc426a01fe05",
   "metadata": {},
   "source": [
    "#### Create word_count column"
   ]
  },
  {
   "cell_type": "code",
   "execution_count": 29,
   "id": "11ed9746-ce59-482f-8475-c56b5bd0af4f",
   "metadata": {},
   "outputs": [
    {
     "data": {
      "text/html": [
       "<div>\n",
       "<style scoped>\n",
       "    .dataframe tbody tr th:only-of-type {\n",
       "        vertical-align: middle;\n",
       "    }\n",
       "\n",
       "    .dataframe tbody tr th {\n",
       "        vertical-align: top;\n",
       "    }\n",
       "\n",
       "    .dataframe thead th {\n",
       "        text-align: right;\n",
       "    }\n",
       "</style>\n",
       "<table border=\"1\" class=\"dataframe\">\n",
       "  <thead>\n",
       "    <tr style=\"text-align: right;\">\n",
       "      <th></th>\n",
       "      <th>author</th>\n",
       "      <th>text</th>\n",
       "      <th>text_length</th>\n",
       "      <th>word_count</th>\n",
       "    </tr>\n",
       "  </thead>\n",
       "  <tbody>\n",
       "    <tr>\n",
       "      <th>2</th>\n",
       "      <td>Missy_Pantone</td>\n",
       "      <td>Does anyone have experience with Sidmool Sacch...</td>\n",
       "      <td>83</td>\n",
       "      <td>11</td>\n",
       "    </tr>\n",
       "    <tr>\n",
       "      <th>6</th>\n",
       "      <td>Rntonie35</td>\n",
       "      <td>Love my hair color! Blended nicely with my grays</td>\n",
       "      <td>51</td>\n",
       "      <td>9</td>\n",
       "    </tr>\n",
       "    <tr>\n",
       "      <th>8</th>\n",
       "      <td>flckeringfox_</td>\n",
       "      <td>What’s your best eye cream to brighten the area?</td>\n",
       "      <td>51</td>\n",
       "      <td>9</td>\n",
       "    </tr>\n",
       "    <tr>\n",
       "      <th>19</th>\n",
       "      <td>DefinitionAdvanced25</td>\n",
       "      <td>ASMR FLAWLESS SKIN KOREAN SKINCARE ROUTINE</td>\n",
       "      <td>45</td>\n",
       "      <td>6</td>\n",
       "    </tr>\n",
       "    <tr>\n",
       "      <th>22</th>\n",
       "      <td>etoileneha</td>\n",
       "      <td>Has anyone tried the Beauty of Joseon - Red Be...</td>\n",
       "      <td>73</td>\n",
       "      <td>13</td>\n",
       "    </tr>\n",
       "  </tbody>\n",
       "</table>\n",
       "</div>"
      ],
      "text/plain": [
       "                  author                                               text  \\\n",
       "2          Missy_Pantone  Does anyone have experience with Sidmool Sacch...   \n",
       "6              Rntonie35   Love my hair color! Blended nicely with my grays   \n",
       "8          flckeringfox_   What’s your best eye cream to brighten the area?   \n",
       "19  DefinitionAdvanced25         ASMR FLAWLESS SKIN KOREAN SKINCARE ROUTINE   \n",
       "22            etoileneha  Has anyone tried the Beauty of Joseon - Red Be...   \n",
       "\n",
       "    text_length  word_count  \n",
       "2            83          11  \n",
       "6            51           9  \n",
       "8            51           9  \n",
       "19           45           6  \n",
       "22           73          13  "
      ]
     },
     "execution_count": 29,
     "metadata": {},
     "output_type": "execute_result"
    }
   ],
   "source": [
    "# create a column with word counts that contains number of words in each status\n",
    "beauty['word_count'] = [len(st.split()) for st in beauty['text']]\n",
    "beauty.head(2)"
   ]
  },
  {
   "cell_type": "code",
   "execution_count": 30,
   "id": "c78a15a3-5584-4cb2-b49b-0f15d2fb167c",
   "metadata": {
    "tags": []
   },
   "outputs": [
    {
     "data": {
      "text/html": [
       "<div>\n",
       "<style scoped>\n",
       "    .dataframe tbody tr th:only-of-type {\n",
       "        vertical-align: middle;\n",
       "    }\n",
       "\n",
       "    .dataframe tbody tr th {\n",
       "        vertical-align: top;\n",
       "    }\n",
       "\n",
       "    .dataframe thead th {\n",
       "        text-align: right;\n",
       "    }\n",
       "</style>\n",
       "<table border=\"1\" class=\"dataframe\">\n",
       "  <thead>\n",
       "    <tr style=\"text-align: right;\">\n",
       "      <th></th>\n",
       "      <th>author</th>\n",
       "      <th>text</th>\n",
       "      <th>text_length</th>\n",
       "      <th>word_count</th>\n",
       "    </tr>\n",
       "  </thead>\n",
       "  <tbody>\n",
       "    <tr>\n",
       "      <th>0</th>\n",
       "      <td>yuura1</td>\n",
       "      <td>[Product request] self harm scar help - Hello,...</td>\n",
       "      <td>505</td>\n",
       "      <td>100</td>\n",
       "    </tr>\n",
       "    <tr>\n",
       "      <th>1</th>\n",
       "      <td>SKKKKRRT2</td>\n",
       "      <td>29 y.o F, was on Orilissa, a GnRH antagonist. ...</td>\n",
       "      <td>76</td>\n",
       "      <td>13</td>\n",
       "    </tr>\n",
       "    <tr>\n",
       "      <th>2</th>\n",
       "      <td>goldpunch</td>\n",
       "      <td>[Product Question] liposamal vitamin c vs asco...</td>\n",
       "      <td>241</td>\n",
       "      <td>45</td>\n",
       "    </tr>\n",
       "    <tr>\n",
       "      <th>4</th>\n",
       "      <td>snd1zzi</td>\n",
       "      <td>can anyone tell me what these bumps are on my ...</td>\n",
       "      <td>54</td>\n",
       "      <td>11</td>\n",
       "    </tr>\n",
       "    <tr>\n",
       "      <th>5</th>\n",
       "      <td>Prestigious-Ad5884</td>\n",
       "      <td>[routine help] should I use retinol? Im 14. I ...</td>\n",
       "      <td>104</td>\n",
       "      <td>19</td>\n",
       "    </tr>\n",
       "  </tbody>\n",
       "</table>\n",
       "</div>"
      ],
      "text/plain": [
       "               author                                               text  \\\n",
       "0              yuura1  [Product request] self harm scar help - Hello,...   \n",
       "1           SKKKKRRT2  29 y.o F, was on Orilissa, a GnRH antagonist. ...   \n",
       "2           goldpunch  [Product Question] liposamal vitamin c vs asco...   \n",
       "4             snd1zzi  can anyone tell me what these bumps are on my ...   \n",
       "5  Prestigious-Ad5884  [routine help] should I use retinol? Im 14. I ...   \n",
       "\n",
       "   text_length  word_count  \n",
       "0          505         100  \n",
       "1           76          13  \n",
       "2          241          45  \n",
       "4           54          11  \n",
       "5          104          19  "
      ]
     },
     "execution_count": 30,
     "metadata": {},
     "output_type": "execute_result"
    }
   ],
   "source": [
    "skincare['word_count'] = [len(st.split()) for st in skincare['text']]\n",
    "skincare.head(2)"
   ]
  },
  {
   "cell_type": "markdown",
   "id": "ad64c703-de84-4c48-b19c-973ab41899d7",
   "metadata": {},
   "source": [
    "### Create column indicating subreddit name"
   ]
  },
  {
   "cell_type": "code",
   "execution_count": 31,
   "id": "43fdeb24-67b7-4286-bf51-beeeac1d138d",
   "metadata": {},
   "outputs": [],
   "source": [
    "skincare['subreddit'] = 'skincare_addiction'\n",
    "beauty['subreddit'] = 'asian_beauty'"
   ]
  },
  {
   "cell_type": "markdown",
   "id": "ebc4250a-9737-4beb-ba43-e39575e307e1",
   "metadata": {},
   "source": [
    "### Export data to csv"
   ]
  },
  {
   "cell_type": "code",
   "execution_count": 32,
   "id": "3d182b86-0ec3-4023-b7e4-78501a2ba6db",
   "metadata": {
    "tags": []
   },
   "outputs": [],
   "source": [
    "#export initially cleaned dataset to csv\n",
    "\n",
    "beauty.to_csv('cleaned_datasets/beauty_cleaned.csv', index = False)\n",
    "skincare.to_csv('cleaned_datasets/skincare_cleaned.csv', index = False)"
   ]
  },
  {
   "cell_type": "markdown",
   "id": "5c5c6fa3-3b9f-4718-a684-339cf68ddee6",
   "metadata": {},
   "source": [
    "### Combine datasets into 1 dataframe"
   ]
  },
  {
   "cell_type": "code",
   "execution_count": 33,
   "id": "bf0f83dd-7299-4cca-b7c2-9b681ba063ed",
   "metadata": {},
   "outputs": [],
   "source": [
    "subs_combined = pd.concat([beauty, skincare], axis=0)\n",
    "subs_combined.reset_index(inplace=True)"
   ]
  },
  {
   "cell_type": "code",
   "execution_count": 34,
   "id": "15e9b095-e4d4-4990-b667-023a583df79e",
   "metadata": {},
   "outputs": [
    {
     "data": {
      "text/html": [
       "<div>\n",
       "<style scoped>\n",
       "    .dataframe tbody tr th:only-of-type {\n",
       "        vertical-align: middle;\n",
       "    }\n",
       "\n",
       "    .dataframe tbody tr th {\n",
       "        vertical-align: top;\n",
       "    }\n",
       "\n",
       "    .dataframe thead th {\n",
       "        text-align: right;\n",
       "    }\n",
       "</style>\n",
       "<table border=\"1\" class=\"dataframe\">\n",
       "  <thead>\n",
       "    <tr style=\"text-align: right;\">\n",
       "      <th></th>\n",
       "      <th>index</th>\n",
       "      <th>author</th>\n",
       "      <th>text</th>\n",
       "      <th>text_length</th>\n",
       "      <th>word_count</th>\n",
       "      <th>subreddit</th>\n",
       "    </tr>\n",
       "  </thead>\n",
       "  <tbody>\n",
       "    <tr>\n",
       "      <th>0</th>\n",
       "      <td>2</td>\n",
       "      <td>Missy_Pantone</td>\n",
       "      <td>Does anyone have experience with Sidmool Sacch...</td>\n",
       "      <td>83</td>\n",
       "      <td>11</td>\n",
       "      <td>asian_beauty</td>\n",
       "    </tr>\n",
       "    <tr>\n",
       "      <th>1</th>\n",
       "      <td>6</td>\n",
       "      <td>Rntonie35</td>\n",
       "      <td>Love my hair color! Blended nicely with my grays</td>\n",
       "      <td>51</td>\n",
       "      <td>9</td>\n",
       "      <td>asian_beauty</td>\n",
       "    </tr>\n",
       "    <tr>\n",
       "      <th>2</th>\n",
       "      <td>8</td>\n",
       "      <td>flckeringfox_</td>\n",
       "      <td>What’s your best eye cream to brighten the area?</td>\n",
       "      <td>51</td>\n",
       "      <td>9</td>\n",
       "      <td>asian_beauty</td>\n",
       "    </tr>\n",
       "    <tr>\n",
       "      <th>3</th>\n",
       "      <td>19</td>\n",
       "      <td>DefinitionAdvanced25</td>\n",
       "      <td>ASMR FLAWLESS SKIN KOREAN SKINCARE ROUTINE</td>\n",
       "      <td>45</td>\n",
       "      <td>6</td>\n",
       "      <td>asian_beauty</td>\n",
       "    </tr>\n",
       "    <tr>\n",
       "      <th>4</th>\n",
       "      <td>22</td>\n",
       "      <td>etoileneha</td>\n",
       "      <td>Has anyone tried the Beauty of Joseon - Red Be...</td>\n",
       "      <td>73</td>\n",
       "      <td>13</td>\n",
       "      <td>asian_beauty</td>\n",
       "    </tr>\n",
       "  </tbody>\n",
       "</table>\n",
       "</div>"
      ],
      "text/plain": [
       "   index                author  \\\n",
       "0      2         Missy_Pantone   \n",
       "1      6             Rntonie35   \n",
       "2      8         flckeringfox_   \n",
       "3     19  DefinitionAdvanced25   \n",
       "4     22            etoileneha   \n",
       "\n",
       "                                                text  text_length  word_count  \\\n",
       "0  Does anyone have experience with Sidmool Sacch...           83          11   \n",
       "1   Love my hair color! Blended nicely with my grays           51           9   \n",
       "2   What’s your best eye cream to brighten the area?           51           9   \n",
       "3         ASMR FLAWLESS SKIN KOREAN SKINCARE ROUTINE           45           6   \n",
       "4  Has anyone tried the Beauty of Joseon - Red Be...           73          13   \n",
       "\n",
       "      subreddit  \n",
       "0  asian_beauty  \n",
       "1  asian_beauty  \n",
       "2  asian_beauty  \n",
       "3  asian_beauty  \n",
       "4  asian_beauty  "
      ]
     },
     "execution_count": 34,
     "metadata": {},
     "output_type": "execute_result"
    }
   ],
   "source": [
    "subs_combined.head()"
   ]
  },
  {
   "cell_type": "code",
   "execution_count": 35,
   "id": "8a71bf74-afa9-4aa5-a4c0-94c0b6d8f364",
   "metadata": {},
   "outputs": [],
   "source": [
    "#drop index column\n",
    "subs_combined.drop(columns='index', inplace=True)"
   ]
  },
  {
   "cell_type": "markdown",
   "id": "825651b9-f895-4191-bc85-6de3586401ae",
   "metadata": {},
   "source": [
    "### Filter out non-english rows"
   ]
  },
  {
   "cell_type": "code",
   "execution_count": 38,
   "id": "b79155b5-ce77-40eb-add8-75b7fc49afa7",
   "metadata": {},
   "outputs": [],
   "source": [
    "# !pip install spacy-langdetect"
   ]
  },
  {
   "cell_type": "code",
   "execution_count": 37,
   "id": "fb1eb91b-bb95-4869-abcb-098379b05cd7",
   "metadata": {},
   "outputs": [],
   "source": [
    "import spacy\n",
    "from spacy_langdetect import LanguageDetector"
   ]
  },
  {
   "cell_type": "code",
   "execution_count": 39,
   "id": "7a7b6bc8-1c61-476a-ab60-2fb1d0dd8006",
   "metadata": {},
   "outputs": [],
   "source": [
    "# !pip install langdetect"
   ]
  },
  {
   "cell_type": "code",
   "execution_count": 40,
   "id": "71b96aa5-ac17-446e-9819-88d16b6f28cb",
   "metadata": {},
   "outputs": [],
   "source": [
    "from langdetect import detect"
   ]
  },
  {
   "cell_type": "code",
   "execution_count": 41,
   "id": "27fc9523-a162-4a24-bc9d-d487f03567e2",
   "metadata": {},
   "outputs": [],
   "source": [
    "#found an error in trying run the lang detect function, using iterrows to determine which rows are causing the error\n",
    "\n",
    "lst = []\n",
    "for rows in subs_combined.iterrows():\n",
    "    try:\n",
    "        detect(rows[1]['text'])\n",
    "    except:\n",
    "        lst.append(rows[0])"
   ]
  },
  {
   "cell_type": "code",
   "execution_count": 42,
   "id": "4c7655f3-aa6c-4fe8-9213-64409fbe8036",
   "metadata": {},
   "outputs": [
    {
     "data": {
      "text/plain": [
       "[102, 433, 446, 1075, 1464, 1882, 2575, 2736, 12862]"
      ]
     },
     "execution_count": 42,
     "metadata": {},
     "output_type": "execute_result"
    }
   ],
   "source": [
    "#list of indices to remove from dataset\n",
    "lst"
   ]
  },
  {
   "cell_type": "code",
   "execution_count": 43,
   "id": "ec093f6a-cdd2-4194-b256-5a2317aa3c0d",
   "metadata": {},
   "outputs": [
    {
     "data": {
      "text/plain": [
       "author                                            changewithnoor\n",
       "text           𝙐𝙨𝙚𝙧 𝙚𝙭𝙥𝙚𝙧𝙞𝙖𝙣𝙘𝙚 𝙖𝙣𝙙 𝙘𝙤𝙢𝙥𝙖𝙧𝙞𝙨𝙤𝙣 𝙗𝙚𝙩𝙬𝙚𝙚𝙣 𝙆𝙤𝙨𝙚 𝙎𝙤...\n",
       "text_length                                                  128\n",
       "word_count                                                    17\n",
       "subreddit                                           asian_beauty\n",
       "Name: 433, dtype: object"
      ]
     },
     "execution_count": 43,
     "metadata": {},
     "output_type": "execute_result"
    }
   ],
   "source": [
    "#checking the rows that need to be dropped\n",
    "subs_combined.iloc[433]"
   ]
  },
  {
   "cell_type": "markdown",
   "id": "cd9bf904-29f8-43a0-88b7-0ef6238bfda9",
   "metadata": {},
   "source": [
    "#### Drop index for the list above"
   ]
  },
  {
   "cell_type": "code",
   "execution_count": 44,
   "id": "0f199974-1c75-4732-b1df-56b2ee749f6a",
   "metadata": {},
   "outputs": [],
   "source": [
    "subs_combined.drop(index=lst, inplace=True)"
   ]
  },
  {
   "cell_type": "code",
   "execution_count": 45,
   "id": "347b5622-fc1a-42ff-9fa6-8693cc7a42c8",
   "metadata": {},
   "outputs": [],
   "source": [
    "#create a new col with the language detected\n",
    "subs_combined['lang'] = subs_combined['text'].apply(detect)"
   ]
  },
  {
   "cell_type": "code",
   "execution_count": 46,
   "id": "01f642fe-672a-4948-9851-d60fc2bfa357",
   "metadata": {},
   "outputs": [
    {
     "data": {
      "text/html": [
       "<div>\n",
       "<style scoped>\n",
       "    .dataframe tbody tr th:only-of-type {\n",
       "        vertical-align: middle;\n",
       "    }\n",
       "\n",
       "    .dataframe tbody tr th {\n",
       "        vertical-align: top;\n",
       "    }\n",
       "\n",
       "    .dataframe thead th {\n",
       "        text-align: right;\n",
       "    }\n",
       "</style>\n",
       "<table border=\"1\" class=\"dataframe\">\n",
       "  <thead>\n",
       "    <tr style=\"text-align: right;\">\n",
       "      <th></th>\n",
       "      <th>author</th>\n",
       "      <th>text</th>\n",
       "      <th>text_length</th>\n",
       "      <th>word_count</th>\n",
       "      <th>subreddit</th>\n",
       "      <th>lang</th>\n",
       "    </tr>\n",
       "  </thead>\n",
       "  <tbody>\n",
       "    <tr>\n",
       "      <th>0</th>\n",
       "      <td>Missy_Pantone</td>\n",
       "      <td>Does anyone have experience with Sidmool Sacch...</td>\n",
       "      <td>83</td>\n",
       "      <td>11</td>\n",
       "      <td>asian_beauty</td>\n",
       "      <td>en</td>\n",
       "    </tr>\n",
       "    <tr>\n",
       "      <th>1</th>\n",
       "      <td>Rntonie35</td>\n",
       "      <td>Love my hair color! Blended nicely with my grays</td>\n",
       "      <td>51</td>\n",
       "      <td>9</td>\n",
       "      <td>asian_beauty</td>\n",
       "      <td>en</td>\n",
       "    </tr>\n",
       "    <tr>\n",
       "      <th>2</th>\n",
       "      <td>flckeringfox_</td>\n",
       "      <td>What’s your best eye cream to brighten the area?</td>\n",
       "      <td>51</td>\n",
       "      <td>9</td>\n",
       "      <td>asian_beauty</td>\n",
       "      <td>en</td>\n",
       "    </tr>\n",
       "    <tr>\n",
       "      <th>3</th>\n",
       "      <td>DefinitionAdvanced25</td>\n",
       "      <td>ASMR FLAWLESS SKIN KOREAN SKINCARE ROUTINE</td>\n",
       "      <td>45</td>\n",
       "      <td>6</td>\n",
       "      <td>asian_beauty</td>\n",
       "      <td>de</td>\n",
       "    </tr>\n",
       "    <tr>\n",
       "      <th>4</th>\n",
       "      <td>etoileneha</td>\n",
       "      <td>Has anyone tried the Beauty of Joseon - Red Be...</td>\n",
       "      <td>73</td>\n",
       "      <td>13</td>\n",
       "      <td>asian_beauty</td>\n",
       "      <td>en</td>\n",
       "    </tr>\n",
       "  </tbody>\n",
       "</table>\n",
       "</div>"
      ],
      "text/plain": [
       "                 author                                               text  \\\n",
       "0         Missy_Pantone  Does anyone have experience with Sidmool Sacch...   \n",
       "1             Rntonie35   Love my hair color! Blended nicely with my grays   \n",
       "2         flckeringfox_   What’s your best eye cream to brighten the area?   \n",
       "3  DefinitionAdvanced25         ASMR FLAWLESS SKIN KOREAN SKINCARE ROUTINE   \n",
       "4            etoileneha  Has anyone tried the Beauty of Joseon - Red Be...   \n",
       "\n",
       "   text_length  word_count     subreddit lang  \n",
       "0           83          11  asian_beauty   en  \n",
       "1           51           9  asian_beauty   en  \n",
       "2           51           9  asian_beauty   en  \n",
       "3           45           6  asian_beauty   de  \n",
       "4           73          13  asian_beauty   en  "
      ]
     },
     "execution_count": 46,
     "metadata": {},
     "output_type": "execute_result"
    }
   ],
   "source": [
    "subs_combined.head()"
   ]
  },
  {
   "cell_type": "code",
   "execution_count": 47,
   "id": "74eb331e-7601-4a86-84d9-10e3b80e3fa9",
   "metadata": {},
   "outputs": [
    {
     "data": {
      "text/plain": [
       "subreddit           lang \n",
       "asian_beauty        en       5067\n",
       "                    vi         42\n",
       "                    de         40\n",
       "                    fr         27\n",
       "                    it         16\n",
       "                    ro         15\n",
       "                    da         13\n",
       "                    id         13\n",
       "                    nl         13\n",
       "                    af         12\n",
       "                    et         11\n",
       "                    no         11\n",
       "                    tl         10\n",
       "                    fi          9\n",
       "                    ca          8\n",
       "                    ko          7\n",
       "                    es          6\n",
       "                    sw          4\n",
       "                    zh-cn       4\n",
       "                    hr          3\n",
       "                    ru          3\n",
       "                    sv          3\n",
       "                    te          3\n",
       "                    ar          2\n",
       "                    cy          2\n",
       "                    so          2\n",
       "                    bn          1\n",
       "                    fa          1\n",
       "                    hi          1\n",
       "                    pt          1\n",
       "                    sk          1\n",
       "                    sl          1\n",
       "                    sq          1\n",
       "                    tr          1\n",
       "skincare_addiction  en       7808\n",
       "                    fr         15\n",
       "                    af         11\n",
       "                    da          5\n",
       "                    de          5\n",
       "                    ro          5\n",
       "                    es          4\n",
       "                    id          4\n",
       "                    it          4\n",
       "                    nl          4\n",
       "                    no          3\n",
       "                    ca          2\n",
       "                    pl          2\n",
       "                    pt          2\n",
       "                    fi          1\n",
       "                    sv          1\n",
       "                    tl          1\n",
       "                    tr          1\n",
       "Name: lang, dtype: int64"
      ]
     },
     "execution_count": 47,
     "metadata": {},
     "output_type": "execute_result"
    }
   ],
   "source": [
    "#taking a look at language counts per sub to make sure i'll have enough data for the model\n",
    "subs_combined['lang'].groupby(subs_combined['subreddit']).value_counts()"
   ]
  },
  {
   "cell_type": "markdown",
   "id": "868d2388-05d5-48d5-82d4-7cfbc7bf16d4",
   "metadata": {},
   "source": [
    "#### Dropping all rows where language detected isn't eng"
   ]
  },
  {
   "cell_type": "code",
   "execution_count": 49,
   "id": "9d7506fc-9773-4355-9ff1-973050211295",
   "metadata": {},
   "outputs": [],
   "source": [
    "# # increasing the # of rows I can view\n",
    "# pd.set_option('display.max_rows', 400)"
   ]
  },
  {
   "cell_type": "code",
   "execution_count": 48,
   "id": "c5e34f39-b583-476b-a18d-432a318a8060",
   "metadata": {},
   "outputs": [],
   "source": [
    "#fine rows where df lang = en\n",
    "subs_combined = subs_combined[subs_combined['lang'] == 'en']"
   ]
  },
  {
   "cell_type": "code",
   "execution_count": 49,
   "id": "f0448898-34e2-4ac1-b356-7fe5b9d4c1bc",
   "metadata": {},
   "outputs": [],
   "source": [
    "#dropping the lang column because I don't need it anymore\n",
    "subs_combined.drop(columns='lang', inplace=True)"
   ]
  },
  {
   "cell_type": "code",
   "execution_count": 50,
   "id": "0f22a910-1212-4f6e-9f74-01b7a0134255",
   "metadata": {},
   "outputs": [
    {
     "data": {
      "text/plain": [
       "(12875, 5)"
      ]
     },
     "execution_count": 50,
     "metadata": {},
     "output_type": "execute_result"
    }
   ],
   "source": [
    "subs_combined.shape"
   ]
  },
  {
   "cell_type": "code",
   "execution_count": 51,
   "id": "0834fe04-f76b-48e0-a1f3-340841ce44c8",
   "metadata": {},
   "outputs": [
    {
     "data": {
      "text/html": [
       "<div>\n",
       "<style scoped>\n",
       "    .dataframe tbody tr th:only-of-type {\n",
       "        vertical-align: middle;\n",
       "    }\n",
       "\n",
       "    .dataframe tbody tr th {\n",
       "        vertical-align: top;\n",
       "    }\n",
       "\n",
       "    .dataframe thead th {\n",
       "        text-align: right;\n",
       "    }\n",
       "</style>\n",
       "<table border=\"1\" class=\"dataframe\">\n",
       "  <thead>\n",
       "    <tr style=\"text-align: right;\">\n",
       "      <th></th>\n",
       "      <th>author</th>\n",
       "      <th>text</th>\n",
       "      <th>text_length</th>\n",
       "      <th>word_count</th>\n",
       "      <th>subreddit</th>\n",
       "    </tr>\n",
       "  </thead>\n",
       "  <tbody>\n",
       "    <tr>\n",
       "      <th>0</th>\n",
       "      <td>Missy_Pantone</td>\n",
       "      <td>Does anyone have experience with Sidmool Sacch...</td>\n",
       "      <td>83</td>\n",
       "      <td>11</td>\n",
       "      <td>asian_beauty</td>\n",
       "    </tr>\n",
       "    <tr>\n",
       "      <th>1</th>\n",
       "      <td>Rntonie35</td>\n",
       "      <td>Love my hair color! Blended nicely with my grays</td>\n",
       "      <td>51</td>\n",
       "      <td>9</td>\n",
       "      <td>asian_beauty</td>\n",
       "    </tr>\n",
       "    <tr>\n",
       "      <th>2</th>\n",
       "      <td>flckeringfox_</td>\n",
       "      <td>What’s your best eye cream to brighten the area?</td>\n",
       "      <td>51</td>\n",
       "      <td>9</td>\n",
       "      <td>asian_beauty</td>\n",
       "    </tr>\n",
       "    <tr>\n",
       "      <th>3</th>\n",
       "      <td>etoileneha</td>\n",
       "      <td>Has anyone tried the Beauty of Joseon - Red Be...</td>\n",
       "      <td>73</td>\n",
       "      <td>13</td>\n",
       "      <td>asian_beauty</td>\n",
       "    </tr>\n",
       "    <tr>\n",
       "      <th>4</th>\n",
       "      <td>bully-maguire23</td>\n",
       "      <td>klavuu pure pearlsation micro collagen cleansi...</td>\n",
       "      <td>59</td>\n",
       "      <td>7</td>\n",
       "      <td>asian_beauty</td>\n",
       "    </tr>\n",
       "    <tr>\n",
       "      <th>...</th>\n",
       "      <td>...</td>\n",
       "      <td>...</td>\n",
       "      <td>...</td>\n",
       "      <td>...</td>\n",
       "      <td>...</td>\n",
       "    </tr>\n",
       "    <tr>\n",
       "      <th>12870</th>\n",
       "      <td>iinuzukaa</td>\n",
       "      <td>Please help my terrible skin - Lately I have h...</td>\n",
       "      <td>436</td>\n",
       "      <td>81</td>\n",
       "      <td>skincare_addiction</td>\n",
       "    </tr>\n",
       "    <tr>\n",
       "      <th>12871</th>\n",
       "      <td>Amber_Owl</td>\n",
       "      <td>How do you reset your face? - That probably so...</td>\n",
       "      <td>789</td>\n",
       "      <td>140</td>\n",
       "      <td>skincare_addiction</td>\n",
       "    </tr>\n",
       "    <tr>\n",
       "      <th>12872</th>\n",
       "      <td>phantom_poo</td>\n",
       "      <td>Facials: Worth it or not? - I'm contemplating ...</td>\n",
       "      <td>386</td>\n",
       "      <td>70</td>\n",
       "      <td>skincare_addiction</td>\n",
       "    </tr>\n",
       "    <tr>\n",
       "      <th>12873</th>\n",
       "      <td>[deleted]</td>\n",
       "      <td>Biting/peeling lips - Hi all, I have a habit o...</td>\n",
       "      <td>276</td>\n",
       "      <td>50</td>\n",
       "      <td>skincare_addiction</td>\n",
       "    </tr>\n",
       "    <tr>\n",
       "      <th>12874</th>\n",
       "      <td>[deleted]</td>\n",
       "      <td>What is skin elasticity? - Hi guys!\\nI recentl...</td>\n",
       "      <td>664</td>\n",
       "      <td>127</td>\n",
       "      <td>skincare_addiction</td>\n",
       "    </tr>\n",
       "  </tbody>\n",
       "</table>\n",
       "<p>12875 rows × 5 columns</p>\n",
       "</div>"
      ],
      "text/plain": [
       "                author                                               text  \\\n",
       "0        Missy_Pantone  Does anyone have experience with Sidmool Sacch...   \n",
       "1            Rntonie35   Love my hair color! Blended nicely with my grays   \n",
       "2        flckeringfox_   What’s your best eye cream to brighten the area?   \n",
       "3           etoileneha  Has anyone tried the Beauty of Joseon - Red Be...   \n",
       "4      bully-maguire23  klavuu pure pearlsation micro collagen cleansi...   \n",
       "...                ...                                                ...   \n",
       "12870        iinuzukaa  Please help my terrible skin - Lately I have h...   \n",
       "12871        Amber_Owl  How do you reset your face? - That probably so...   \n",
       "12872      phantom_poo  Facials: Worth it or not? - I'm contemplating ...   \n",
       "12873        [deleted]  Biting/peeling lips - Hi all, I have a habit o...   \n",
       "12874        [deleted]  What is skin elasticity? - Hi guys!\\nI recentl...   \n",
       "\n",
       "       text_length  word_count           subreddit  \n",
       "0               83          11        asian_beauty  \n",
       "1               51           9        asian_beauty  \n",
       "2               51           9        asian_beauty  \n",
       "3               73          13        asian_beauty  \n",
       "4               59           7        asian_beauty  \n",
       "...            ...         ...                 ...  \n",
       "12870          436          81  skincare_addiction  \n",
       "12871          789         140  skincare_addiction  \n",
       "12872          386          70  skincare_addiction  \n",
       "12873          276          50  skincare_addiction  \n",
       "12874          664         127  skincare_addiction  \n",
       "\n",
       "[12875 rows x 5 columns]"
      ]
     },
     "execution_count": 51,
     "metadata": {},
     "output_type": "execute_result"
    }
   ],
   "source": [
    "#reset my index\n",
    "subs_combined.reset_index(drop=True, inplace=False)"
   ]
  },
  {
   "cell_type": "markdown",
   "id": "ba9cb149-5c76-408c-8aa3-6e064b77a5dd",
   "metadata": {},
   "source": [
    "### Replacing '&amp;' with 'and'"
   ]
  },
  {
   "cell_type": "code",
   "execution_count": 52,
   "id": "b11e130b-105b-44e8-9236-38ef6bbefc4e",
   "metadata": {},
   "outputs": [
    {
     "data": {
      "text/html": [
       "<div>\n",
       "<style scoped>\n",
       "    .dataframe tbody tr th:only-of-type {\n",
       "        vertical-align: middle;\n",
       "    }\n",
       "\n",
       "    .dataframe tbody tr th {\n",
       "        vertical-align: top;\n",
       "    }\n",
       "\n",
       "    .dataframe thead th {\n",
       "        text-align: right;\n",
       "    }\n",
       "</style>\n",
       "<table border=\"1\" class=\"dataframe\">\n",
       "  <thead>\n",
       "    <tr style=\"text-align: right;\">\n",
       "      <th></th>\n",
       "      <th>author</th>\n",
       "      <th>text</th>\n",
       "      <th>text_length</th>\n",
       "      <th>word_count</th>\n",
       "      <th>subreddit</th>\n",
       "    </tr>\n",
       "  </thead>\n",
       "  <tbody>\n",
       "    <tr>\n",
       "      <th>13</th>\n",
       "      <td>H4km4N</td>\n",
       "      <td>Lost sex trafficking victim, who's now happily...</td>\n",
       "      <td>306</td>\n",
       "      <td>48</td>\n",
       "      <td>asian_beauty</td>\n",
       "    </tr>\n",
       "    <tr>\n",
       "      <th>15</th>\n",
       "      <td>painislife4real</td>\n",
       "      <td>Which sunscreen do you recommend for dry skin ...</td>\n",
       "      <td>127</td>\n",
       "      <td>23</td>\n",
       "      <td>asian_beauty</td>\n",
       "    </tr>\n",
       "  </tbody>\n",
       "</table>\n",
       "</div>"
      ],
      "text/plain": [
       "             author                                               text  \\\n",
       "13           H4km4N  Lost sex trafficking victim, who's now happily...   \n",
       "15  painislife4real  Which sunscreen do you recommend for dry skin ...   \n",
       "\n",
       "    text_length  word_count     subreddit  \n",
       "13          306          48  asian_beauty  \n",
       "15          127          23  asian_beauty  "
      ]
     },
     "execution_count": 52,
     "metadata": {},
     "output_type": "execute_result"
    }
   ],
   "source": [
    "#locating text with &amp; and replacing with the string 'and'\n",
    "subs_combined[subs_combined['text'].str.contains('&amp;')][:2]"
   ]
  },
  {
   "cell_type": "code",
   "execution_count": 54,
   "id": "ee802b42-60ba-4fbd-930d-a87f057f4ae1",
   "metadata": {},
   "outputs": [],
   "source": [
    "# apply a lambda function that replaces all '&amp;' with 'and'\n",
    "subs_combined['text'] = subs_combined['text'].apply(lambda x: re.sub(r'\\&amp;', 'and', x))"
   ]
  },
  {
   "cell_type": "markdown",
   "id": "a1cc8a71-8888-4cc7-9dd1-25215f442bbe",
   "metadata": {},
   "source": [
    "### Export dataset to CSV"
   ]
  },
  {
   "cell_type": "code",
   "execution_count": 55,
   "id": "cfe1aa8a-4d8d-4577-a6f9-e2a63471c74c",
   "metadata": {},
   "outputs": [],
   "source": [
    "#export dataset to csv\n",
    "subs_combined.to_csv('cleaned_datasets/subreddits_combined.csv', index = False)"
   ]
  },
  {
   "cell_type": "code",
   "execution_count": null,
   "id": "b8ca9947-ecac-4c3e-b4b2-97e1f1d61f69",
   "metadata": {},
   "outputs": [],
   "source": []
  }
 ],
 "metadata": {
  "kernelspec": {
   "display_name": "Python 3 (ipykernel)",
   "language": "python",
   "name": "python3"
  },
  "language_info": {
   "codemirror_mode": {
    "name": "ipython",
    "version": 3
   },
   "file_extension": ".py",
   "mimetype": "text/x-python",
   "name": "python",
   "nbconvert_exporter": "python",
   "pygments_lexer": "ipython3",
   "version": "3.9.7"
  }
 },
 "nbformat": 4,
 "nbformat_minor": 5
}
