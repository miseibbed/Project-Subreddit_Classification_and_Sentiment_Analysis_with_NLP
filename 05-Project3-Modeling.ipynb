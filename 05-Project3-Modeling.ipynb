{
 "cells": [
  {
   "cell_type": "markdown",
   "id": "484e60af-0952-461c-bd12-9353f17b9824",
   "metadata": {},
   "source": [
    "## Notebook Summary - Modeling\n",
    "---\n",
    "#### This contents of this notebook includes:\n",
    "#### **Model creation & testing on 3 specific models & Model Evaluation**\n",
    "- LogisticRegression with/without BayesSearchCV\n",
    "- RandomForestClassifier with BayesSearchCV\n",
    "- PCA and Logistic Regression with GridSearchCV\n"
   ]
  },
  {
   "cell_type": "code",
   "execution_count": 39,
   "id": "75b33792-b25a-4c52-9bf2-d76b55e03327",
   "metadata": {},
   "outputs": [],
   "source": [
    "# imports\n",
    "import numpy as np\n",
    "import pandas as pd\n",
    "import matplotlib.pyplot as plt\n",
    "\n",
    "from sklearn.model_selection import train_test_split, GridSearchCV, cross_val_score\n",
    "from sklearn.pipeline import Pipeline\n",
    "from sklearn.linear_model import LogisticRegression, LassoCV, Lasso\n",
    "from sklearn.metrics import confusion_matrix, plot_confusion_matrix, f1_score\n",
    "from sklearn.compose import make_column_transformer\n",
    "from sklearn.compose import make_column_selector\n",
    "from sklearn.preprocessing import StandardScaler\n",
    "from sklearn.metrics import mean_squared_error\n",
    "from sklearn.pipeline import make_pipeline\n",
    "import os\n",
    "from sklearn import metrics\n",
    "import pickle\n",
    "\n",
    "# this setting widens how many characters pandas will display in a column:\n",
    "pd.options.display.max_colwidth = 2000\n"
   ]
  },
  {
   "cell_type": "code",
   "execution_count": 40,
   "id": "66b64112-8878-49aa-a799-2d8da69a340f",
   "metadata": {},
   "outputs": [],
   "source": [
    "#read in data \n",
    "subs = subs = pd.read_csv('cleaned_datasets/subs_cleaned_forCVEC.csv')\n",
    "X_train = pd.read_csv('cleaned_datasets/Modeling/X_train.csv')\n",
    "X_test = pd.read_csv('cleaned_datasets/Modeling/X_test.csv')\n",
    "y_train = pd.read_csv('cleaned_datasets/Modeling/y_train.csv')\n",
    "y_test = pd.read_csv('cleaned_datasets/Modeling/y_test.csv')"
   ]
  },
  {
   "cell_type": "code",
   "execution_count": 41,
   "id": "9b1044c8-105b-4841-9530-b80b9ea54787",
   "metadata": {},
   "outputs": [
    {
     "data": {
      "text/html": [
       "<div>\n",
       "<style scoped>\n",
       "    .dataframe tbody tr th:only-of-type {\n",
       "        vertical-align: middle;\n",
       "    }\n",
       "\n",
       "    .dataframe tbody tr th {\n",
       "        vertical-align: top;\n",
       "    }\n",
       "\n",
       "    .dataframe thead th {\n",
       "        text-align: right;\n",
       "    }\n",
       "</style>\n",
       "<table border=\"1\" class=\"dataframe\">\n",
       "  <thead>\n",
       "    <tr style=\"text-align: right;\">\n",
       "      <th></th>\n",
       "      <th>Unnamed: 0</th>\n",
       "      <th>author</th>\n",
       "      <th>text</th>\n",
       "      <th>text_length</th>\n",
       "      <th>word_count</th>\n",
       "      <th>neg</th>\n",
       "      <th>pos</th>\n",
       "      <th>neu</th>\n",
       "      <th>compound</th>\n",
       "      <th>compound_cat</th>\n",
       "      <th>...</th>\n",
       "      <th>yul</th>\n",
       "      <th>zero</th>\n",
       "      <th>zinc</th>\n",
       "      <th>zinc 1</th>\n",
       "      <th>zinc oxide</th>\n",
       "      <th>zinc pyrithione</th>\n",
       "      <th>zit</th>\n",
       "      <th>zits</th>\n",
       "      <th>zone</th>\n",
       "      <th>zone dry</th>\n",
       "    </tr>\n",
       "  </thead>\n",
       "  <tbody>\n",
       "    <tr>\n",
       "      <th>0</th>\n",
       "      <td>3493</td>\n",
       "      <td>unusualhammer</td>\n",
       "      <td>Just installed: Asian Beauty Shelving! Yay!</td>\n",
       "      <td>46</td>\n",
       "      <td>6</td>\n",
       "      <td>0.0</td>\n",
       "      <td>0.661</td>\n",
       "      <td>0.339</td>\n",
       "      <td>0.8309</td>\n",
       "      <td>positive</td>\n",
       "      <td>...</td>\n",
       "      <td>0.0</td>\n",
       "      <td>0.0</td>\n",
       "      <td>0.0</td>\n",
       "      <td>0.0</td>\n",
       "      <td>0.0</td>\n",
       "      <td>0.0</td>\n",
       "      <td>0.0</td>\n",
       "      <td>0.0</td>\n",
       "      <td>0.0</td>\n",
       "      <td>0.0</td>\n",
       "    </tr>\n",
       "  </tbody>\n",
       "</table>\n",
       "<p>1 rows × 5492 columns</p>\n",
       "</div>"
      ],
      "text/plain": [
       "   Unnamed: 0         author                                         text  \\\n",
       "0        3493  unusualhammer  Just installed: Asian Beauty Shelving! Yay!   \n",
       "\n",
       "   text_length  word_count  neg    pos    neu  compound compound_cat  ...  \\\n",
       "0           46           6  0.0  0.661  0.339    0.8309     positive  ...   \n",
       "\n",
       "   yul zero zinc zinc 1  zinc oxide  zinc pyrithione  zit  zits  zone  \\\n",
       "0  0.0  0.0  0.0    0.0         0.0              0.0  0.0   0.0   0.0   \n",
       "\n",
       "   zone dry  \n",
       "0       0.0  \n",
       "\n",
       "[1 rows x 5492 columns]"
      ]
     },
     "execution_count": 41,
     "metadata": {},
     "output_type": "execute_result"
    }
   ],
   "source": [
    "X_train.head(1)"
   ]
  },
  {
   "cell_type": "code",
   "execution_count": 42,
   "id": "15c51711-f3b5-45c7-96e8-8d18bbe9ea54",
   "metadata": {},
   "outputs": [],
   "source": [
    "X_train.set_index('Unnamed: 0', inplace=True)\n",
    "X_test.set_index('Unnamed: 0', inplace=True)\n",
    "y_train.set_index('Unnamed: 0', inplace=True)\n",
    "y_test.set_index('Unnamed: 0', inplace=True)"
   ]
  },
  {
   "cell_type": "code",
   "execution_count": 43,
   "id": "ef44da0d-11ca-48c3-83cb-ad25b51c0682",
   "metadata": {},
   "outputs": [
    {
     "data": {
      "text/html": [
       "<div>\n",
       "<style scoped>\n",
       "    .dataframe tbody tr th:only-of-type {\n",
       "        vertical-align: middle;\n",
       "    }\n",
       "\n",
       "    .dataframe tbody tr th {\n",
       "        vertical-align: top;\n",
       "    }\n",
       "\n",
       "    .dataframe thead th {\n",
       "        text-align: right;\n",
       "    }\n",
       "</style>\n",
       "<table border=\"1\" class=\"dataframe\">\n",
       "  <thead>\n",
       "    <tr style=\"text-align: right;\">\n",
       "      <th></th>\n",
       "      <th>subreddit</th>\n",
       "    </tr>\n",
       "    <tr>\n",
       "      <th>Unnamed: 0</th>\n",
       "      <th></th>\n",
       "    </tr>\n",
       "  </thead>\n",
       "  <tbody>\n",
       "    <tr>\n",
       "      <th>3493</th>\n",
       "      <td>0</td>\n",
       "    </tr>\n",
       "  </tbody>\n",
       "</table>\n",
       "</div>"
      ],
      "text/plain": [
       "            subreddit\n",
       "Unnamed: 0           \n",
       "3493                0"
      ]
     },
     "execution_count": 43,
     "metadata": {},
     "output_type": "execute_result"
    }
   ],
   "source": [
    "y_train.head(1)"
   ]
  },
  {
   "cell_type": "code",
   "execution_count": 44,
   "id": "ddddc385-afeb-4807-8eed-6bdd174293a3",
   "metadata": {},
   "outputs": [
    {
     "data": {
      "text/html": [
       "<div>\n",
       "<style scoped>\n",
       "    .dataframe tbody tr th:only-of-type {\n",
       "        vertical-align: middle;\n",
       "    }\n",
       "\n",
       "    .dataframe tbody tr th {\n",
       "        vertical-align: top;\n",
       "    }\n",
       "\n",
       "    .dataframe thead th {\n",
       "        text-align: right;\n",
       "    }\n",
       "</style>\n",
       "<table border=\"1\" class=\"dataframe\">\n",
       "  <thead>\n",
       "    <tr style=\"text-align: right;\">\n",
       "      <th></th>\n",
       "      <th>author</th>\n",
       "      <th>text</th>\n",
       "      <th>text_length</th>\n",
       "      <th>word_count</th>\n",
       "      <th>neg</th>\n",
       "      <th>pos</th>\n",
       "      <th>neu</th>\n",
       "      <th>compound</th>\n",
       "      <th>compound_cat</th>\n",
       "      <th>tokenized_text</th>\n",
       "      <th>...</th>\n",
       "      <th>yul</th>\n",
       "      <th>zero</th>\n",
       "      <th>zinc</th>\n",
       "      <th>zinc 1</th>\n",
       "      <th>zinc oxide</th>\n",
       "      <th>zinc pyrithione</th>\n",
       "      <th>zit</th>\n",
       "      <th>zits</th>\n",
       "      <th>zone</th>\n",
       "      <th>zone dry</th>\n",
       "    </tr>\n",
       "    <tr>\n",
       "      <th>Unnamed: 0</th>\n",
       "      <th></th>\n",
       "      <th></th>\n",
       "      <th></th>\n",
       "      <th></th>\n",
       "      <th></th>\n",
       "      <th></th>\n",
       "      <th></th>\n",
       "      <th></th>\n",
       "      <th></th>\n",
       "      <th></th>\n",
       "      <th></th>\n",
       "      <th></th>\n",
       "      <th></th>\n",
       "      <th></th>\n",
       "      <th></th>\n",
       "      <th></th>\n",
       "      <th></th>\n",
       "      <th></th>\n",
       "      <th></th>\n",
       "      <th></th>\n",
       "      <th></th>\n",
       "    </tr>\n",
       "  </thead>\n",
       "  <tbody>\n",
       "    <tr>\n",
       "      <th>3493</th>\n",
       "      <td>unusualhammer</td>\n",
       "      <td>Just installed: Asian Beauty Shelving! Yay!</td>\n",
       "      <td>46</td>\n",
       "      <td>6</td>\n",
       "      <td>0.0</td>\n",
       "      <td>0.661</td>\n",
       "      <td>0.339</td>\n",
       "      <td>0.8309</td>\n",
       "      <td>positive</td>\n",
       "      <td>['just', 'installed', 'asian', 'beauty', 'shelving', 'yay']</td>\n",
       "      <td>...</td>\n",
       "      <td>0.0</td>\n",
       "      <td>0.0</td>\n",
       "      <td>0.0</td>\n",
       "      <td>0.0</td>\n",
       "      <td>0.0</td>\n",
       "      <td>0.0</td>\n",
       "      <td>0.0</td>\n",
       "      <td>0.0</td>\n",
       "      <td>0.0</td>\n",
       "      <td>0.0</td>\n",
       "    </tr>\n",
       "  </tbody>\n",
       "</table>\n",
       "<p>1 rows × 5491 columns</p>\n",
       "</div>"
      ],
      "text/plain": [
       "                   author                                         text  \\\n",
       "Unnamed: 0                                                               \n",
       "3493        unusualhammer  Just installed: Asian Beauty Shelving! Yay!   \n",
       "\n",
       "            text_length  word_count  neg    pos    neu  compound compound_cat  \\\n",
       "Unnamed: 0                                                                      \n",
       "3493                 46           6  0.0  0.661  0.339    0.8309     positive   \n",
       "\n",
       "                                                         tokenized_text  ...  \\\n",
       "Unnamed: 0                                                               ...   \n",
       "3493        ['just', 'installed', 'asian', 'beauty', 'shelving', 'yay']  ...   \n",
       "\n",
       "            yul zero zinc  zinc 1  zinc oxide  zinc pyrithione  zit  zits  \\\n",
       "Unnamed: 0                                                                  \n",
       "3493        0.0  0.0  0.0     0.0         0.0              0.0  0.0   0.0   \n",
       "\n",
       "            zone  zone dry  \n",
       "Unnamed: 0                  \n",
       "3493         0.0       0.0  \n",
       "\n",
       "[1 rows x 5491 columns]"
      ]
     },
     "execution_count": 44,
     "metadata": {},
     "output_type": "execute_result"
    }
   ],
   "source": [
    "X_train.head(1)"
   ]
  },
  {
   "cell_type": "code",
   "execution_count": 45,
   "id": "3b71918b-94d9-484e-bf5d-2087b389c032",
   "metadata": {},
   "outputs": [
    {
     "name": "stdout",
     "output_type": "stream",
     "text": [
      "original df: (12875, 8)\n",
      "X_train: (9656, 5491)\n",
      "y_train: (9656, 1)\n",
      "X_test: (3219, 5491)\n",
      "y_test: (3219, 1)\n"
     ]
    }
   ],
   "source": [
    "print('original df:', subs.shape)\n",
    "print('X_train:', X_train.shape)\n",
    "print('y_train:', y_train.shape)\n",
    "print('X_test:', X_test.shape)\n",
    "print('y_test:', y_test.shape)"
   ]
  },
  {
   "cell_type": "code",
   "execution_count": 46,
   "id": "eac63933-0491-4351-a8d3-b9fe99adb1ae",
   "metadata": {},
   "outputs": [],
   "source": [
    "#dropping unnecessary columns before modeling\n",
    "X_train.drop(columns=['text'], inplace=True)\n",
    "X_test.drop(columns=['text], inplace=True)"
   ]
  },
  {
   "cell_type": "markdown",
   "id": "eb07b923-7eed-493a-84ad-4d1da9e64243",
   "metadata": {},
   "source": [
    "## skincare_addiction - 1 / asian_beauty - 0"
   ]
  },
  {
   "cell_type": "markdown",
   "id": "49c987e0-26e4-4e26-9159-9c3e2c108b65",
   "metadata": {},
   "source": [
    "### Baseline Accuracy"
   ]
  },
  {
   "cell_type": "code",
   "execution_count": 47,
   "id": "5b58e4be-10e1-4e6f-a574-04652b1f4c50",
   "metadata": {},
   "outputs": [
    {
     "data": {
      "text/plain": [
       "subreddit\n",
       "1            0.606462\n",
       "0            0.393538\n",
       "dtype: float64"
      ]
     },
     "execution_count": 47,
     "metadata": {},
     "output_type": "execute_result"
    }
   ],
   "source": [
    "y_train.value_counts(normalize=True)"
   ]
  },
  {
   "cell_type": "markdown",
   "id": "ae92ed82-1712-4627-9459-ba51c871536b",
   "metadata": {},
   "source": [
    "### Scale data"
   ]
  },
  {
   "cell_type": "code",
   "execution_count": 48,
   "id": "ed322228-1ba6-42d3-a24a-50aeccfcca1a",
   "metadata": {},
   "outputs": [],
   "source": [
    "sc = StandardScaler()\n",
    "Z_train = sc.fit_transform(X_train)\n",
    "Z_test = sc.transform(X_test)"
   ]
  },
  {
   "cell_type": "markdown",
   "id": "906f55ea-d75a-4375-b122-85db1d4364bf",
   "metadata": {},
   "source": [
    "## Modeling Datasets\n",
    "Z_train, y_train Z_test, X_train"
   ]
  },
  {
   "cell_type": "code",
   "execution_count": 49,
   "id": "821b9437-6666-46e1-b7aa-110a63b697b5",
   "metadata": {},
   "outputs": [],
   "source": [
    "#import additional libraries\n",
    "from sklearn.linear_model import LogisticRegression,Lasso, Ridge\n",
    "from sklearn.model_selection import train_test_split, cross_val_score\n",
    "from sklearn.metrics import mean_squared_error, balanced_accuracy_score, plot_confusion_matrix, classification_report, confusion_matrix, ConfusionMatrixDisplay, accuracy_score, f1_score, precision_score, recall_score\n"
   ]
  },
  {
   "cell_type": "code",
   "execution_count": 50,
   "id": "263139c2-89d0-4922-abcf-c59a082b9e9f",
   "metadata": {},
   "outputs": [],
   "source": [
    "y_train = y_train.values.ravel()\n",
    "y_test = y_test.values.ravel()"
   ]
  },
  {
   "cell_type": "markdown",
   "id": "52d22c3e-c66b-4971-9aa5-76436155c696",
   "metadata": {},
   "source": [
    "### 1. Logistic Regression"
   ]
  },
  {
   "cell_type": "code",
   "execution_count": 14,
   "id": "abc9de3e-1a93-459b-bee2-a19fe42042c8",
   "metadata": {},
   "outputs": [
    {
     "data": {
      "text/html": [
       "<style>#sk-container-id-1 {color: black;background-color: white;}#sk-container-id-1 pre{padding: 0;}#sk-container-id-1 div.sk-toggleable {background-color: white;}#sk-container-id-1 label.sk-toggleable__label {cursor: pointer;display: block;width: 100%;margin-bottom: 0;padding: 0.3em;box-sizing: border-box;text-align: center;}#sk-container-id-1 label.sk-toggleable__label-arrow:before {content: \"▸\";float: left;margin-right: 0.25em;color: #696969;}#sk-container-id-1 label.sk-toggleable__label-arrow:hover:before {color: black;}#sk-container-id-1 div.sk-estimator:hover label.sk-toggleable__label-arrow:before {color: black;}#sk-container-id-1 div.sk-toggleable__content {max-height: 0;max-width: 0;overflow: hidden;text-align: left;background-color: #f0f8ff;}#sk-container-id-1 div.sk-toggleable__content pre {margin: 0.2em;color: black;border-radius: 0.25em;background-color: #f0f8ff;}#sk-container-id-1 input.sk-toggleable__control:checked~div.sk-toggleable__content {max-height: 200px;max-width: 100%;overflow: auto;}#sk-container-id-1 input.sk-toggleable__control:checked~label.sk-toggleable__label-arrow:before {content: \"▾\";}#sk-container-id-1 div.sk-estimator input.sk-toggleable__control:checked~label.sk-toggleable__label {background-color: #d4ebff;}#sk-container-id-1 div.sk-label input.sk-toggleable__control:checked~label.sk-toggleable__label {background-color: #d4ebff;}#sk-container-id-1 input.sk-hidden--visually {border: 0;clip: rect(1px 1px 1px 1px);clip: rect(1px, 1px, 1px, 1px);height: 1px;margin: -1px;overflow: hidden;padding: 0;position: absolute;width: 1px;}#sk-container-id-1 div.sk-estimator {font-family: monospace;background-color: #f0f8ff;border: 1px dotted black;border-radius: 0.25em;box-sizing: border-box;margin-bottom: 0.5em;}#sk-container-id-1 div.sk-estimator:hover {background-color: #d4ebff;}#sk-container-id-1 div.sk-parallel-item::after {content: \"\";width: 100%;border-bottom: 1px solid gray;flex-grow: 1;}#sk-container-id-1 div.sk-label:hover label.sk-toggleable__label {background-color: #d4ebff;}#sk-container-id-1 div.sk-serial::before {content: \"\";position: absolute;border-left: 1px solid gray;box-sizing: border-box;top: 0;bottom: 0;left: 50%;z-index: 0;}#sk-container-id-1 div.sk-serial {display: flex;flex-direction: column;align-items: center;background-color: white;padding-right: 0.2em;padding-left: 0.2em;position: relative;}#sk-container-id-1 div.sk-item {position: relative;z-index: 1;}#sk-container-id-1 div.sk-parallel {display: flex;align-items: stretch;justify-content: center;background-color: white;position: relative;}#sk-container-id-1 div.sk-item::before, #sk-container-id-1 div.sk-parallel-item::before {content: \"\";position: absolute;border-left: 1px solid gray;box-sizing: border-box;top: 0;bottom: 0;left: 50%;z-index: -1;}#sk-container-id-1 div.sk-parallel-item {display: flex;flex-direction: column;z-index: 1;position: relative;background-color: white;}#sk-container-id-1 div.sk-parallel-item:first-child::after {align-self: flex-end;width: 50%;}#sk-container-id-1 div.sk-parallel-item:last-child::after {align-self: flex-start;width: 50%;}#sk-container-id-1 div.sk-parallel-item:only-child::after {width: 0;}#sk-container-id-1 div.sk-dashed-wrapped {border: 1px dashed gray;margin: 0 0.4em 0.5em 0.4em;box-sizing: border-box;padding-bottom: 0.4em;background-color: white;}#sk-container-id-1 div.sk-label label {font-family: monospace;font-weight: bold;display: inline-block;line-height: 1.2em;}#sk-container-id-1 div.sk-label-container {text-align: center;}#sk-container-id-1 div.sk-container {/* jupyter's `normalize.less` sets `[hidden] { display: none; }` but bootstrap.min.css set `[hidden] { display: none !important; }` so we also need the `!important` here to be able to override the default hidden behavior on the sphinx rendered scikit-learn.org. See: https://github.com/scikit-learn/scikit-learn/issues/21755 */display: inline-block !important;position: relative;}#sk-container-id-1 div.sk-text-repr-fallback {display: none;}</style><div id=\"sk-container-id-1\" class=\"sk-top-container\"><div class=\"sk-text-repr-fallback\"><pre>LogisticRegression(max_iter=1000)</pre><b>In a Jupyter environment, please rerun this cell to show the HTML representation or trust the notebook. <br />On GitHub, the HTML representation is unable to render, please try loading this page with nbviewer.org.</b></div><div class=\"sk-container\" hidden><div class=\"sk-item\"><div class=\"sk-estimator sk-toggleable\"><input class=\"sk-toggleable__control sk-hidden--visually\" id=\"sk-estimator-id-1\" type=\"checkbox\" checked><label for=\"sk-estimator-id-1\" class=\"sk-toggleable__label sk-toggleable__label-arrow\">LogisticRegression</label><div class=\"sk-toggleable__content\"><pre>LogisticRegression(max_iter=1000)</pre></div></div></div></div></div>"
      ],
      "text/plain": [
       "LogisticRegression(max_iter=1000)"
      ]
     },
     "execution_count": 14,
     "metadata": {},
     "output_type": "execute_result"
    }
   ],
   "source": [
    "logreg = LogisticRegression(max_iter=1000)\n",
    "logreg.fit(Z_train, y_train)\n",
    "\n",
    "#got an error so I adjusted code - DataConversionWarning: A column-vector y was passed when a 1d array was expected. Please change the shape of y to (n_samples, ), for example using ravel()"
   ]
  },
  {
   "cell_type": "code",
   "execution_count": 15,
   "id": "2d1ffce4-f0c9-418b-8374-e901ce36f998",
   "metadata": {},
   "outputs": [
    {
     "data": {
      "text/plain": [
       "0.9992755872917314"
      ]
     },
     "execution_count": 15,
     "metadata": {},
     "output_type": "execute_result"
    }
   ],
   "source": [
    "logreg.score(Z_train, y_train)"
   ]
  },
  {
   "cell_type": "code",
   "execution_count": 16,
   "id": "b922baa6-37c7-439a-8065-32e6c1c115a9",
   "metadata": {},
   "outputs": [
    {
     "data": {
      "text/plain": [
       "0.840471756672874"
      ]
     },
     "execution_count": 16,
     "metadata": {},
     "output_type": "execute_result"
    }
   ],
   "source": [
    "logreg.score(Z_test, y_test)"
   ]
  },
  {
   "cell_type": "code",
   "execution_count": 17,
   "id": "bae8b3d2-2a62-4212-83ab-91191e53aafd",
   "metadata": {},
   "outputs": [
    {
     "data": {
      "text/plain": [
       "0.8336329269754116"
      ]
     },
     "execution_count": 17,
     "metadata": {},
     "output_type": "execute_result"
    }
   ],
   "source": [
    "balanced_accuracy_score(y_test, logreg.predict(Z_test))"
   ]
  },
  {
   "cell_type": "code",
   "execution_count": 18,
   "id": "22ca8559-653b-4f5b-967d-b5115845bbf8",
   "metadata": {},
   "outputs": [
    {
     "name": "stdout",
     "output_type": "stream",
     "text": [
      "recall - train: 0.999146466370775\n",
      "precision - train 0.9996584116140051\n",
      "recall - test: 0.8658474142345111\n",
      "precision - test 0.8703036541430778\n"
     ]
    }
   ],
   "source": [
    "print('recall - train:', recall_score(y_train, logreg.predict(Z_train)))\n",
    "print('precision - train', precision_score(y_train, logreg.predict(Z_train)))\n",
    "print('recall - test:', recall_score(y_test, logreg.predict(Z_test)))\n",
    "print('precision - test', precision_score(y_test, logreg.predict(Z_test)))"
   ]
  },
  {
   "cell_type": "code",
   "execution_count": 213,
   "id": "a539d810-9f25-4ae7-a111-b33a1442b48d",
   "metadata": {},
   "outputs": [
    {
     "data": {
      "text/plain": [
       "0.8991596638655462"
      ]
     },
     "execution_count": 213,
     "metadata": {},
     "output_type": "execute_result"
    }
   ],
   "source": [
    "f1_score(y_test, logreg.predict(Z_test))"
   ]
  },
  {
   "cell_type": "markdown",
   "id": "b9cc09ce-8feb-4f3b-a2f5-df5c7ad025b3",
   "metadata": {},
   "source": [
    "### balanced accuracy score is pretty close to the basic log reg accuracy score\n",
    "### accuracy scores show that the model is overfit to training data"
   ]
  },
  {
   "cell_type": "code",
   "execution_count": 20,
   "id": "7d119f69-9852-4237-bcc1-f3ffdcd0fd7f",
   "metadata": {},
   "outputs": [
    {
     "data": {
      "image/png": "[encoded data removed]",
      "text/plain": [
       "<Figure size 640x480 with 2 Axes>"
      ]
     },
     "metadata": {},
     "output_type": "display_data"
    }
   ],
   "source": [
    "ConfusionMatrixDisplay.from_estimator(logreg, Z_test, y_test);"
   ]
  },
  {
   "cell_type": "markdown",
   "id": "7d9dacdb-9953-441d-aa54-0c957c51a3d3",
   "metadata": {},
   "source": [
    "#### Since my data is imbalanced, I am addeding class_weight to my parameters."
   ]
  },
  {
   "cell_type": "code",
   "execution_count": 21,
   "id": "501bb486-f996-412c-9c05-71e02c11847c",
   "metadata": {},
   "outputs": [
    {
     "name": "stdout",
     "output_type": "stream",
     "text": [
      "0.9992755872917314\n",
      "0.84016139044072\n"
     ]
    }
   ],
   "source": [
    "logreg = LogisticRegression(max_iter = 1000, class_weight='balanced') #since I have an imbalanced dataset, trying strategies\n",
    "logreg.fit(Z_train, y_train)\n",
    "print(logreg.score(Z_train,y_train))\n",
    "print(logreg.score(Z_test,y_test))"
   ]
  },
  {
   "cell_type": "markdown",
   "id": "b528152a-1bc5-4ad0-a995-0d1863d9c298",
   "metadata": {},
   "source": [
    "**Note:** Tuning C parameter in LogisticRegression. In an ideal situation, I'd use GridSearchCV or BayesSearchCV, but due to size of df it's taking a really long time to search over"
   ]
  },
  {
   "cell_type": "code",
   "execution_count": 121,
   "id": "0806809d-281c-42cb-99b9-870f82fed4f7",
   "metadata": {},
   "outputs": [
    {
     "name": "stdout",
     "output_type": "stream",
     "text": [
      "0.9034461347407637\n",
      "0.8792675356921167\n"
     ]
    }
   ],
   "source": [
    "logreg = LogisticRegression(max_iter = 1000, class_weight='balanced', C=0.00004) #random C values I tried out\n",
    "logreg.fit(Z_train, y_train)\n",
    "print(logreg.score(Z_train,y_train))\n",
    "print(logreg.score(Z_test,y_test))"
   ]
  },
  {
   "cell_type": "code",
   "execution_count": 180,
   "id": "b5e48c82-12a8-483a-a171-92cf72d8f6a0",
   "metadata": {},
   "outputs": [
    {
     "name": "stdout",
     "output_type": "stream",
     "text": [
      "0.9060333229845804\n",
      "0.8808193668528864\n"
     ]
    }
   ],
   "source": [
    "logreg = LogisticRegression(max_iter = 1000, class_weight='balanced', C=0.000045)  #random C values I tried out\n",
    "logreg.fit(Z_train, y_train)\n",
    "print(logreg.score(Z_train,y_train))\n",
    "print(logreg.score(Z_test,y_test))"
   ]
  },
  {
   "cell_type": "markdown",
   "id": "a26db7b2-1475-4a1a-9823-d56cd9cfaf03",
   "metadata": {},
   "source": [
    "### I used the information above to set more specific parameters for a BayesSearchCV with logreg"
   ]
  },
  {
   "cell_type": "code",
   "execution_count": 139,
   "id": "483e5fa3-9cf8-412c-abde-eb155dbbc1da",
   "metadata": {},
   "outputs": [],
   "source": [
    "logreg = LogisticRegression(class_weight='balanced', max_iter = 1000)\n",
    "\n",
    "pipe_logreg_params = {\n",
    "    'C': np.linspace(0.00004,0.00006,50) \n",
    "}   \n",
    "\n",
    "bs_logreg=BayesSearchCV(\n",
    "    estimator=logreg,\n",
    "    search_spaces=pipe_logreg_params,\n",
    "    n_iter=50, \n",
    "    verbose=1,\n",
    "    cv=5,\n",
    "    n_jobs=-1\n",
    ")"
   ]
  },
  {
   "cell_type": "code",
   "execution_count": 140,
   "id": "5cc8ea9f-ca5e-4919-998f-94f47a30aa28",
   "metadata": {},
   "outputs": [
    {
     "name": "stdout",
     "output_type": "stream",
     "text": [
      "Fitting 5 folds for each of 1 candidates, totalling 5 fits\n",
      "Fitting 5 folds for each of 1 candidates, totalling 5 fits\n",
      "Fitting 5 folds for each of 1 candidates, totalling 5 fits\n",
      "Fitting 5 folds for each of 1 candidates, totalling 5 fits\n",
      "Fitting 5 folds for each of 1 candidates, totalling 5 fits\n",
      "Fitting 5 folds for each of 1 candidates, totalling 5 fits\n",
      "Fitting 5 folds for each of 1 candidates, totalling 5 fits\n",
      "Fitting 5 folds for each of 1 candidates, totalling 5 fits\n",
      "Fitting 5 folds for each of 1 candidates, totalling 5 fits\n",
      "Fitting 5 folds for each of 1 candidates, totalling 5 fits\n",
      "Fitting 5 folds for each of 1 candidates, totalling 5 fits\n",
      "Fitting 5 folds for each of 1 candidates, totalling 5 fits\n",
      "Fitting 5 folds for each of 1 candidates, totalling 5 fits\n",
      "Fitting 5 folds for each of 1 candidates, totalling 5 fits\n",
      "Fitting 5 folds for each of 1 candidates, totalling 5 fits\n",
      "Fitting 5 folds for each of 1 candidates, totalling 5 fits\n",
      "Fitting 5 folds for each of 1 candidates, totalling 5 fits\n",
      "Fitting 5 folds for each of 1 candidates, totalling 5 fits\n",
      "Fitting 5 folds for each of 1 candidates, totalling 5 fits\n",
      "Fitting 5 folds for each of 1 candidates, totalling 5 fits\n",
      "Fitting 5 folds for each of 1 candidates, totalling 5 fits\n",
      "Fitting 5 folds for each of 1 candidates, totalling 5 fits\n",
      "Fitting 5 folds for each of 1 candidates, totalling 5 fits\n",
      "Fitting 5 folds for each of 1 candidates, totalling 5 fits\n",
      "Fitting 5 folds for each of 1 candidates, totalling 5 fits\n",
      "Fitting 5 folds for each of 1 candidates, totalling 5 fits\n",
      "Fitting 5 folds for each of 1 candidates, totalling 5 fits\n",
      "Fitting 5 folds for each of 1 candidates, totalling 5 fits\n",
      "Fitting 5 folds for each of 1 candidates, totalling 5 fits\n",
      "Fitting 5 folds for each of 1 candidates, totalling 5 fits\n",
      "Fitting 5 folds for each of 1 candidates, totalling 5 fits\n",
      "Fitting 5 folds for each of 1 candidates, totalling 5 fits\n",
      "Fitting 5 folds for each of 1 candidates, totalling 5 fits\n",
      "Fitting 5 folds for each of 1 candidates, totalling 5 fits\n",
      "Fitting 5 folds for each of 1 candidates, totalling 5 fits\n",
      "Fitting 5 folds for each of 1 candidates, totalling 5 fits\n",
      "Fitting 5 folds for each of 1 candidates, totalling 5 fits\n",
      "Fitting 5 folds for each of 1 candidates, totalling 5 fits\n",
      "Fitting 5 folds for each of 1 candidates, totalling 5 fits\n",
      "Fitting 5 folds for each of 1 candidates, totalling 5 fits\n",
      "Fitting 5 folds for each of 1 candidates, totalling 5 fits\n",
      "Fitting 5 folds for each of 1 candidates, totalling 5 fits\n",
      "Fitting 5 folds for each of 1 candidates, totalling 5 fits\n",
      "Fitting 5 folds for each of 1 candidates, totalling 5 fits\n",
      "Fitting 5 folds for each of 1 candidates, totalling 5 fits\n",
      "Fitting 5 folds for each of 1 candidates, totalling 5 fits\n",
      "Fitting 5 folds for each of 1 candidates, totalling 5 fits\n",
      "Fitting 5 folds for each of 1 candidates, totalling 5 fits\n",
      "Fitting 5 folds for each of 1 candidates, totalling 5 fits\n",
      "Fitting 5 folds for each of 1 candidates, totalling 5 fits\n"
     ]
    },
    {
     "data": {
      "text/html": [
       "<style>#sk-container-id-10 {color: black;background-color: white;}#sk-container-id-10 pre{padding: 0;}#sk-container-id-10 div.sk-toggleable {background-color: white;}#sk-container-id-10 label.sk-toggleable__label {cursor: pointer;display: block;width: 100%;margin-bottom: 0;padding: 0.3em;box-sizing: border-box;text-align: center;}#sk-container-id-10 label.sk-toggleable__label-arrow:before {content: \"▸\";float: left;margin-right: 0.25em;color: #696969;}#sk-container-id-10 label.sk-toggleable__label-arrow:hover:before {color: black;}#sk-container-id-10 div.sk-estimator:hover label.sk-toggleable__label-arrow:before {color: black;}#sk-container-id-10 div.sk-toggleable__content {max-height: 0;max-width: 0;overflow: hidden;text-align: left;background-color: #f0f8ff;}#sk-container-id-10 div.sk-toggleable__content pre {margin: 0.2em;color: black;border-radius: 0.25em;background-color: #f0f8ff;}#sk-container-id-10 input.sk-toggleable__control:checked~div.sk-toggleable__content {max-height: 200px;max-width: 100%;overflow: auto;}#sk-container-id-10 input.sk-toggleable__control:checked~label.sk-toggleable__label-arrow:before {content: \"▾\";}#sk-container-id-10 div.sk-estimator input.sk-toggleable__control:checked~label.sk-toggleable__label {background-color: #d4ebff;}#sk-container-id-10 div.sk-label input.sk-toggleable__control:checked~label.sk-toggleable__label {background-color: #d4ebff;}#sk-container-id-10 input.sk-hidden--visually {border: 0;clip: rect(1px 1px 1px 1px);clip: rect(1px, 1px, 1px, 1px);height: 1px;margin: -1px;overflow: hidden;padding: 0;position: absolute;width: 1px;}#sk-container-id-10 div.sk-estimator {font-family: monospace;background-color: #f0f8ff;border: 1px dotted black;border-radius: 0.25em;box-sizing: border-box;margin-bottom: 0.5em;}#sk-container-id-10 div.sk-estimator:hover {background-color: #d4ebff;}#sk-container-id-10 div.sk-parallel-item::after {content: \"\";width: 100%;border-bottom: 1px solid gray;flex-grow: 1;}#sk-container-id-10 div.sk-label:hover label.sk-toggleable__label {background-color: #d4ebff;}#sk-container-id-10 div.sk-serial::before {content: \"\";position: absolute;border-left: 1px solid gray;box-sizing: border-box;top: 0;bottom: 0;left: 50%;z-index: 0;}#sk-container-id-10 div.sk-serial {display: flex;flex-direction: column;align-items: center;background-color: white;padding-right: 0.2em;padding-left: 0.2em;position: relative;}#sk-container-id-10 div.sk-item {position: relative;z-index: 1;}#sk-container-id-10 div.sk-parallel {display: flex;align-items: stretch;justify-content: center;background-color: white;position: relative;}#sk-container-id-10 div.sk-item::before, #sk-container-id-10 div.sk-parallel-item::before {content: \"\";position: absolute;border-left: 1px solid gray;box-sizing: border-box;top: 0;bottom: 0;left: 50%;z-index: -1;}#sk-container-id-10 div.sk-parallel-item {display: flex;flex-direction: column;z-index: 1;position: relative;background-color: white;}#sk-container-id-10 div.sk-parallel-item:first-child::after {align-self: flex-end;width: 50%;}#sk-container-id-10 div.sk-parallel-item:last-child::after {align-self: flex-start;width: 50%;}#sk-container-id-10 div.sk-parallel-item:only-child::after {width: 0;}#sk-container-id-10 div.sk-dashed-wrapped {border: 1px dashed gray;margin: 0 0.4em 0.5em 0.4em;box-sizing: border-box;padding-bottom: 0.4em;background-color: white;}#sk-container-id-10 div.sk-label label {font-family: monospace;font-weight: bold;display: inline-block;line-height: 1.2em;}#sk-container-id-10 div.sk-label-container {text-align: center;}#sk-container-id-10 div.sk-container {/* jupyter's `normalize.less` sets `[hidden] { display: none; }` but bootstrap.min.css set `[hidden] { display: none !important; }` so we also need the `!important` here to be able to override the default hidden behavior on the sphinx rendered scikit-learn.org. See: https://github.com/scikit-learn/scikit-learn/issues/21755 */display: inline-block !important;position: relative;}#sk-container-id-10 div.sk-text-repr-fallback {display: none;}</style><div id=\"sk-container-id-10\" class=\"sk-top-container\"><div class=\"sk-text-repr-fallback\"><pre>BayesSearchCV(cv=5,\n",
       "              estimator=LogisticRegression(class_weight=&#x27;balanced&#x27;,\n",
       "                                           max_iter=1000),\n",
       "              n_jobs=-1,\n",
       "              search_spaces={&#x27;C&#x27;: array([4.00000000e-05, 4.04081633e-05, 4.08163265e-05, 4.12244898e-05,\n",
       "       4.16326531e-05, 4.20408163e-05, 4.24489796e-05, 4.28571429e-05,\n",
       "       4.32653061e-05, 4.36734694e-05, 4.40816327e-05, 4.44897959e-05,\n",
       "       4.48979592e-05, 4.53061224e-05, 4.57142857e-05, 4....\n",
       "       4.97959184e-05, 5.02040816e-05, 5.06122449e-05, 5.10204082e-05,\n",
       "       5.14285714e-05, 5.18367347e-05, 5.22448980e-05, 5.26530612e-05,\n",
       "       5.30612245e-05, 5.34693878e-05, 5.38775510e-05, 5.42857143e-05,\n",
       "       5.46938776e-05, 5.51020408e-05, 5.55102041e-05, 5.59183673e-05,\n",
       "       5.63265306e-05, 5.67346939e-05, 5.71428571e-05, 5.75510204e-05,\n",
       "       5.79591837e-05, 5.83673469e-05, 5.87755102e-05, 5.91836735e-05,\n",
       "       5.95918367e-05, 6.00000000e-05])},\n",
       "              verbose=1)</pre><b>In a Jupyter environment, please rerun this cell to show the HTML representation or trust the notebook. <br />On GitHub, the HTML representation is unable to render, please try loading this page with nbviewer.org.</b></div><div class=\"sk-container\" hidden><div class=\"sk-item sk-dashed-wrapped\"><div class=\"sk-label-container\"><div class=\"sk-label sk-toggleable\"><input class=\"sk-toggleable__control sk-hidden--visually\" id=\"sk-estimator-id-23\" type=\"checkbox\" ><label for=\"sk-estimator-id-23\" class=\"sk-toggleable__label sk-toggleable__label-arrow\">BayesSearchCV</label><div class=\"sk-toggleable__content\"><pre>BayesSearchCV(cv=5,\n",
       "              estimator=LogisticRegression(class_weight=&#x27;balanced&#x27;,\n",
       "                                           max_iter=1000),\n",
       "              n_jobs=-1,\n",
       "              search_spaces={&#x27;C&#x27;: array([4.00000000e-05, 4.04081633e-05, 4.08163265e-05, 4.12244898e-05,\n",
       "       4.16326531e-05, 4.20408163e-05, 4.24489796e-05, 4.28571429e-05,\n",
       "       4.32653061e-05, 4.36734694e-05, 4.40816327e-05, 4.44897959e-05,\n",
       "       4.48979592e-05, 4.53061224e-05, 4.57142857e-05, 4....\n",
       "       4.97959184e-05, 5.02040816e-05, 5.06122449e-05, 5.10204082e-05,\n",
       "       5.14285714e-05, 5.18367347e-05, 5.22448980e-05, 5.26530612e-05,\n",
       "       5.30612245e-05, 5.34693878e-05, 5.38775510e-05, 5.42857143e-05,\n",
       "       5.46938776e-05, 5.51020408e-05, 5.55102041e-05, 5.59183673e-05,\n",
       "       5.63265306e-05, 5.67346939e-05, 5.71428571e-05, 5.75510204e-05,\n",
       "       5.79591837e-05, 5.83673469e-05, 5.87755102e-05, 5.91836735e-05,\n",
       "       5.95918367e-05, 6.00000000e-05])},\n",
       "              verbose=1)</pre></div></div></div><div class=\"sk-parallel\"><div class=\"sk-parallel-item\"><div class=\"sk-item\"><div class=\"sk-label-container\"><div class=\"sk-label sk-toggleable\"><input class=\"sk-toggleable__control sk-hidden--visually\" id=\"sk-estimator-id-24\" type=\"checkbox\" ><label for=\"sk-estimator-id-24\" class=\"sk-toggleable__label sk-toggleable__label-arrow\">estimator: LogisticRegression</label><div class=\"sk-toggleable__content\"><pre>LogisticRegression(class_weight=&#x27;balanced&#x27;, max_iter=1000)</pre></div></div></div><div class=\"sk-serial\"><div class=\"sk-item\"><div class=\"sk-estimator sk-toggleable\"><input class=\"sk-toggleable__control sk-hidden--visually\" id=\"sk-estimator-id-25\" type=\"checkbox\" ><label for=\"sk-estimator-id-25\" class=\"sk-toggleable__label sk-toggleable__label-arrow\">LogisticRegression</label><div class=\"sk-toggleable__content\"><pre>LogisticRegression(class_weight=&#x27;balanced&#x27;, max_iter=1000)</pre></div></div></div></div></div></div></div></div></div></div>"
      ],
      "text/plain": [
       "BayesSearchCV(cv=5,\n",
       "              estimator=LogisticRegression(class_weight='balanced',\n",
       "                                           max_iter=1000),\n",
       "              n_jobs=-1,\n",
       "              search_spaces={'C': array([4.00000000e-05, 4.04081633e-05, 4.08163265e-05, 4.12244898e-05,\n",
       "       4.16326531e-05, 4.20408163e-05, 4.24489796e-05, 4.28571429e-05,\n",
       "       4.32653061e-05, 4.36734694e-05, 4.40816327e-05, 4.44897959e-05,\n",
       "       4.48979592e-05, 4.53061224e-05, 4.57142857e-05, 4....\n",
       "       4.97959184e-05, 5.02040816e-05, 5.06122449e-05, 5.10204082e-05,\n",
       "       5.14285714e-05, 5.18367347e-05, 5.22448980e-05, 5.26530612e-05,\n",
       "       5.30612245e-05, 5.34693878e-05, 5.38775510e-05, 5.42857143e-05,\n",
       "       5.46938776e-05, 5.51020408e-05, 5.55102041e-05, 5.59183673e-05,\n",
       "       5.63265306e-05, 5.67346939e-05, 5.71428571e-05, 5.75510204e-05,\n",
       "       5.79591837e-05, 5.83673469e-05, 5.87755102e-05, 5.91836735e-05,\n",
       "       5.95918367e-05, 6.00000000e-05])},\n",
       "              verbose=1)"
      ]
     },
     "execution_count": 140,
     "metadata": {},
     "output_type": "execute_result"
    }
   ],
   "source": [
    "bs_logreg.fit(Z_train, y_train)"
   ]
  },
  {
   "cell_type": "code",
   "execution_count": 145,
   "id": "e77b2ea1-134c-486c-ab92-ee982956299c",
   "metadata": {},
   "outputs": [],
   "source": [
    "#commenting out so I don't run again\n",
    "# pickle.dump(bs_logreg, open('bs_logreg.pkl', 'wb'))"
   ]
  },
  {
   "cell_type": "code",
   "execution_count": 146,
   "id": "97e1e9fa-0d9a-415a-aeb7-9d66ccae80c4",
   "metadata": {},
   "outputs": [],
   "source": [
    "# Loading model to compare the results\n",
    "bs_logreg = pickle.load(open('pickles/bs_logreg.pkl','rb'))"
   ]
  },
  {
   "cell_type": "code",
   "execution_count": 147,
   "id": "3a2ab0e1-aaa6-4240-a17a-584c8b4599e4",
   "metadata": {},
   "outputs": [
    {
     "data": {
      "text/plain": [
       "OrderedDict([('C', 6e-05)])"
      ]
     },
     "execution_count": 147,
     "metadata": {},
     "output_type": "execute_result"
    }
   ],
   "source": [
    "bs_logreg.best_params_"
   ]
  },
  {
   "cell_type": "code",
   "execution_count": 148,
   "id": "c2148754-3f33-4abb-9d9d-335f4fdc9786",
   "metadata": {},
   "outputs": [
    {
     "data": {
      "text/plain": [
       "0.9142088378350409"
      ]
     },
     "execution_count": 148,
     "metadata": {},
     "output_type": "execute_result"
    }
   ],
   "source": [
    "bs_logreg.score(Z_train, y_train)"
   ]
  },
  {
   "cell_type": "code",
   "execution_count": 149,
   "id": "9cc31480-cccf-4ac8-ad99-79897cd2f274",
   "metadata": {},
   "outputs": [
    {
     "data": {
      "text/plain": [
       "0.8836126629422719"
      ]
     },
     "execution_count": 149,
     "metadata": {},
     "output_type": "execute_result"
    }
   ],
   "source": [
    "bs_logreg.score(Z_test, y_test)"
   ]
  },
  {
   "cell_type": "code",
   "execution_count": 150,
   "id": "339ce8b3-1da4-491e-b5f2-8033d38c2a3d",
   "metadata": {},
   "outputs": [
    {
     "data": {
      "text/plain": [
       "0.8842606210485414"
      ]
     },
     "execution_count": 150,
     "metadata": {},
     "output_type": "execute_result"
    }
   ],
   "source": [
    "balanced_accuracy_score(y_test, bs_logreg.predict(Z_test))"
   ]
  },
  {
   "cell_type": "code",
   "execution_count": 151,
   "id": "86522ad8-7fec-48ed-b9c2-395795bfe305",
   "metadata": {},
   "outputs": [
    {
     "name": "stdout",
     "output_type": "stream",
     "text": [
      "recall - train: 0.9066234209627859\n",
      "precision - train 0.9495798319327731\n",
      "recall - test: 0.8812083973374296\n",
      "precision - test 0.9232832618025751\n"
     ]
    }
   ],
   "source": [
    "print('recall - train:', recall_score(y_train, bs_logreg.predict(Z_train)))\n",
    "print('precision - train', precision_score(y_train, bs_logreg.predict(Z_train)))\n",
    "print('recall - test:', recall_score(y_test, bs_logreg.predict(Z_test)))\n",
    "print('precision - test', precision_score(y_test, bs_logreg.predict(Z_test)))"
   ]
  },
  {
   "cell_type": "code",
   "execution_count": 215,
   "id": "546dfab1-e118-4242-b1ad-4b6e1a011709",
   "metadata": {},
   "outputs": [
    {
     "data": {
      "text/plain": [
       "0.9017553052135184"
      ]
     },
     "execution_count": 215,
     "metadata": {},
     "output_type": "execute_result"
    }
   ],
   "source": [
    "f1_score(y_test, bs_logreg.predict(Z_test))"
   ]
  },
  {
   "cell_type": "code",
   "execution_count": 308,
   "id": "dd655cf6-4828-4372-a51e-7a2238cc6747",
   "metadata": {},
   "outputs": [
    {
     "data": {
      "image/png": "[encoded data removed]",
      "text/plain": [
       "<Figure size 640x480 with 2 Axes>"
      ]
     },
     "metadata": {},
     "output_type": "display_data"
    }
   ],
   "source": [
    "ConfusionMatrixDisplay.from_estimator(bs_logreg, Z_test, y_test);\n",
    "plt.title('Confusion Matrix', size=16)\n",
    "plt.savefig('plots/cm_bs_bs-logreg.png',dpi=300, bbox_inches = \"tight\")"
   ]
  },
  {
   "cell_type": "markdown",
   "id": "e4a28d77-0a66-4261-be0e-31b0ba23cea8",
   "metadata": {},
   "source": [
    "### Grabbing coeffients"
   ]
  },
  {
   "cell_type": "code",
   "execution_count": 183,
   "id": "6fd8551f-adf3-42ca-95ef-eb02ccb440d7",
   "metadata": {},
   "outputs": [
    {
     "data": {
      "text/plain": [
       "array([[ 0.00381106,  0.00525913,  0.01832551, ...,  0.00370449,\n",
       "        -0.00183592,  0.00343896]])"
      ]
     },
     "execution_count": 183,
     "metadata": {},
     "output_type": "execute_result"
    }
   ],
   "source": [
    "bs_logreg.best_estimator_.coef_"
   ]
  },
  {
   "cell_type": "code",
   "execution_count": 188,
   "id": "d5588ac2-1cf3-4855-8f50-a31f5ca9a185",
   "metadata": {},
   "outputs": [],
   "source": [
    "logreg_coefs = pd.DataFrame(bs_logreg.best_estimator_.coef_, columns=X_train.columns).T"
   ]
  },
  {
   "cell_type": "code",
   "execution_count": 202,
   "id": "b0e2ff4d-4c70-4942-a9cf-c2cd7f62856f",
   "metadata": {},
   "outputs": [
    {
     "data": {
      "text/html": [
       "<div>\n",
       "<style scoped>\n",
       "    .dataframe tbody tr th:only-of-type {\n",
       "        vertical-align: middle;\n",
       "    }\n",
       "\n",
       "    .dataframe tbody tr th {\n",
       "        vertical-align: top;\n",
       "    }\n",
       "\n",
       "    .dataframe thead th {\n",
       "        text-align: right;\n",
       "    }\n",
       "</style>\n",
       "<table border=\"1\" class=\"dataframe\">\n",
       "  <thead>\n",
       "    <tr style=\"text-align: right;\">\n",
       "      <th></th>\n",
       "      <th>0</th>\n",
       "    </tr>\n",
       "  </thead>\n",
       "  <tbody>\n",
       "    <tr>\n",
       "      <th>text_length</th>\n",
       "      <td>0.003811</td>\n",
       "    </tr>\n",
       "    <tr>\n",
       "      <th>word_count</th>\n",
       "      <td>0.005259</td>\n",
       "    </tr>\n",
       "    <tr>\n",
       "      <th>neg</th>\n",
       "      <td>0.018326</td>\n",
       "    </tr>\n",
       "    <tr>\n",
       "      <th>pos</th>\n",
       "      <td>-0.017784</td>\n",
       "    </tr>\n",
       "    <tr>\n",
       "      <th>neu</th>\n",
       "      <td>0.006083</td>\n",
       "    </tr>\n",
       "    <tr>\n",
       "      <th>...</th>\n",
       "      <td>...</td>\n",
       "    </tr>\n",
       "    <tr>\n",
       "      <th>zinc pyrithione</th>\n",
       "      <td>0.002363</td>\n",
       "    </tr>\n",
       "    <tr>\n",
       "      <th>zit</th>\n",
       "      <td>0.002769</td>\n",
       "    </tr>\n",
       "    <tr>\n",
       "      <th>zone</th>\n",
       "      <td>0.003704</td>\n",
       "    </tr>\n",
       "    <tr>\n",
       "      <th>zone dry</th>\n",
       "      <td>-0.001836</td>\n",
       "    </tr>\n",
       "    <tr>\n",
       "      <th>zone oily</th>\n",
       "      <td>0.003439</td>\n",
       "    </tr>\n",
       "  </tbody>\n",
       "</table>\n",
       "<p>5484 rows × 1 columns</p>\n",
       "</div>"
      ],
      "text/plain": [
       "                        0\n",
       "text_length      0.003811\n",
       "word_count       0.005259\n",
       "neg              0.018326\n",
       "pos             -0.017784\n",
       "neu              0.006083\n",
       "...                   ...\n",
       "zinc pyrithione  0.002363\n",
       "zit              0.002769\n",
       "zone             0.003704\n",
       "zone dry        -0.001836\n",
       "zone oily        0.003439\n",
       "\n",
       "[5484 rows x 1 columns]"
      ]
     },
     "execution_count": 202,
     "metadata": {},
     "output_type": "execute_result"
    }
   ],
   "source": [
    "logreg_coefs"
   ]
  },
  {
   "cell_type": "code",
   "execution_count": 205,
   "id": "c0552a13-df99-4000-a678-f01ce4b93706",
   "metadata": {},
   "outputs": [
    {
     "data": {
      "text/html": [
       "<div>\n",
       "<style scoped>\n",
       "    .dataframe tbody tr th:only-of-type {\n",
       "        vertical-align: middle;\n",
       "    }\n",
       "\n",
       "    .dataframe tbody tr th {\n",
       "        vertical-align: top;\n",
       "    }\n",
       "\n",
       "    .dataframe thead th {\n",
       "        text-align: right;\n",
       "    }\n",
       "</style>\n",
       "<table border=\"1\" class=\"dataframe\">\n",
       "  <thead>\n",
       "    <tr style=\"text-align: right;\">\n",
       "      <th></th>\n",
       "      <th>0</th>\n",
       "    </tr>\n",
       "  </thead>\n",
       "  <tbody>\n",
       "    <tr>\n",
       "      <th>acne</th>\n",
       "      <td>0.037862</td>\n",
       "    </tr>\n",
       "    <tr>\n",
       "      <th>product question</th>\n",
       "      <td>0.037053</td>\n",
       "    </tr>\n",
       "    <tr>\n",
       "      <th>skin concern</th>\n",
       "      <td>0.036490</td>\n",
       "    </tr>\n",
       "    <tr>\n",
       "      <th>concern</th>\n",
       "      <td>0.036086</td>\n",
       "    </tr>\n",
       "    <tr>\n",
       "      <th>help</th>\n",
       "      <td>0.033877</td>\n",
       "    </tr>\n",
       "    <tr>\n",
       "      <th>skin</th>\n",
       "      <td>0.033743</td>\n",
       "    </tr>\n",
       "    <tr>\n",
       "      <th>routine help</th>\n",
       "      <td>0.030300</td>\n",
       "    </tr>\n",
       "    <tr>\n",
       "      <th>misc</th>\n",
       "      <td>0.026669</td>\n",
       "    </tr>\n",
       "    <tr>\n",
       "      <th>question</th>\n",
       "      <td>0.025523</td>\n",
       "    </tr>\n",
       "    <tr>\n",
       "      <th>routine</th>\n",
       "      <td>0.024898</td>\n",
       "    </tr>\n",
       "    <tr>\n",
       "      <th>rid</th>\n",
       "      <td>0.024670</td>\n",
       "    </tr>\n",
       "    <tr>\n",
       "      <th>use</th>\n",
       "      <td>0.020314</td>\n",
       "    </tr>\n",
       "    <tr>\n",
       "      <th>year</th>\n",
       "      <td>0.019342</td>\n",
       "    </tr>\n",
       "    <tr>\n",
       "      <th>neg</th>\n",
       "      <td>0.018326</td>\n",
       "    </tr>\n",
       "    <tr>\n",
       "      <th>bump</th>\n",
       "      <td>0.017706</td>\n",
       "    </tr>\n",
       "    <tr>\n",
       "      <th>advice</th>\n",
       "      <td>0.017704</td>\n",
       "    </tr>\n",
       "    <tr>\n",
       "      <th>sun care</th>\n",
       "      <td>0.017659</td>\n",
       "    </tr>\n",
       "    <tr>\n",
       "      <th>start</th>\n",
       "      <td>0.017560</td>\n",
       "    </tr>\n",
       "    <tr>\n",
       "      <th>cerave</th>\n",
       "      <td>0.017284</td>\n",
       "    </tr>\n",
       "    <tr>\n",
       "      <th>red</th>\n",
       "      <td>0.016594</td>\n",
       "    </tr>\n",
       "  </tbody>\n",
       "</table>\n",
       "</div>"
      ],
      "text/plain": [
       "                         0\n",
       "acne              0.037862\n",
       "product question  0.037053\n",
       "skin concern      0.036490\n",
       "concern           0.036086\n",
       "help              0.033877\n",
       "skin              0.033743\n",
       "routine help      0.030300\n",
       "misc              0.026669\n",
       "question          0.025523\n",
       "routine           0.024898\n",
       "rid               0.024670\n",
       "use               0.020314\n",
       "year              0.019342\n",
       "neg               0.018326\n",
       "bump              0.017706\n",
       "advice            0.017704\n",
       "sun care          0.017659\n",
       "start             0.017560\n",
       "cerave            0.017284\n",
       "red               0.016594"
      ]
     },
     "execution_count": 205,
     "metadata": {},
     "output_type": "execute_result"
    }
   ],
   "source": [
    "logreg_coefs.sort_values(by=0, ascending=False)[:20]"
   ]
  },
  {
   "cell_type": "markdown",
   "id": "8fe1d4ea-2a88-457f-8348-1cf3ba8412f1",
   "metadata": {},
   "source": [
    "### The coefficents represent the log odds so they need to be exponentiated to get the odds of success since it's a classification model. Here, a unit increase in 'acne' word in the data means that the odds of success increases by 1.04."
   ]
  },
  {
   "cell_type": "code",
   "execution_count": 207,
   "id": "c41433c8-eb8f-4e3c-bb3f-ed681dbb33c9",
   "metadata": {},
   "outputs": [],
   "source": [
    "#create a column that exponentiates the coefs from the logreg\n",
    "logreg_coefs['odds_of_success'] = [np.exp(v) for v in logreg_coefs[0]]"
   ]
  },
  {
   "cell_type": "code",
   "execution_count": 219,
   "id": "b83f6e31-49cf-4cee-b377-f99dde691c44",
   "metadata": {},
   "outputs": [
    {
     "data": {
      "text/html": [
       "<div>\n",
       "<style scoped>\n",
       "    .dataframe tbody tr th:only-of-type {\n",
       "        vertical-align: middle;\n",
       "    }\n",
       "\n",
       "    .dataframe tbody tr th {\n",
       "        vertical-align: top;\n",
       "    }\n",
       "\n",
       "    .dataframe thead th {\n",
       "        text-align: right;\n",
       "    }\n",
       "</style>\n",
       "<table border=\"1\" class=\"dataframe\">\n",
       "  <thead>\n",
       "    <tr style=\"text-align: right;\">\n",
       "      <th></th>\n",
       "      <th>0</th>\n",
       "      <th>odds_of_success</th>\n",
       "    </tr>\n",
       "  </thead>\n",
       "  <tbody>\n",
       "    <tr>\n",
       "      <th>acne</th>\n",
       "      <td>0.037862</td>\n",
       "      <td>1.038587</td>\n",
       "    </tr>\n",
       "    <tr>\n",
       "      <th>product question</th>\n",
       "      <td>0.037053</td>\n",
       "      <td>1.037749</td>\n",
       "    </tr>\n",
       "    <tr>\n",
       "      <th>skin concern</th>\n",
       "      <td>0.036490</td>\n",
       "      <td>1.037164</td>\n",
       "    </tr>\n",
       "    <tr>\n",
       "      <th>concern</th>\n",
       "      <td>0.036086</td>\n",
       "      <td>1.036745</td>\n",
       "    </tr>\n",
       "    <tr>\n",
       "      <th>help</th>\n",
       "      <td>0.033877</td>\n",
       "      <td>1.034458</td>\n",
       "    </tr>\n",
       "    <tr>\n",
       "      <th>skin</th>\n",
       "      <td>0.033743</td>\n",
       "      <td>1.034319</td>\n",
       "    </tr>\n",
       "    <tr>\n",
       "      <th>routine help</th>\n",
       "      <td>0.030300</td>\n",
       "      <td>1.030764</td>\n",
       "    </tr>\n",
       "    <tr>\n",
       "      <th>misc</th>\n",
       "      <td>0.026669</td>\n",
       "      <td>1.027028</td>\n",
       "    </tr>\n",
       "    <tr>\n",
       "      <th>question</th>\n",
       "      <td>0.025523</td>\n",
       "      <td>1.025852</td>\n",
       "    </tr>\n",
       "    <tr>\n",
       "      <th>routine</th>\n",
       "      <td>0.024898</td>\n",
       "      <td>1.025211</td>\n",
       "    </tr>\n",
       "    <tr>\n",
       "      <th>rid</th>\n",
       "      <td>0.024670</td>\n",
       "      <td>1.024977</td>\n",
       "    </tr>\n",
       "    <tr>\n",
       "      <th>use</th>\n",
       "      <td>0.020314</td>\n",
       "      <td>1.020521</td>\n",
       "    </tr>\n",
       "    <tr>\n",
       "      <th>year</th>\n",
       "      <td>0.019342</td>\n",
       "      <td>1.019530</td>\n",
       "    </tr>\n",
       "    <tr>\n",
       "      <th>neg</th>\n",
       "      <td>0.018326</td>\n",
       "      <td>1.018494</td>\n",
       "    </tr>\n",
       "    <tr>\n",
       "      <th>bump</th>\n",
       "      <td>0.017706</td>\n",
       "      <td>1.017864</td>\n",
       "    </tr>\n",
       "    <tr>\n",
       "      <th>advice</th>\n",
       "      <td>0.017704</td>\n",
       "      <td>1.017862</td>\n",
       "    </tr>\n",
       "    <tr>\n",
       "      <th>sun care</th>\n",
       "      <td>0.017659</td>\n",
       "      <td>1.017815</td>\n",
       "    </tr>\n",
       "    <tr>\n",
       "      <th>start</th>\n",
       "      <td>0.017560</td>\n",
       "      <td>1.017715</td>\n",
       "    </tr>\n",
       "    <tr>\n",
       "      <th>cerave</th>\n",
       "      <td>0.017284</td>\n",
       "      <td>1.017434</td>\n",
       "    </tr>\n",
       "    <tr>\n",
       "      <th>red</th>\n",
       "      <td>0.016594</td>\n",
       "      <td>1.016733</td>\n",
       "    </tr>\n",
       "  </tbody>\n",
       "</table>\n",
       "</div>"
      ],
      "text/plain": [
       "                         0  odds_of_success\n",
       "acne              0.037862         1.038587\n",
       "product question  0.037053         1.037749\n",
       "skin concern      0.036490         1.037164\n",
       "concern           0.036086         1.036745\n",
       "help              0.033877         1.034458\n",
       "skin              0.033743         1.034319\n",
       "routine help      0.030300         1.030764\n",
       "misc              0.026669         1.027028\n",
       "question          0.025523         1.025852\n",
       "routine           0.024898         1.025211\n",
       "rid               0.024670         1.024977\n",
       "use               0.020314         1.020521\n",
       "year              0.019342         1.019530\n",
       "neg               0.018326         1.018494\n",
       "bump              0.017706         1.017864\n",
       "advice            0.017704         1.017862\n",
       "sun care          0.017659         1.017815\n",
       "start             0.017560         1.017715\n",
       "cerave            0.017284         1.017434\n",
       "red               0.016594         1.016733"
      ]
     },
     "execution_count": 219,
     "metadata": {},
     "output_type": "execute_result"
    }
   ],
   "source": [
    "logreg_coefs.sort_values(by=0, ascending=False)[:20]"
   ]
  },
  {
   "cell_type": "code",
   "execution_count": 222,
   "id": "db00e851-cc4d-4220-9894-49a7762cc3b9",
   "metadata": {},
   "outputs": [],
   "source": [
    "df = logreg_coefs.sort_values(by=0, ascending=False)\n",
    "df.to_csv('cleaned_datasets/model_coef.csv')\n",
    "# df.rename({0: 'coef'}, inplace=True)\n",
    "# df.reset_index(inplace=True)"
   ]
  },
  {
   "cell_type": "markdown",
   "id": "495c7dc2-5d50-4af9-9c10-dd5baa9b3dfb",
   "metadata": {},
   "source": [
    "---"
   ]
  },
  {
   "cell_type": "markdown",
   "id": "dd47a198-00ff-46a1-ba6d-d605888f7cd8",
   "metadata": {
    "tags": []
   },
   "source": [
    "### 2. Random Forest Classifier"
   ]
  },
  {
   "cell_type": "code",
   "execution_count": 22,
   "id": "4e7e5196-6378-413c-93a4-5d761f940491",
   "metadata": {},
   "outputs": [],
   "source": [
    "#instantiate Random Forest Classifier\n",
    "rf = RandomForestClassifier()"
   ]
  },
  {
   "cell_type": "code",
   "execution_count": 23,
   "id": "ce364eb2-56a9-4fa3-bf1f-2c157245dd43",
   "metadata": {},
   "outputs": [],
   "source": [
    "#pipe params\n",
    "rf_params = {\n",
    "    'n_estimators': Integer(100,400),  \n",
    "    'max_features': ['sqrt', 'log2', None],     \n",
    "    'max_depth': Integer(1, 32),\n",
    "    'min_samples_leaf': Real(0.1, 0.5)}\n",
    "\n",
    "#Instantiate BayesSearchCV\n",
    "bs_rf = BayesSearchCV(\n",
    "    estimator = rf,\n",
    "    search_spaces = rf_params,\n",
    "    scoring = 'f1_weighted',\n",
    "    n_iter = 30,  #50\n",
    "    verbose = 1,\n",
    "    cv = 3,  #5\n",
    "    n_jobs=-1\n",
    ")"
   ]
  },
  {
   "cell_type": "markdown",
   "id": "40d720a0-c5a7-4238-b234-756004e29bf2",
   "metadata": {},
   "source": [
    "#### Originally ran with 5 cvs and 50 iterations which took about 8.5 hrs. Accidently repickled over that model & had to re-run :( :(, but due to time limitations, I adjusted the parameters."
   ]
  },
  {
   "cell_type": "code",
   "execution_count": 24,
   "id": "7b4c3ed8-a890-4a76-9590-0d09f38fcadb",
   "metadata": {},
   "outputs": [
    {
     "name": "stdout",
     "output_type": "stream",
     "text": [
      "Fitting 3 folds for each of 1 candidates, totalling 3 fits\n",
      "Fitting 3 folds for each of 1 candidates, totalling 3 fits\n",
      "Fitting 3 folds for each of 1 candidates, totalling 3 fits\n",
      "Fitting 3 folds for each of 1 candidates, totalling 3 fits\n",
      "Fitting 3 folds for each of 1 candidates, totalling 3 fits\n",
      "Fitting 3 folds for each of 1 candidates, totalling 3 fits\n",
      "Fitting 3 folds for each of 1 candidates, totalling 3 fits\n",
      "Fitting 3 folds for each of 1 candidates, totalling 3 fits\n",
      "Fitting 3 folds for each of 1 candidates, totalling 3 fits\n",
      "Fitting 3 folds for each of 1 candidates, totalling 3 fits\n",
      "Fitting 3 folds for each of 1 candidates, totalling 3 fits\n",
      "Fitting 3 folds for each of 1 candidates, totalling 3 fits\n",
      "Fitting 3 folds for each of 1 candidates, totalling 3 fits\n",
      "Fitting 3 folds for each of 1 candidates, totalling 3 fits\n",
      "Fitting 3 folds for each of 1 candidates, totalling 3 fits\n",
      "Fitting 3 folds for each of 1 candidates, totalling 3 fits\n",
      "Fitting 3 folds for each of 1 candidates, totalling 3 fits\n",
      "Fitting 3 folds for each of 1 candidates, totalling 3 fits\n",
      "Fitting 3 folds for each of 1 candidates, totalling 3 fits\n",
      "Fitting 3 folds for each of 1 candidates, totalling 3 fits\n",
      "Fitting 3 folds for each of 1 candidates, totalling 3 fits\n",
      "Fitting 3 folds for each of 1 candidates, totalling 3 fits\n",
      "Fitting 3 folds for each of 1 candidates, totalling 3 fits\n"
     ]
    },
    {
     "name": "stderr",
     "output_type": "stream",
     "text": [
      "/Users/debbiesim/opt/anaconda3/envs/dsi/lib/python3.9/site-packages/skopt/optimizer/optimizer.py:449: UserWarning: The objective has been evaluated at this point before.\n",
      "  warnings.warn(\"The objective has been evaluated \"\n"
     ]
    },
    {
     "name": "stdout",
     "output_type": "stream",
     "text": [
      "Fitting 3 folds for each of 1 candidates, totalling 3 fits\n"
     ]
    },
    {
     "name": "stderr",
     "output_type": "stream",
     "text": [
      "/Users/debbiesim/opt/anaconda3/envs/dsi/lib/python3.9/site-packages/skopt/optimizer/optimizer.py:449: UserWarning: The objective has been evaluated at this point before.\n",
      "  warnings.warn(\"The objective has been evaluated \"\n"
     ]
    },
    {
     "name": "stdout",
     "output_type": "stream",
     "text": [
      "Fitting 3 folds for each of 1 candidates, totalling 3 fits\n",
      "Fitting 3 folds for each of 1 candidates, totalling 3 fits\n",
      "Fitting 3 folds for each of 1 candidates, totalling 3 fits\n",
      "Fitting 3 folds for each of 1 candidates, totalling 3 fits\n",
      "Fitting 3 folds for each of 1 candidates, totalling 3 fits\n",
      "Fitting 3 folds for each of 1 candidates, totalling 3 fits\n"
     ]
    },
    {
     "data": {
      "text/html": [
       "<style>#sk-container-id-2 {color: black;background-color: white;}#sk-container-id-2 pre{padding: 0;}#sk-container-id-2 div.sk-toggleable {background-color: white;}#sk-container-id-2 label.sk-toggleable__label {cursor: pointer;display: block;width: 100%;margin-bottom: 0;padding: 0.3em;box-sizing: border-box;text-align: center;}#sk-container-id-2 label.sk-toggleable__label-arrow:before {content: \"▸\";float: left;margin-right: 0.25em;color: #696969;}#sk-container-id-2 label.sk-toggleable__label-arrow:hover:before {color: black;}#sk-container-id-2 div.sk-estimator:hover label.sk-toggleable__label-arrow:before {color: black;}#sk-container-id-2 div.sk-toggleable__content {max-height: 0;max-width: 0;overflow: hidden;text-align: left;background-color: #f0f8ff;}#sk-container-id-2 div.sk-toggleable__content pre {margin: 0.2em;color: black;border-radius: 0.25em;background-color: #f0f8ff;}#sk-container-id-2 input.sk-toggleable__control:checked~div.sk-toggleable__content {max-height: 200px;max-width: 100%;overflow: auto;}#sk-container-id-2 input.sk-toggleable__control:checked~label.sk-toggleable__label-arrow:before {content: \"▾\";}#sk-container-id-2 div.sk-estimator input.sk-toggleable__control:checked~label.sk-toggleable__label {background-color: #d4ebff;}#sk-container-id-2 div.sk-label input.sk-toggleable__control:checked~label.sk-toggleable__label {background-color: #d4ebff;}#sk-container-id-2 input.sk-hidden--visually {border: 0;clip: rect(1px 1px 1px 1px);clip: rect(1px, 1px, 1px, 1px);height: 1px;margin: -1px;overflow: hidden;padding: 0;position: absolute;width: 1px;}#sk-container-id-2 div.sk-estimator {font-family: monospace;background-color: #f0f8ff;border: 1px dotted black;border-radius: 0.25em;box-sizing: border-box;margin-bottom: 0.5em;}#sk-container-id-2 div.sk-estimator:hover {background-color: #d4ebff;}#sk-container-id-2 div.sk-parallel-item::after {content: \"\";width: 100%;border-bottom: 1px solid gray;flex-grow: 1;}#sk-container-id-2 div.sk-label:hover label.sk-toggleable__label {background-color: #d4ebff;}#sk-container-id-2 div.sk-serial::before {content: \"\";position: absolute;border-left: 1px solid gray;box-sizing: border-box;top: 0;bottom: 0;left: 50%;z-index: 0;}#sk-container-id-2 div.sk-serial {display: flex;flex-direction: column;align-items: center;background-color: white;padding-right: 0.2em;padding-left: 0.2em;position: relative;}#sk-container-id-2 div.sk-item {position: relative;z-index: 1;}#sk-container-id-2 div.sk-parallel {display: flex;align-items: stretch;justify-content: center;background-color: white;position: relative;}#sk-container-id-2 div.sk-item::before, #sk-container-id-2 div.sk-parallel-item::before {content: \"\";position: absolute;border-left: 1px solid gray;box-sizing: border-box;top: 0;bottom: 0;left: 50%;z-index: -1;}#sk-container-id-2 div.sk-parallel-item {display: flex;flex-direction: column;z-index: 1;position: relative;background-color: white;}#sk-container-id-2 div.sk-parallel-item:first-child::after {align-self: flex-end;width: 50%;}#sk-container-id-2 div.sk-parallel-item:last-child::after {align-self: flex-start;width: 50%;}#sk-container-id-2 div.sk-parallel-item:only-child::after {width: 0;}#sk-container-id-2 div.sk-dashed-wrapped {border: 1px dashed gray;margin: 0 0.4em 0.5em 0.4em;box-sizing: border-box;padding-bottom: 0.4em;background-color: white;}#sk-container-id-2 div.sk-label label {font-family: monospace;font-weight: bold;display: inline-block;line-height: 1.2em;}#sk-container-id-2 div.sk-label-container {text-align: center;}#sk-container-id-2 div.sk-container {/* jupyter's `normalize.less` sets `[hidden] { display: none; }` but bootstrap.min.css set `[hidden] { display: none !important; }` so we also need the `!important` here to be able to override the default hidden behavior on the sphinx rendered scikit-learn.org. See: https://github.com/scikit-learn/scikit-learn/issues/21755 */display: inline-block !important;position: relative;}#sk-container-id-2 div.sk-text-repr-fallback {display: none;}</style><div id=\"sk-container-id-2\" class=\"sk-top-container\"><div class=\"sk-text-repr-fallback\"><pre>BayesSearchCV(cv=3, estimator=RandomForestClassifier(), n_iter=30, n_jobs=-1,\n",
       "              scoring=&#x27;f1_weighted&#x27;,\n",
       "              search_spaces={&#x27;max_depth&#x27;: Integer(low=1, high=32, prior=&#x27;uniform&#x27;, transform=&#x27;normalize&#x27;),\n",
       "                             &#x27;max_features&#x27;: [&#x27;sqrt&#x27;, &#x27;log2&#x27;, None],\n",
       "                             &#x27;min_samples_leaf&#x27;: Real(low=0.1, high=0.5, prior=&#x27;uniform&#x27;, transform=&#x27;normalize&#x27;),\n",
       "                             &#x27;n_estimators&#x27;: Integer(low=100, high=400, prior=&#x27;uniform&#x27;, transform=&#x27;normalize&#x27;)},\n",
       "              verbose=1)</pre><b>In a Jupyter environment, please rerun this cell to show the HTML representation or trust the notebook. <br />On GitHub, the HTML representation is unable to render, please try loading this page with nbviewer.org.</b></div><div class=\"sk-container\" hidden><div class=\"sk-item sk-dashed-wrapped\"><div class=\"sk-label-container\"><div class=\"sk-label sk-toggleable\"><input class=\"sk-toggleable__control sk-hidden--visually\" id=\"sk-estimator-id-2\" type=\"checkbox\" ><label for=\"sk-estimator-id-2\" class=\"sk-toggleable__label sk-toggleable__label-arrow\">BayesSearchCV</label><div class=\"sk-toggleable__content\"><pre>BayesSearchCV(cv=3, estimator=RandomForestClassifier(), n_iter=30, n_jobs=-1,\n",
       "              scoring=&#x27;f1_weighted&#x27;,\n",
       "              search_spaces={&#x27;max_depth&#x27;: Integer(low=1, high=32, prior=&#x27;uniform&#x27;, transform=&#x27;normalize&#x27;),\n",
       "                             &#x27;max_features&#x27;: [&#x27;sqrt&#x27;, &#x27;log2&#x27;, None],\n",
       "                             &#x27;min_samples_leaf&#x27;: Real(low=0.1, high=0.5, prior=&#x27;uniform&#x27;, transform=&#x27;normalize&#x27;),\n",
       "                             &#x27;n_estimators&#x27;: Integer(low=100, high=400, prior=&#x27;uniform&#x27;, transform=&#x27;normalize&#x27;)},\n",
       "              verbose=1)</pre></div></div></div><div class=\"sk-parallel\"><div class=\"sk-parallel-item\"><div class=\"sk-item\"><div class=\"sk-label-container\"><div class=\"sk-label sk-toggleable\"><input class=\"sk-toggleable__control sk-hidden--visually\" id=\"sk-estimator-id-3\" type=\"checkbox\" ><label for=\"sk-estimator-id-3\" class=\"sk-toggleable__label sk-toggleable__label-arrow\">estimator: RandomForestClassifier</label><div class=\"sk-toggleable__content\"><pre>RandomForestClassifier()</pre></div></div></div><div class=\"sk-serial\"><div class=\"sk-item\"><div class=\"sk-estimator sk-toggleable\"><input class=\"sk-toggleable__control sk-hidden--visually\" id=\"sk-estimator-id-4\" type=\"checkbox\" ><label for=\"sk-estimator-id-4\" class=\"sk-toggleable__label sk-toggleable__label-arrow\">RandomForestClassifier</label><div class=\"sk-toggleable__content\"><pre>RandomForestClassifier()</pre></div></div></div></div></div></div></div></div></div></div>"
      ],
      "text/plain": [
       "BayesSearchCV(cv=3, estimator=RandomForestClassifier(), n_iter=30, n_jobs=-1,\n",
       "              scoring='f1_weighted',\n",
       "              search_spaces={'max_depth': Integer(low=1, high=32, prior='uniform', transform='normalize'),\n",
       "                             'max_features': ['sqrt', 'log2', None],\n",
       "                             'min_samples_leaf': Real(low=0.1, high=0.5, prior='uniform', transform='normalize'),\n",
       "                             'n_estimators': Integer(low=100, high=400, prior='uniform', transform='normalize')},\n",
       "              verbose=1)"
      ]
     },
     "execution_count": 24,
     "metadata": {},
     "output_type": "execute_result"
    }
   ],
   "source": [
    "#commenting out so it doesn't rerun\n",
    "bs_rf.fit(Z_train, y_train)"
   ]
  },
  {
   "cell_type": "code",
   "execution_count": 25,
   "id": "f5204087-2d12-436a-bcfd-cae077399e8a",
   "metadata": {},
   "outputs": [],
   "source": [
    "# #commenting out so I don't run again\n",
    "# pickle.dump(bs_rf, open('bs_rf.pkl', 'wb'))"
   ]
  },
  {
   "cell_type": "code",
   "execution_count": 32,
   "id": "301fbf2a-440b-4220-84b2-8d236b41fc16",
   "metadata": {},
   "outputs": [],
   "source": [
    "# Loading model to compare the results\n",
    "bs_rf = pickle.load(open('pickles/bs_rf.pkl','rb'))"
   ]
  },
  {
   "cell_type": "code",
   "execution_count": 33,
   "id": "f6378699-fe36-4f3a-bb7b-404080de6123",
   "metadata": {},
   "outputs": [
    {
     "data": {
      "text/html": [
       "<style>#sk-container-id-4 {color: black;background-color: white;}#sk-container-id-4 pre{padding: 0;}#sk-container-id-4 div.sk-toggleable {background-color: white;}#sk-container-id-4 label.sk-toggleable__label {cursor: pointer;display: block;width: 100%;margin-bottom: 0;padding: 0.3em;box-sizing: border-box;text-align: center;}#sk-container-id-4 label.sk-toggleable__label-arrow:before {content: \"▸\";float: left;margin-right: 0.25em;color: #696969;}#sk-container-id-4 label.sk-toggleable__label-arrow:hover:before {color: black;}#sk-container-id-4 div.sk-estimator:hover label.sk-toggleable__label-arrow:before {color: black;}#sk-container-id-4 div.sk-toggleable__content {max-height: 0;max-width: 0;overflow: hidden;text-align: left;background-color: #f0f8ff;}#sk-container-id-4 div.sk-toggleable__content pre {margin: 0.2em;color: black;border-radius: 0.25em;background-color: #f0f8ff;}#sk-container-id-4 input.sk-toggleable__control:checked~div.sk-toggleable__content {max-height: 200px;max-width: 100%;overflow: auto;}#sk-container-id-4 input.sk-toggleable__control:checked~label.sk-toggleable__label-arrow:before {content: \"▾\";}#sk-container-id-4 div.sk-estimator input.sk-toggleable__control:checked~label.sk-toggleable__label {background-color: #d4ebff;}#sk-container-id-4 div.sk-label input.sk-toggleable__control:checked~label.sk-toggleable__label {background-color: #d4ebff;}#sk-container-id-4 input.sk-hidden--visually {border: 0;clip: rect(1px 1px 1px 1px);clip: rect(1px, 1px, 1px, 1px);height: 1px;margin: -1px;overflow: hidden;padding: 0;position: absolute;width: 1px;}#sk-container-id-4 div.sk-estimator {font-family: monospace;background-color: #f0f8ff;border: 1px dotted black;border-radius: 0.25em;box-sizing: border-box;margin-bottom: 0.5em;}#sk-container-id-4 div.sk-estimator:hover {background-color: #d4ebff;}#sk-container-id-4 div.sk-parallel-item::after {content: \"\";width: 100%;border-bottom: 1px solid gray;flex-grow: 1;}#sk-container-id-4 div.sk-label:hover label.sk-toggleable__label {background-color: #d4ebff;}#sk-container-id-4 div.sk-serial::before {content: \"\";position: absolute;border-left: 1px solid gray;box-sizing: border-box;top: 0;bottom: 0;left: 50%;z-index: 0;}#sk-container-id-4 div.sk-serial {display: flex;flex-direction: column;align-items: center;background-color: white;padding-right: 0.2em;padding-left: 0.2em;position: relative;}#sk-container-id-4 div.sk-item {position: relative;z-index: 1;}#sk-container-id-4 div.sk-parallel {display: flex;align-items: stretch;justify-content: center;background-color: white;position: relative;}#sk-container-id-4 div.sk-item::before, #sk-container-id-4 div.sk-parallel-item::before {content: \"\";position: absolute;border-left: 1px solid gray;box-sizing: border-box;top: 0;bottom: 0;left: 50%;z-index: -1;}#sk-container-id-4 div.sk-parallel-item {display: flex;flex-direction: column;z-index: 1;position: relative;background-color: white;}#sk-container-id-4 div.sk-parallel-item:first-child::after {align-self: flex-end;width: 50%;}#sk-container-id-4 div.sk-parallel-item:last-child::after {align-self: flex-start;width: 50%;}#sk-container-id-4 div.sk-parallel-item:only-child::after {width: 0;}#sk-container-id-4 div.sk-dashed-wrapped {border: 1px dashed gray;margin: 0 0.4em 0.5em 0.4em;box-sizing: border-box;padding-bottom: 0.4em;background-color: white;}#sk-container-id-4 div.sk-label label {font-family: monospace;font-weight: bold;display: inline-block;line-height: 1.2em;}#sk-container-id-4 div.sk-label-container {text-align: center;}#sk-container-id-4 div.sk-container {/* jupyter's `normalize.less` sets `[hidden] { display: none; }` but bootstrap.min.css set `[hidden] { display: none !important; }` so we also need the `!important` here to be able to override the default hidden behavior on the sphinx rendered scikit-learn.org. See: https://github.com/scikit-learn/scikit-learn/issues/21755 */display: inline-block !important;position: relative;}#sk-container-id-4 div.sk-text-repr-fallback {display: none;}</style><div id=\"sk-container-id-4\" class=\"sk-top-container\"><div class=\"sk-text-repr-fallback\"><pre>RandomForestClassifier(max_depth=1, max_features=None, min_samples_leaf=0.1,\n",
       "                       n_estimators=400)</pre><b>In a Jupyter environment, please rerun this cell to show the HTML representation or trust the notebook. <br />On GitHub, the HTML representation is unable to render, please try loading this page with nbviewer.org.</b></div><div class=\"sk-container\" hidden><div class=\"sk-item\"><div class=\"sk-estimator sk-toggleable\"><input class=\"sk-toggleable__control sk-hidden--visually\" id=\"sk-estimator-id-6\" type=\"checkbox\" checked><label for=\"sk-estimator-id-6\" class=\"sk-toggleable__label sk-toggleable__label-arrow\">RandomForestClassifier</label><div class=\"sk-toggleable__content\"><pre>RandomForestClassifier(max_depth=1, max_features=None, min_samples_leaf=0.1,\n",
       "                       n_estimators=400)</pre></div></div></div></div></div>"
      ],
      "text/plain": [
       "RandomForestClassifier(max_depth=1, max_features=None, min_samples_leaf=0.1,\n",
       "                       n_estimators=400)"
      ]
     },
     "execution_count": 33,
     "metadata": {},
     "output_type": "execute_result"
    }
   ],
   "source": [
    "bs_rf.best_estimator_"
   ]
  },
  {
   "cell_type": "code",
   "execution_count": 34,
   "id": "0d49b274-4e1b-4a0b-80e9-53985355694c",
   "metadata": {},
   "outputs": [
    {
     "data": {
      "text/plain": [
       "OrderedDict([('max_depth', 1),\n",
       "             ('max_features', None),\n",
       "             ('min_samples_leaf', 0.1),\n",
       "             ('n_estimators', 400)])"
      ]
     },
     "execution_count": 34,
     "metadata": {},
     "output_type": "execute_result"
    }
   ],
   "source": [
    "bs_rf.best_params_"
   ]
  },
  {
   "cell_type": "code",
   "execution_count": 35,
   "id": "15c02acb-c40d-4a0e-b257-b1c3bf5945eb",
   "metadata": {},
   "outputs": [
    {
     "data": {
      "text/plain": [
       "0.7215338013035743"
      ]
     },
     "execution_count": 35,
     "metadata": {},
     "output_type": "execute_result"
    }
   ],
   "source": [
    "bs_rf.score(Z_train, y_train)"
   ]
  },
  {
   "cell_type": "code",
   "execution_count": 36,
   "id": "c758e9fd-86f8-42ce-bd05-04664fd301ba",
   "metadata": {},
   "outputs": [
    {
     "data": {
      "text/plain": [
       "0.7321973109133105"
      ]
     },
     "execution_count": 36,
     "metadata": {},
     "output_type": "execute_result"
    }
   ],
   "source": [
    "bs_rf.score(Z_test, y_test)"
   ]
  },
  {
   "cell_type": "code",
   "execution_count": 37,
   "id": "0a1d56bf-c907-4048-b523-fe9203470a91",
   "metadata": {},
   "outputs": [],
   "source": [
    "# model is not overfit anymore! It's performing similarly on test and train"
   ]
  },
  {
   "cell_type": "code",
   "execution_count": 306,
   "id": "37dfcf1e-29f5-4c7d-b861-bd1c7e373e55",
   "metadata": {},
   "outputs": [
    {
     "name": "stdout",
     "output_type": "stream",
     "text": [
      "recall - train: 0.7284055991806078\n",
      "precision - train 0.7917981072555205\n",
      "recall - test: 0.7275985663082437\n",
      "precision - test 0.8073863636363636\n"
     ]
    }
   ],
   "source": [
    "print('recall - train:', recall_score(y_train, bs_rf.predict(Z_train)))\n",
    "print('precision - train', precision_score(y_train, bs_rf.predict(Z_train)))\n",
    "print('recall - test:', recall_score(y_test, bs_rf.predict(Z_test)))\n",
    "print('precision - test', precision_score(y_test, bs_rf.predict(Z_test)))"
   ]
  },
  {
   "cell_type": "code",
   "execution_count": 307,
   "id": "439e0b71-5a00-4cb5-84be-0824e4c74161",
   "metadata": {},
   "outputs": [
    {
     "data": {
      "image/png": "[encoded data removed]",
      "text/plain": [
       "<Figure size 640x480 with 2 Axes>"
      ]
     },
     "metadata": {},
     "output_type": "display_data"
    }
   ],
   "source": [
    "# plt.savefig('plots/cm_gspca2.png',dpi=300, bbox_inches = \"tight\")\n",
    "ConfusionMatrixDisplay.from_estimator(bs_rf, Z_test, y_test);\n",
    "plt.title('Confusion Matrix', size=16)\n",
    "plt.savefig('plots/cm_bs_bs-rf.png',dpi=300, bbox_inches = \"tight\")"
   ]
  },
  {
   "cell_type": "markdown",
   "id": "e2fefea3-8f86-4eae-898d-a39094bcbea6",
   "metadata": {},
   "source": [
    "---"
   ]
  },
  {
   "cell_type": "markdown",
   "id": "32bc9026-cf66-4c07-ae36-3e8b546bc178",
   "metadata": {},
   "source": [
    "### 3. PCA"
   ]
  },
  {
   "cell_type": "markdown",
   "id": "b8392c0f-0846-45e6-8870-f24c16d7ce9d",
   "metadata": {},
   "source": [
    "Principal Component Logistic Regression Performance"
   ]
  },
  {
   "cell_type": "code",
   "execution_count": 38,
   "id": "e220b153-c7bf-472c-a45b-888faea6a327",
   "metadata": {},
   "outputs": [],
   "source": [
    "from sklearn.decomposition import PCA\n",
    "from sklearn.pipeline import Pipeline"
   ]
  },
  {
   "cell_type": "code",
   "execution_count": 69,
   "id": "04478e81-26b1-40be-abf6-eeca5d2aedc6",
   "metadata": {},
   "outputs": [],
   "source": [
    "# Instantiate PCA with components\n",
    "pca = PCA()  \n",
    "logreg = LogisticRegression(class_weight='balanced', max_iter=1000)\n",
    "\n",
    "# Fit PCA to training data.\n",
    "pca_pipe = Pipeline([('pca', pca),\n",
    "                    ('logreg', LogisticRegression())])\n",
    "\n",
    "pipe_params = {\n",
    "    'pca__n_components': [250, 295, 300, 350, 500],\n",
    "    'logreg__C': [0.001, 0.01, 0.1]   \n",
    "}\n",
    "\n",
    "gs = GridSearchCV(\n",
    "    pca_pipe,  #estimator\n",
    "    param_grid = pipe_params,  #parameters\n",
    "    cv = 5,     #cross val folds\n",
    "    n_jobs=-1\n",
    ")"
   ]
  },
  {
   "cell_type": "code",
   "execution_count": 70,
   "id": "9b32608a-31d4-4219-aa95-43face74e2c7",
   "metadata": {},
   "outputs": [
    {
     "data": {
      "text/html": [
       "<style>#sk-container-id-5 {color: black;background-color: white;}#sk-container-id-5 pre{padding: 0;}#sk-container-id-5 div.sk-toggleable {background-color: white;}#sk-container-id-5 label.sk-toggleable__label {cursor: pointer;display: block;width: 100%;margin-bottom: 0;padding: 0.3em;box-sizing: border-box;text-align: center;}#sk-container-id-5 label.sk-toggleable__label-arrow:before {content: \"▸\";float: left;margin-right: 0.25em;color: #696969;}#sk-container-id-5 label.sk-toggleable__label-arrow:hover:before {color: black;}#sk-container-id-5 div.sk-estimator:hover label.sk-toggleable__label-arrow:before {color: black;}#sk-container-id-5 div.sk-toggleable__content {max-height: 0;max-width: 0;overflow: hidden;text-align: left;background-color: #f0f8ff;}#sk-container-id-5 div.sk-toggleable__content pre {margin: 0.2em;color: black;border-radius: 0.25em;background-color: #f0f8ff;}#sk-container-id-5 input.sk-toggleable__control:checked~div.sk-toggleable__content {max-height: 200px;max-width: 100%;overflow: auto;}#sk-container-id-5 input.sk-toggleable__control:checked~label.sk-toggleable__label-arrow:before {content: \"▾\";}#sk-container-id-5 div.sk-estimator input.sk-toggleable__control:checked~label.sk-toggleable__label {background-color: #d4ebff;}#sk-container-id-5 div.sk-label input.sk-toggleable__control:checked~label.sk-toggleable__label {background-color: #d4ebff;}#sk-container-id-5 input.sk-hidden--visually {border: 0;clip: rect(1px 1px 1px 1px);clip: rect(1px, 1px, 1px, 1px);height: 1px;margin: -1px;overflow: hidden;padding: 0;position: absolute;width: 1px;}#sk-container-id-5 div.sk-estimator {font-family: monospace;background-color: #f0f8ff;border: 1px dotted black;border-radius: 0.25em;box-sizing: border-box;margin-bottom: 0.5em;}#sk-container-id-5 div.sk-estimator:hover {background-color: #d4ebff;}#sk-container-id-5 div.sk-parallel-item::after {content: \"\";width: 100%;border-bottom: 1px solid gray;flex-grow: 1;}#sk-container-id-5 div.sk-label:hover label.sk-toggleable__label {background-color: #d4ebff;}#sk-container-id-5 div.sk-serial::before {content: \"\";position: absolute;border-left: 1px solid gray;box-sizing: border-box;top: 0;bottom: 0;left: 50%;z-index: 0;}#sk-container-id-5 div.sk-serial {display: flex;flex-direction: column;align-items: center;background-color: white;padding-right: 0.2em;padding-left: 0.2em;position: relative;}#sk-container-id-5 div.sk-item {position: relative;z-index: 1;}#sk-container-id-5 div.sk-parallel {display: flex;align-items: stretch;justify-content: center;background-color: white;position: relative;}#sk-container-id-5 div.sk-item::before, #sk-container-id-5 div.sk-parallel-item::before {content: \"\";position: absolute;border-left: 1px solid gray;box-sizing: border-box;top: 0;bottom: 0;left: 50%;z-index: -1;}#sk-container-id-5 div.sk-parallel-item {display: flex;flex-direction: column;z-index: 1;position: relative;background-color: white;}#sk-container-id-5 div.sk-parallel-item:first-child::after {align-self: flex-end;width: 50%;}#sk-container-id-5 div.sk-parallel-item:last-child::after {align-self: flex-start;width: 50%;}#sk-container-id-5 div.sk-parallel-item:only-child::after {width: 0;}#sk-container-id-5 div.sk-dashed-wrapped {border: 1px dashed gray;margin: 0 0.4em 0.5em 0.4em;box-sizing: border-box;padding-bottom: 0.4em;background-color: white;}#sk-container-id-5 div.sk-label label {font-family: monospace;font-weight: bold;display: inline-block;line-height: 1.2em;}#sk-container-id-5 div.sk-label-container {text-align: center;}#sk-container-id-5 div.sk-container {/* jupyter's `normalize.less` sets `[hidden] { display: none; }` but bootstrap.min.css set `[hidden] { display: none !important; }` so we also need the `!important` here to be able to override the default hidden behavior on the sphinx rendered scikit-learn.org. See: https://github.com/scikit-learn/scikit-learn/issues/21755 */display: inline-block !important;position: relative;}#sk-container-id-5 div.sk-text-repr-fallback {display: none;}</style><div id=\"sk-container-id-5\" class=\"sk-top-container\"><div class=\"sk-text-repr-fallback\"><pre>GridSearchCV(cv=5,\n",
       "             estimator=Pipeline(steps=[(&#x27;pca&#x27;, PCA()),\n",
       "                                       (&#x27;logreg&#x27;, LogisticRegression())]),\n",
       "             n_jobs=-1,\n",
       "             param_grid={&#x27;logreg__C&#x27;: [0.001, 0.01, 0.1],\n",
       "                         &#x27;pca__n_components&#x27;: [250, 295, 300, 350, 500]})</pre><b>In a Jupyter environment, please rerun this cell to show the HTML representation or trust the notebook. <br />On GitHub, the HTML representation is unable to render, please try loading this page with nbviewer.org.</b></div><div class=\"sk-container\" hidden><div class=\"sk-item sk-dashed-wrapped\"><div class=\"sk-label-container\"><div class=\"sk-label sk-toggleable\"><input class=\"sk-toggleable__control sk-hidden--visually\" id=\"sk-estimator-id-7\" type=\"checkbox\" ><label for=\"sk-estimator-id-7\" class=\"sk-toggleable__label sk-toggleable__label-arrow\">GridSearchCV</label><div class=\"sk-toggleable__content\"><pre>GridSearchCV(cv=5,\n",
       "             estimator=Pipeline(steps=[(&#x27;pca&#x27;, PCA()),\n",
       "                                       (&#x27;logreg&#x27;, LogisticRegression())]),\n",
       "             n_jobs=-1,\n",
       "             param_grid={&#x27;logreg__C&#x27;: [0.001, 0.01, 0.1],\n",
       "                         &#x27;pca__n_components&#x27;: [250, 295, 300, 350, 500]})</pre></div></div></div><div class=\"sk-parallel\"><div class=\"sk-parallel-item\"><div class=\"sk-item\"><div class=\"sk-label-container\"><div class=\"sk-label sk-toggleable\"><input class=\"sk-toggleable__control sk-hidden--visually\" id=\"sk-estimator-id-8\" type=\"checkbox\" ><label for=\"sk-estimator-id-8\" class=\"sk-toggleable__label sk-toggleable__label-arrow\">estimator: Pipeline</label><div class=\"sk-toggleable__content\"><pre>Pipeline(steps=[(&#x27;pca&#x27;, PCA()), (&#x27;logreg&#x27;, LogisticRegression())])</pre></div></div></div><div class=\"sk-serial\"><div class=\"sk-item\"><div class=\"sk-serial\"><div class=\"sk-item\"><div class=\"sk-estimator sk-toggleable\"><input class=\"sk-toggleable__control sk-hidden--visually\" id=\"sk-estimator-id-9\" type=\"checkbox\" ><label for=\"sk-estimator-id-9\" class=\"sk-toggleable__label sk-toggleable__label-arrow\">PCA</label><div class=\"sk-toggleable__content\"><pre>PCA()</pre></div></div></div><div class=\"sk-item\"><div class=\"sk-estimator sk-toggleable\"><input class=\"sk-toggleable__control sk-hidden--visually\" id=\"sk-estimator-id-10\" type=\"checkbox\" ><label for=\"sk-estimator-id-10\" class=\"sk-toggleable__label sk-toggleable__label-arrow\">LogisticRegression</label><div class=\"sk-toggleable__content\"><pre>LogisticRegression()</pre></div></div></div></div></div></div></div></div></div></div></div></div>"
      ],
      "text/plain": [
       "GridSearchCV(cv=5,\n",
       "             estimator=Pipeline(steps=[('pca', PCA()),\n",
       "                                       ('logreg', LogisticRegression())]),\n",
       "             n_jobs=-1,\n",
       "             param_grid={'logreg__C': [0.001, 0.01, 0.1],\n",
       "                         'pca__n_components': [250, 295, 300, 350, 500]})"
      ]
     },
     "execution_count": 70,
     "metadata": {},
     "output_type": "execute_result"
    }
   ],
   "source": [
    "gs.fit(Z_train, y_train)"
   ]
  },
  {
   "cell_type": "code",
   "execution_count": 71,
   "id": "7715eb12-703d-4eb8-b6d4-94c2ba799bcf",
   "metadata": {},
   "outputs": [],
   "source": [
    "# #commenting out so I don't run again\n",
    "# pickle.dump(gs, open('gs_PCA.pkl', 'wb'))"
   ]
  },
  {
   "cell_type": "code",
   "execution_count": 72,
   "id": "b497705b-e25e-4ecc-8a94-9ecc41dc3cdd",
   "metadata": {},
   "outputs": [],
   "source": [
    "# Loading model to compare the results\n",
    "gs_pca= pickle.load(open('pickles/gs_pca.pkl','rb'))"
   ]
  },
  {
   "cell_type": "code",
   "execution_count": 73,
   "id": "803f0e5a-048b-4af1-9907-ade537af6c18",
   "metadata": {},
   "outputs": [
    {
     "data": {
      "text/html": [
       "<style>#sk-container-id-6 {color: black;background-color: white;}#sk-container-id-6 pre{padding: 0;}#sk-container-id-6 div.sk-toggleable {background-color: white;}#sk-container-id-6 label.sk-toggleable__label {cursor: pointer;display: block;width: 100%;margin-bottom: 0;padding: 0.3em;box-sizing: border-box;text-align: center;}#sk-container-id-6 label.sk-toggleable__label-arrow:before {content: \"▸\";float: left;margin-right: 0.25em;color: #696969;}#sk-container-id-6 label.sk-toggleable__label-arrow:hover:before {color: black;}#sk-container-id-6 div.sk-estimator:hover label.sk-toggleable__label-arrow:before {color: black;}#sk-container-id-6 div.sk-toggleable__content {max-height: 0;max-width: 0;overflow: hidden;text-align: left;background-color: #f0f8ff;}#sk-container-id-6 div.sk-toggleable__content pre {margin: 0.2em;color: black;border-radius: 0.25em;background-color: #f0f8ff;}#sk-container-id-6 input.sk-toggleable__control:checked~div.sk-toggleable__content {max-height: 200px;max-width: 100%;overflow: auto;}#sk-container-id-6 input.sk-toggleable__control:checked~label.sk-toggleable__label-arrow:before {content: \"▾\";}#sk-container-id-6 div.sk-estimator input.sk-toggleable__control:checked~label.sk-toggleable__label {background-color: #d4ebff;}#sk-container-id-6 div.sk-label input.sk-toggleable__control:checked~label.sk-toggleable__label {background-color: #d4ebff;}#sk-container-id-6 input.sk-hidden--visually {border: 0;clip: rect(1px 1px 1px 1px);clip: rect(1px, 1px, 1px, 1px);height: 1px;margin: -1px;overflow: hidden;padding: 0;position: absolute;width: 1px;}#sk-container-id-6 div.sk-estimator {font-family: monospace;background-color: #f0f8ff;border: 1px dotted black;border-radius: 0.25em;box-sizing: border-box;margin-bottom: 0.5em;}#sk-container-id-6 div.sk-estimator:hover {background-color: #d4ebff;}#sk-container-id-6 div.sk-parallel-item::after {content: \"\";width: 100%;border-bottom: 1px solid gray;flex-grow: 1;}#sk-container-id-6 div.sk-label:hover label.sk-toggleable__label {background-color: #d4ebff;}#sk-container-id-6 div.sk-serial::before {content: \"\";position: absolute;border-left: 1px solid gray;box-sizing: border-box;top: 0;bottom: 0;left: 50%;z-index: 0;}#sk-container-id-6 div.sk-serial {display: flex;flex-direction: column;align-items: center;background-color: white;padding-right: 0.2em;padding-left: 0.2em;position: relative;}#sk-container-id-6 div.sk-item {position: relative;z-index: 1;}#sk-container-id-6 div.sk-parallel {display: flex;align-items: stretch;justify-content: center;background-color: white;position: relative;}#sk-container-id-6 div.sk-item::before, #sk-container-id-6 div.sk-parallel-item::before {content: \"\";position: absolute;border-left: 1px solid gray;box-sizing: border-box;top: 0;bottom: 0;left: 50%;z-index: -1;}#sk-container-id-6 div.sk-parallel-item {display: flex;flex-direction: column;z-index: 1;position: relative;background-color: white;}#sk-container-id-6 div.sk-parallel-item:first-child::after {align-self: flex-end;width: 50%;}#sk-container-id-6 div.sk-parallel-item:last-child::after {align-self: flex-start;width: 50%;}#sk-container-id-6 div.sk-parallel-item:only-child::after {width: 0;}#sk-container-id-6 div.sk-dashed-wrapped {border: 1px dashed gray;margin: 0 0.4em 0.5em 0.4em;box-sizing: border-box;padding-bottom: 0.4em;background-color: white;}#sk-container-id-6 div.sk-label label {font-family: monospace;font-weight: bold;display: inline-block;line-height: 1.2em;}#sk-container-id-6 div.sk-label-container {text-align: center;}#sk-container-id-6 div.sk-container {/* jupyter's `normalize.less` sets `[hidden] { display: none; }` but bootstrap.min.css set `[hidden] { display: none !important; }` so we also need the `!important` here to be able to override the default hidden behavior on the sphinx rendered scikit-learn.org. See: https://github.com/scikit-learn/scikit-learn/issues/21755 */display: inline-block !important;position: relative;}#sk-container-id-6 div.sk-text-repr-fallback {display: none;}</style><div id=\"sk-container-id-6\" class=\"sk-top-container\"><div class=\"sk-text-repr-fallback\"><pre>Pipeline(steps=[(&#x27;pca&#x27;, PCA(n_components=500)),\n",
       "                (&#x27;logreg&#x27;, LogisticRegression(C=0.001))])</pre><b>In a Jupyter environment, please rerun this cell to show the HTML representation or trust the notebook. <br />On GitHub, the HTML representation is unable to render, please try loading this page with nbviewer.org.</b></div><div class=\"sk-container\" hidden><div class=\"sk-item sk-dashed-wrapped\"><div class=\"sk-label-container\"><div class=\"sk-label sk-toggleable\"><input class=\"sk-toggleable__control sk-hidden--visually\" id=\"sk-estimator-id-11\" type=\"checkbox\" ><label for=\"sk-estimator-id-11\" class=\"sk-toggleable__label sk-toggleable__label-arrow\">Pipeline</label><div class=\"sk-toggleable__content\"><pre>Pipeline(steps=[(&#x27;pca&#x27;, PCA(n_components=500)),\n",
       "                (&#x27;logreg&#x27;, LogisticRegression(C=0.001))])</pre></div></div></div><div class=\"sk-serial\"><div class=\"sk-item\"><div class=\"sk-estimator sk-toggleable\"><input class=\"sk-toggleable__control sk-hidden--visually\" id=\"sk-estimator-id-12\" type=\"checkbox\" ><label for=\"sk-estimator-id-12\" class=\"sk-toggleable__label sk-toggleable__label-arrow\">PCA</label><div class=\"sk-toggleable__content\"><pre>PCA(n_components=500)</pre></div></div></div><div class=\"sk-item\"><div class=\"sk-estimator sk-toggleable\"><input class=\"sk-toggleable__control sk-hidden--visually\" id=\"sk-estimator-id-13\" type=\"checkbox\" ><label for=\"sk-estimator-id-13\" class=\"sk-toggleable__label sk-toggleable__label-arrow\">LogisticRegression</label><div class=\"sk-toggleable__content\"><pre>LogisticRegression(C=0.001)</pre></div></div></div></div></div></div></div>"
      ],
      "text/plain": [
       "Pipeline(steps=[('pca', PCA(n_components=500)),\n",
       "                ('logreg', LogisticRegression(C=0.001))])"
      ]
     },
     "execution_count": 73,
     "metadata": {},
     "output_type": "execute_result"
    }
   ],
   "source": [
    "gs_pca.best_estimator_"
   ]
  },
  {
   "cell_type": "code",
   "execution_count": 74,
   "id": "1d2cebe3-2039-48e8-81bd-b667ce44d1b5",
   "metadata": {},
   "outputs": [
    {
     "data": {
      "text/plain": [
       "{'logreg__C': 0.001, 'pca__n_components': 500}"
      ]
     },
     "execution_count": 74,
     "metadata": {},
     "output_type": "execute_result"
    }
   ],
   "source": [
    "gs_pca.best_params_"
   ]
  },
  {
   "cell_type": "code",
   "execution_count": 75,
   "id": "5212ce1a-6629-4e06-9b43-7c238c4789ca",
   "metadata": {},
   "outputs": [
    {
     "data": {
      "text/plain": [
       "0.8929938942357446"
      ]
     },
     "execution_count": 75,
     "metadata": {},
     "output_type": "execute_result"
    }
   ],
   "source": [
    "gs_pca.score(Z_train, y_train)"
   ]
  },
  {
   "cell_type": "code",
   "execution_count": 76,
   "id": "2b4cac1b-1ee3-4f46-9b4e-a3857b9469b5",
   "metadata": {},
   "outputs": [
    {
     "data": {
      "text/plain": [
       "0.8798882681564246"
      ]
     },
     "execution_count": 76,
     "metadata": {},
     "output_type": "execute_result"
    }
   ],
   "source": [
    "gs_pca.score(Z_test, y_test)"
   ]
  },
  {
   "cell_type": "code",
   "execution_count": 85,
   "id": "bd6edcf8-bf6b-4087-bafd-4d7a9e42c461",
   "metadata": {},
   "outputs": [],
   "source": [
    "# Instantiate PCA with components or % explained my variance.\n",
    "pca = PCA(n_components=494)  #395-400\n",
    "\n",
    "# Fit PCA to training data.\n",
    "pca_pipe = Pipeline([('pca', pca),\n",
    "                    ('model', LogisticRegression(C = 0.01, max_iter=1000, class_weight='balanced'))])"
   ]
  },
  {
   "cell_type": "code",
   "execution_count": 86,
   "id": "7496296d-7d7e-4349-bfed-24b34b3ff113",
   "metadata": {},
   "outputs": [
    {
     "name": "stdout",
     "output_type": "stream",
     "text": [
      "0.8939252820035186\n",
      "0.8702669149596524\n"
     ]
    }
   ],
   "source": [
    "# Fit on Z_train.\n",
    "pca_pipe.fit(Z_train, y_train)\n",
    "\n",
    "# Score on training and testing sets.\n",
    "print(pca_pipe.score(Z_train, y_train))\n",
    "print(pca_pipe.score(Z_test, y_test))"
   ]
  },
  {
   "cell_type": "code",
   "execution_count": 153,
   "id": "5cfadb04-a92b-471d-b102-2ee499299c66",
   "metadata": {},
   "outputs": [
    {
     "data": {
      "text/plain": [
       "0.8686980931318611"
      ]
     },
     "execution_count": 153,
     "metadata": {},
     "output_type": "execute_result"
    }
   ],
   "source": [
    "balanced_accuracy_score(y_test, pca_pipe.predict(Z_test))"
   ]
  },
  {
   "cell_type": "code",
   "execution_count": 154,
   "id": "0775632e-9cf6-423c-89da-46e96a402c96",
   "metadata": {},
   "outputs": [
    {
     "name": "stdout",
     "output_type": "stream",
     "text": [
      "recall - train: 0.889894161829976\n",
      "precision - train 0.9320579295548006\n",
      "recall - test: 0.8760880696364567\n",
      "precision - test 0.9067302596714362\n"
     ]
    }
   ],
   "source": [
    "print('recall - train:', recall_score(y_train, pca_pipe.predict(Z_train)))\n",
    "print('precision - train', precision_score(y_train, pca_pipe.predict(Z_train)))\n",
    "print('recall - test:', recall_score(y_test, pca_pipe.predict(Z_test)))\n",
    "print('precision - test', precision_score(y_test, pca_pipe.predict(Z_test)))"
   ]
  },
  {
   "cell_type": "code",
   "execution_count": 155,
   "id": "ad3dd31c-42a7-407b-878d-dd9976cc4d18",
   "metadata": {},
   "outputs": [
    {
     "data": {
      "image/png": "[encoded data removed]",
      "text/plain": [
       "<Figure size 640x480 with 2 Axes>"
      ]
     },
     "metadata": {},
     "output_type": "display_data"
    }
   ],
   "source": [
    "ConfusionMatrixDisplay.from_estimator(pca_pipe, Z_test, y_test);"
   ]
  },
  {
   "cell_type": "code",
   "execution_count": 175,
   "id": "0b4d9dac-181d-4abc-b468-e8c51f85c8fb",
   "metadata": {},
   "outputs": [],
   "source": [
    "# Instantiate PCA with components\n",
    "pca = PCA()  \n",
    "logreg = LogisticRegression(C=6e-05,class_weight='balanced', max_iter=1000)\n",
    "\n",
    "# Fit PCA to training data.\n",
    "pca_pipe = Pipeline([('pca', pca),\n",
    "                    ('logreg', LogisticRegression())])\n",
    "\n",
    "pipe_params = {\n",
    "    'pca__n_components': [550, 600, 650],   \n",
    "}\n",
    "\n",
    "gs_pca2 = GridSearchCV(\n",
    "    pca_pipe,  #estimator\n",
    "    param_grid = pipe_params,  #parameters\n",
    "    cv = 5,     #cross val folds\n",
    "    n_jobs=-1\n",
    ")"
   ]
  },
  {
   "cell_type": "code",
   "execution_count": 176,
   "id": "2e322f9b-af87-4fbf-a152-a5cde83897cb",
   "metadata": {},
   "outputs": [
    {
     "data": {
      "text/html": [
       "<style>#sk-container-id-14 {color: black;background-color: white;}#sk-container-id-14 pre{padding: 0;}#sk-container-id-14 div.sk-toggleable {background-color: white;}#sk-container-id-14 label.sk-toggleable__label {cursor: pointer;display: block;width: 100%;margin-bottom: 0;padding: 0.3em;box-sizing: border-box;text-align: center;}#sk-container-id-14 label.sk-toggleable__label-arrow:before {content: \"▸\";float: left;margin-right: 0.25em;color: #696969;}#sk-container-id-14 label.sk-toggleable__label-arrow:hover:before {color: black;}#sk-container-id-14 div.sk-estimator:hover label.sk-toggleable__label-arrow:before {color: black;}#sk-container-id-14 div.sk-toggleable__content {max-height: 0;max-width: 0;overflow: hidden;text-align: left;background-color: #f0f8ff;}#sk-container-id-14 div.sk-toggleable__content pre {margin: 0.2em;color: black;border-radius: 0.25em;background-color: #f0f8ff;}#sk-container-id-14 input.sk-toggleable__control:checked~div.sk-toggleable__content {max-height: 200px;max-width: 100%;overflow: auto;}#sk-container-id-14 input.sk-toggleable__control:checked~label.sk-toggleable__label-arrow:before {content: \"▾\";}#sk-container-id-14 div.sk-estimator input.sk-toggleable__control:checked~label.sk-toggleable__label {background-color: #d4ebff;}#sk-container-id-14 div.sk-label input.sk-toggleable__control:checked~label.sk-toggleable__label {background-color: #d4ebff;}#sk-container-id-14 input.sk-hidden--visually {border: 0;clip: rect(1px 1px 1px 1px);clip: rect(1px, 1px, 1px, 1px);height: 1px;margin: -1px;overflow: hidden;padding: 0;position: absolute;width: 1px;}#sk-container-id-14 div.sk-estimator {font-family: monospace;background-color: #f0f8ff;border: 1px dotted black;border-radius: 0.25em;box-sizing: border-box;margin-bottom: 0.5em;}#sk-container-id-14 div.sk-estimator:hover {background-color: #d4ebff;}#sk-container-id-14 div.sk-parallel-item::after {content: \"\";width: 100%;border-bottom: 1px solid gray;flex-grow: 1;}#sk-container-id-14 div.sk-label:hover label.sk-toggleable__label {background-color: #d4ebff;}#sk-container-id-14 div.sk-serial::before {content: \"\";position: absolute;border-left: 1px solid gray;box-sizing: border-box;top: 0;bottom: 0;left: 50%;z-index: 0;}#sk-container-id-14 div.sk-serial {display: flex;flex-direction: column;align-items: center;background-color: white;padding-right: 0.2em;padding-left: 0.2em;position: relative;}#sk-container-id-14 div.sk-item {position: relative;z-index: 1;}#sk-container-id-14 div.sk-parallel {display: flex;align-items: stretch;justify-content: center;background-color: white;position: relative;}#sk-container-id-14 div.sk-item::before, #sk-container-id-14 div.sk-parallel-item::before {content: \"\";position: absolute;border-left: 1px solid gray;box-sizing: border-box;top: 0;bottom: 0;left: 50%;z-index: -1;}#sk-container-id-14 div.sk-parallel-item {display: flex;flex-direction: column;z-index: 1;position: relative;background-color: white;}#sk-container-id-14 div.sk-parallel-item:first-child::after {align-self: flex-end;width: 50%;}#sk-container-id-14 div.sk-parallel-item:last-child::after {align-self: flex-start;width: 50%;}#sk-container-id-14 div.sk-parallel-item:only-child::after {width: 0;}#sk-container-id-14 div.sk-dashed-wrapped {border: 1px dashed gray;margin: 0 0.4em 0.5em 0.4em;box-sizing: border-box;padding-bottom: 0.4em;background-color: white;}#sk-container-id-14 div.sk-label label {font-family: monospace;font-weight: bold;display: inline-block;line-height: 1.2em;}#sk-container-id-14 div.sk-label-container {text-align: center;}#sk-container-id-14 div.sk-container {/* jupyter's `normalize.less` sets `[hidden] { display: none; }` but bootstrap.min.css set `[hidden] { display: none !important; }` so we also need the `!important` here to be able to override the default hidden behavior on the sphinx rendered scikit-learn.org. See: https://github.com/scikit-learn/scikit-learn/issues/21755 */display: inline-block !important;position: relative;}#sk-container-id-14 div.sk-text-repr-fallback {display: none;}</style><div id=\"sk-container-id-14\" class=\"sk-top-container\"><div class=\"sk-text-repr-fallback\"><pre>GridSearchCV(cv=5,\n",
       "             estimator=Pipeline(steps=[(&#x27;pca&#x27;, PCA()),\n",
       "                                       (&#x27;logreg&#x27;, LogisticRegression())]),\n",
       "             n_jobs=-1, param_grid={&#x27;pca__n_components&#x27;: [550, 600, 650]})</pre><b>In a Jupyter environment, please rerun this cell to show the HTML representation or trust the notebook. <br />On GitHub, the HTML representation is unable to render, please try loading this page with nbviewer.org.</b></div><div class=\"sk-container\" hidden><div class=\"sk-item sk-dashed-wrapped\"><div class=\"sk-label-container\"><div class=\"sk-label sk-toggleable\"><input class=\"sk-toggleable__control sk-hidden--visually\" id=\"sk-estimator-id-36\" type=\"checkbox\" ><label for=\"sk-estimator-id-36\" class=\"sk-toggleable__label sk-toggleable__label-arrow\">GridSearchCV</label><div class=\"sk-toggleable__content\"><pre>GridSearchCV(cv=5,\n",
       "             estimator=Pipeline(steps=[(&#x27;pca&#x27;, PCA()),\n",
       "                                       (&#x27;logreg&#x27;, LogisticRegression())]),\n",
       "             n_jobs=-1, param_grid={&#x27;pca__n_components&#x27;: [550, 600, 650]})</pre></div></div></div><div class=\"sk-parallel\"><div class=\"sk-parallel-item\"><div class=\"sk-item\"><div class=\"sk-label-container\"><div class=\"sk-label sk-toggleable\"><input class=\"sk-toggleable__control sk-hidden--visually\" id=\"sk-estimator-id-37\" type=\"checkbox\" ><label for=\"sk-estimator-id-37\" class=\"sk-toggleable__label sk-toggleable__label-arrow\">estimator: Pipeline</label><div class=\"sk-toggleable__content\"><pre>Pipeline(steps=[(&#x27;pca&#x27;, PCA()), (&#x27;logreg&#x27;, LogisticRegression())])</pre></div></div></div><div class=\"sk-serial\"><div class=\"sk-item\"><div class=\"sk-serial\"><div class=\"sk-item\"><div class=\"sk-estimator sk-toggleable\"><input class=\"sk-toggleable__control sk-hidden--visually\" id=\"sk-estimator-id-38\" type=\"checkbox\" ><label for=\"sk-estimator-id-38\" class=\"sk-toggleable__label sk-toggleable__label-arrow\">PCA</label><div class=\"sk-toggleable__content\"><pre>PCA()</pre></div></div></div><div class=\"sk-item\"><div class=\"sk-estimator sk-toggleable\"><input class=\"sk-toggleable__control sk-hidden--visually\" id=\"sk-estimator-id-39\" type=\"checkbox\" ><label for=\"sk-estimator-id-39\" class=\"sk-toggleable__label sk-toggleable__label-arrow\">LogisticRegression</label><div class=\"sk-toggleable__content\"><pre>LogisticRegression()</pre></div></div></div></div></div></div></div></div></div></div></div></div>"
      ],
      "text/plain": [
       "GridSearchCV(cv=5,\n",
       "             estimator=Pipeline(steps=[('pca', PCA()),\n",
       "                                       ('logreg', LogisticRegression())]),\n",
       "             n_jobs=-1, param_grid={'pca__n_components': [550, 600, 650]})"
      ]
     },
     "execution_count": 176,
     "metadata": {},
     "output_type": "execute_result"
    }
   ],
   "source": [
    "gs_pca2.fit(Z_train, y_train)"
   ]
  },
  {
   "cell_type": "code",
   "execution_count": 177,
   "id": "d987a39e-d7f7-4a88-9691-63a6bb246844",
   "metadata": {},
   "outputs": [
    {
     "data": {
      "text/plain": [
       "{'pca__n_components': 600}"
      ]
     },
     "execution_count": 177,
     "metadata": {},
     "output_type": "execute_result"
    }
   ],
   "source": [
    "gs_pca2.best_params_"
   ]
  },
  {
   "cell_type": "code",
   "execution_count": 178,
   "id": "42de75ac-a8f2-4222-889b-a4f32ffe3037",
   "metadata": {},
   "outputs": [
    {
     "data": {
      "text/plain": [
       "0.9035496222705164"
      ]
     },
     "execution_count": 178,
     "metadata": {},
     "output_type": "execute_result"
    }
   ],
   "source": [
    "gs_pca2.score(Z_train, y_train)"
   ]
  },
  {
   "cell_type": "code",
   "execution_count": 179,
   "id": "c1d2095e-2bbd-4347-94b4-87f761971c63",
   "metadata": {},
   "outputs": [
    {
     "data": {
      "text/plain": [
       "0.8786468032278089"
      ]
     },
     "execution_count": 179,
     "metadata": {},
     "output_type": "execute_result"
    }
   ],
   "source": [
    "gs_pca2.score(Z_test, y_test)"
   ]
  },
  {
   "cell_type": "code",
   "execution_count": 217,
   "id": "afdb1daa-9442-4c3c-b0e1-0d60b07601c8",
   "metadata": {},
   "outputs": [
    {
     "data": {
      "text/plain": [
       "0.9009875917953912"
      ]
     },
     "execution_count": 217,
     "metadata": {},
     "output_type": "execute_result"
    }
   ],
   "source": [
    "f1_score(y_test, gs_pca2.predict(Z_test))"
   ]
  },
  {
   "cell_type": "code",
   "execution_count": 304,
   "id": "5f9dbbb9-8b95-4507-bb7d-ca0ebac2f2d6",
   "metadata": {},
   "outputs": [
    {
     "data": {
      "image/png": "[encoded data removed]",
      "text/plain": [
       "<Figure size 640x480 with 2 Axes>"
      ]
     },
     "metadata": {},
     "output_type": "display_data"
    }
   ],
   "source": [
    "ConfusionMatrixDisplay.from_estimator(gs_pca2, Z_test, y_test)\n",
    "plt.title('Confusion Matrix', size=16);\n",
    "\n",
    "plt.savefig('plots/cm_gspca2.png',dpi=300, bbox_inches = \"tight\")"
   ]
  },
  {
   "cell_type": "markdown",
   "id": "92e8f80a-2656-44f0-b203-188d2f79772d",
   "metadata": {},
   "source": [
    "---\n",
    "## Model Evaluation"
   ]
  },
  {
   "cell_type": "markdown",
   "id": "bf6058ad-ca5c-474f-a3bd-f9ff24796eaa",
   "metadata": {},
   "source": [
    "#### Models I ran:\n",
    "- LogisticRegression with/without BayesSearchCV ★\n",
    "- RandomForestClassifier with BayesSearchCV\n",
    "- PCA and Logistic Regression with GridSearchCV ★"
   ]
  },
  {
   "cell_type": "markdown",
   "id": "c295a94f-f442-473e-ae33-e870cdab9341",
   "metadata": {},
   "source": [
    "Of the models I ran, two models performed similarly based on my chosen metric which is accuracy score. Both the LogisticRegression with BayesSearchCV and LogisticRegression with PCA and GridSearchCV performed similarly well.\n",
    "\n",
    "The first model I created and test was the basic Logistic Regression model. When I ran it with default parameters it was overfit to the training data (0.99 accuracy score on train and 0.84 accuracy score on test which is evidence of overfitting). I then used a BayesSearchCV to search for optimal parameters for the RandomForestClassifier model. At the time of comparison, the Random Forest was a better model than basic LogisticRegression even though accuracy, recall, and precision were lower because it performed similarly on train and test. It was not overfit like the logreg. \n",
    "\n",
    "I then decided to go back to my Linear Regression, but combine it with PCA (principal component analysis) because I have a lot of features in my dataset. Since my dataset was imbalanced, I also added the class_weight = ‘balanced’ parameter to my LogisticRegression. I used gridsearchcv mainly because my computer was not happy with me using the BayesSearchCV. My scores were much better than my RandomForest model. I think PCA with BayesSearchCV could potentially be a better model, but due to my computer not being able to handle it, I wasn't able to do a thorough search of the parameters.\n",
    "\n",
    "\n",
    "Finally, I decided to go back and tune my basic logistic regression without PCA, but with the class_weight = balanced parameter. This model performed similarly to the one with PCA, but it does have a higher precision score. My metric was accuracy, but if  precision was my goal (minimiziing false positives - predicted Skincare addiction, but got asian beauty), I’d say go with this model."
   ]
  },
  {
   "cell_type": "code",
   "execution_count": null,
   "id": "5f7f613a-c9ca-4e13-9cf4-cdc1c60a6bb4",
   "metadata": {},
   "outputs": [],
   "source": []
  }
 ],
 "metadata": {
  "kernelspec": {
   "display_name": "Python [conda env:dsi] *",
   "language": "python",
   "name": "conda-env-dsi-py"
  },
  "language_info": {
   "codemirror_mode": {
    "name": "ipython",
    "version": 3
   },
   "file_extension": ".py",
   "mimetype": "text/x-python",
   "name": "python",
   "nbconvert_exporter": "python",
   "pygments_lexer": "ipython3",
   "version": "3.9.7"
  }
 },
 "nbformat": 4,
 "nbformat_minor": 5
}
